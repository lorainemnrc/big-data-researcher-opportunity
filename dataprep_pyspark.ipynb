{
 "cells": [
  {
   "cell_type": "markdown",
   "id": "dadcbb78-4df4-4d04-82e0-657d65c6adb8",
   "metadata": {},
   "source": [
    "# <center style=\"color: #003b7f\"> From Publication to Citation: Understanding the Factors <br/> Driving Research Recognition  </center> <a class='tocSkip'>\n",
    "    \n",
    "**MSDS 2023 Term 4 SLT1** | Loraine Menorca, BJ Enrik Yepes, Gregory del Carmen, Rozz Banquerigo\n",
    "\n",
    "This notebook is dedicated to the details of the data preprocessing steps done and serves as a supplementary to the main report of this project.\n",
    "    \n",
    "**! Note:** This was run using PySpark via AWS EMR studio. Rerunning the entire notebook outside a similar environment is not advisable.\n",
    "    \n",
    "***"
   ]
  },
  {
   "cell_type": "markdown",
   "id": "c25e53cc-3ac8-4c03-aca8-9affdf3d3f6b",
   "metadata": {},
   "source": [
    "# Introduction"
   ]
  },
  {
   "cell_type": "markdown",
   "id": "36f94a53-fc14-4d6f-9e7b-f667952b2817",
   "metadata": {},
   "source": [
    "This notebook focuses on data preprocessing, a crucial step in preparing data for further analysis or modeling. The notebook provides a step-by-step guide to transform and clean the data to ensure its quality and suitability for downstream tasks. It is important to note that running this notebook may require a significant amount of time, so it is advised to exercise caution."
   ]
  },
  {
   "cell_type": "markdown",
   "id": "0e89878b-4489-4a13-bf2a-5c18bdf46ed5",
   "metadata": {},
   "source": [
    "# Initializing Spark"
   ]
  },
  {
   "cell_type": "markdown",
   "id": "547d02b9-a8a1-4e80-b20e-d655b0971f7e",
   "metadata": {},
   "source": [
    "Before proceeding, since this notebook is executed in a PySpark kernel within an AWS EMR workspace, we initialize PySpark by calling the spark object."
   ]
  },
  {
   "cell_type": "code",
   "execution_count": 1,
   "id": "d8e30dad-99fc-42da-8450-46d0ff7938b1",
   "metadata": {
    "execution": {
     "iopub.execute_input": "2023-05-28T10:31:17.684002Z",
     "iopub.status.busy": "2023-05-28T10:31:17.683538Z",
     "iopub.status.idle": "2023-05-28T10:32:06.042443Z",
     "shell.execute_reply": "2023-05-28T10:32:06.041746Z",
     "shell.execute_reply.started": "2023-05-28T10:31:17.683973Z"
    },
    "tags": []
   },
   "outputs": [
    {
     "data": {
      "application/vnd.jupyter.widget-view+json": {
       "model_id": "04147760099147d284d2aaae7f2186a7",
       "version_major": 2,
       "version_minor": 0
      },
      "text/plain": [
       "VBox()"
      ]
     },
     "metadata": {},
     "output_type": "display_data"
    },
    {
     "name": "stdout",
     "output_type": "stream",
     "text": [
      "Starting Spark application\n"
     ]
    },
    {
     "data": {
      "text/html": [
       "<table>\n",
       "<tbody><tr><th>ID</th><th>YARN Application ID</th><th>Kind</th><th>State</th><th>Spark UI</th><th>Driver log</th><th>User</th><th>Current session?</th></tr><tr><td>0</td><td>application_1685269347426_0001</td><td>pyspark</td><td>idle</td><td><a target=\"_blank\" href=\"http://ip-172-31-28-81.ap-southeast-2.compute.internal:20888/proxy/application_1685269347426_0001/\" class=\"emr-proxy-link j-3BQGXG73RN68Z application_1685269347426_0001\" emr-resource=\"j-3BQGXG73RN68Z\n",
       "\" application-id=\"application_1685269347426_0001\">Link</a></td><td><a target=\"_blank\" href=\"http://ip-172-31-20-121.ap-southeast-2.compute.internal:8042/node/containerlogs/container_1685269347426_0001_01_000001/livy\">Link</a></td><td>None</td><td>✔</td></tr></tbody></table>"
      ],
      "text/plain": [
       "<IPython.core.display.HTML object>"
      ]
     },
     "metadata": {},
     "output_type": "display_data"
    },
    {
     "data": {
      "application/vnd.jupyter.widget-view+json": {
       "model_id": "",
       "version_major": 2,
       "version_minor": 0
      },
      "text/plain": [
       "FloatProgress(value=0.0, bar_style='info', description='Progress:', layout=Layout(height='25px', width='50%'),…"
      ]
     },
     "metadata": {},
     "output_type": "display_data"
    },
    {
     "name": "stdout",
     "output_type": "stream",
     "text": [
      "SparkSession available as 'spark'.\n"
     ]
    },
    {
     "data": {
      "application/vnd.jupyter.widget-view+json": {
       "model_id": "",
       "version_major": 2,
       "version_minor": 0
      },
      "text/plain": [
       "FloatProgress(value=0.0, bar_style='info', description='Progress:', layout=Layout(height='25px', width='50%'),…"
      ]
     },
     "metadata": {},
     "output_type": "display_data"
    },
    {
     "name": "stdout",
     "output_type": "stream",
     "text": [
      "<pyspark.sql.session.SparkSession object at 0x7ff87b5ca690>"
     ]
    }
   ],
   "source": [
    "spark"
   ]
  },
  {
   "cell_type": "code",
   "execution_count": 8,
   "id": "14f34832-537a-46f6-b6ae-e24bcfb92de5",
   "metadata": {
    "execution": {
     "iopub.execute_input": "2023-05-28T12:07:42.874957Z",
     "iopub.status.busy": "2023-05-28T12:07:42.874634Z",
     "iopub.status.idle": "2023-05-28T12:07:50.163022Z",
     "shell.execute_reply": "2023-05-28T12:07:50.162185Z",
     "shell.execute_reply.started": "2023-05-28T12:07:42.874930Z"
    }
   },
   "outputs": [
    {
     "data": {
      "application/vnd.jupyter.widget-view+json": {
       "model_id": "8e72388a344f4447ab4ec6f47361388e",
       "version_major": 2,
       "version_minor": 0
      },
      "text/plain": [
       "VBox()"
      ]
     },
     "metadata": {},
     "output_type": "display_data"
    },
    {
     "data": {
      "application/vnd.jupyter.widget-view+json": {
       "model_id": "",
       "version_major": 2,
       "version_minor": 0
      },
      "text/plain": [
       "FloatProgress(value=0.0, bar_style='info', description='Progress:', layout=Layout(height='25px', width='50%'),…"
      ]
     },
     "metadata": {},
     "output_type": "display_data"
    },
    {
     "name": "stdout",
     "output_type": "stream",
     "text": [
      "Requirement already satisfied: numpy in /usr/local/lib64/python3.7/site-packages (1.20.0)\n",
      "\n",
      "Collecting pandas\n",
      "  Downloading pandas-1.3.5-cp37-cp37m-manylinux_2_17_x86_64.manylinux2014_x86_64.whl (11.3 MB)\n",
      "Collecting python-dateutil>=2.7.3\n",
      "  Downloading python_dateutil-2.8.2-py2.py3-none-any.whl (247 kB)\n",
      "Requirement already satisfied: numpy>=1.17.3; platform_machine != \"aarch64\" and platform_machine != \"arm64\" and python_version < \"3.10\" in /usr/local/lib64/python3.7/site-packages (from pandas) (1.20.0)\n",
      "Requirement already satisfied: pytz>=2017.3 in /usr/local/lib/python3.7/site-packages (from pandas) (2022.7)\n",
      "Requirement already satisfied: six>=1.5 in /usr/local/lib/python3.7/site-packages (from python-dateutil>=2.7.3->pandas) (1.13.0)\n",
      "Installing collected packages: python-dateutil, pandas\n",
      "Successfully installed pandas-1.3.5 python-dateutil-2.8.2\n",
      "\n",
      "WARNING: The directory '/home/.cache/pip' or its parent directory is not owned or is not writable by the current user. The cache has been disabled. Check the permissions and owner of that directory. If executing pip with sudo, you may want sudo's -H flag.\n",
      "\n",
      "WARNING: The directory '/home/.cache/pip' or its parent directory is not owned or is not writable by the current user. The cache has been disabled. Check the permissions and owner of that directory. If executing pip with sudo, you may want sudo's -H flag."
     ]
    }
   ],
   "source": [
    "sc.install_pypi_package('numpy')\n",
    "sc.install_pypi_package('pandas')"
   ]
  },
  {
   "cell_type": "markdown",
   "id": "fb23c060-13a8-4466-9a72-c338f4da3a8f",
   "metadata": {},
   "source": [
    "# Data Preprocessing"
   ]
  },
  {
   "cell_type": "markdown",
   "id": "1497b6eb-874c-45c4-a0c6-81c3e1617ee5",
   "metadata": {},
   "source": [
    "## Loading the Data"
   ]
  },
  {
   "cell_type": "markdown",
   "id": "de773cdd-638a-4671-ad71-46b1c495ed2e",
   "metadata": {},
   "source": [
    "The notebook starts by loading the dataset into a PySpark DataFrame. This involves initializing the SparkSession (which we have already done earlier) and reading the data from parquet files, which provide efficient columnar storage.\n",
    "\n",
    "The dataset is loaded from the following location: s3://s3bucketemr/crossref.parquet/. These parquet files have been transformed from the original JSON files to optimize loading speed by leveraging the columnar format of parquet files."
   ]
  },
  {
   "cell_type": "code",
   "execution_count": 173,
   "id": "92f178ef-3bfa-4bc3-9874-0cf55268429e",
   "metadata": {
    "execution": {
     "iopub.execute_input": "2023-05-28T15:31:10.588139Z",
     "iopub.status.busy": "2023-05-28T15:31:10.587646Z",
     "iopub.status.idle": "2023-05-28T15:31:21.911592Z",
     "shell.execute_reply": "2023-05-28T15:31:21.910758Z",
     "shell.execute_reply.started": "2023-05-28T15:31:10.588110Z"
    },
    "tags": []
   },
   "outputs": [
    {
     "data": {
      "application/vnd.jupyter.widget-view+json": {
       "model_id": "c0347591ca944855bb3cc7b308517c7c",
       "version_major": 2,
       "version_minor": 0
      },
      "text/plain": [
       "VBox()"
      ]
     },
     "metadata": {},
     "output_type": "display_data"
    },
    {
     "data": {
      "application/vnd.jupyter.widget-view+json": {
       "model_id": "",
       "version_major": 2,
       "version_minor": 0
      },
      "text/plain": [
       "FloatProgress(value=0.0, bar_style='info', description='Progress:', layout=Layout(height='25px', width='50%'),…"
      ]
     },
     "metadata": {},
     "output_type": "display_data"
    }
   ],
   "source": [
    "fpath = 's3://s3bucketemr/crossref.parquet/'\n",
    "\n",
    "df_all = (spark.read.parquet(\n",
    "    fpath, header=True,\n",
    "    inferSchema=True).select('col.*'))"
   ]
  },
  {
   "cell_type": "markdown",
   "id": "11dc9ac0-be9c-43e8-9c91-1c447854acc5",
   "metadata": {},
   "source": [
    "Here is the schema of the raw files. As you can observe, the dataframe is highly nested. To carry out effective machine learning tasks, we must initially choose the relevant columns and perform data cleaning on the selected columns."
   ]
  },
  {
   "cell_type": "code",
   "execution_count": 6,
   "id": "9cd86ea3-3aae-43cc-98a4-84343a969fe2",
   "metadata": {
    "collapsed": true,
    "execution": {
     "iopub.execute_input": "2023-05-28T12:00:56.549776Z",
     "iopub.status.busy": "2023-05-28T12:00:56.549474Z",
     "iopub.status.idle": "2023-05-28T12:00:56.814133Z",
     "shell.execute_reply": "2023-05-28T12:00:56.813247Z",
     "shell.execute_reply.started": "2023-05-28T12:00:56.549751Z"
    },
    "jupyter": {
     "outputs_hidden": true
    },
    "tags": []
   },
   "outputs": [
    {
     "data": {
      "application/vnd.jupyter.widget-view+json": {
       "model_id": "b05b32f8e8a04774a7323ad745b1d1b5",
       "version_major": 2,
       "version_minor": 0
      },
      "text/plain": [
       "VBox()"
      ]
     },
     "metadata": {},
     "output_type": "display_data"
    },
    {
     "data": {
      "application/vnd.jupyter.widget-view+json": {
       "model_id": "",
       "version_major": 2,
       "version_minor": 0
      },
      "text/plain": [
       "FloatProgress(value=0.0, bar_style='info', description='Progress:', layout=Layout(height='25px', width='50%'),…"
      ]
     },
     "metadata": {},
     "output_type": "display_data"
    },
    {
     "name": "stdout",
     "output_type": "stream",
     "text": [
      "root\n",
      " |-- DOI: string (nullable = true)\n",
      " |-- ISBN: array (nullable = true)\n",
      " |    |-- element: string (containsNull = true)\n",
      " |-- ISSN: array (nullable = true)\n",
      " |    |-- element: string (containsNull = true)\n",
      " |-- URL: string (nullable = true)\n",
      " |-- abstract: string (nullable = true)\n",
      " |-- accepted: struct (nullable = true)\n",
      " |    |-- date-parts: array (nullable = true)\n",
      " |    |    |-- element: array (containsNull = true)\n",
      " |    |    |    |-- element: long (containsNull = true)\n",
      " |-- alternative-id: array (nullable = true)\n",
      " |    |-- element: string (containsNull = true)\n",
      " |-- approved: struct (nullable = true)\n",
      " |    |-- date-parts: array (nullable = true)\n",
      " |    |    |-- element: array (containsNull = true)\n",
      " |    |    |    |-- element: long (containsNull = true)\n",
      " |-- archive: array (nullable = true)\n",
      " |    |-- element: string (containsNull = true)\n",
      " |-- article-number: string (nullable = true)\n",
      " |-- assertion: array (nullable = true)\n",
      " |    |-- element: struct (containsNull = true)\n",
      " |    |    |-- URL: string (nullable = true)\n",
      " |    |    |-- explanation: struct (nullable = true)\n",
      " |    |    |    |-- URL: string (nullable = true)\n",
      " |    |    |-- group: struct (nullable = true)\n",
      " |    |    |    |-- label: string (nullable = true)\n",
      " |    |    |    |-- name: string (nullable = true)\n",
      " |    |    |-- label: string (nullable = true)\n",
      " |    |    |-- name: string (nullable = true)\n",
      " |    |    |-- order: long (nullable = true)\n",
      " |    |    |-- value: string (nullable = true)\n",
      " |-- author: array (nullable = true)\n",
      " |    |-- element: struct (containsNull = true)\n",
      " |    |    |-- ORCID: string (nullable = true)\n",
      " |    |    |-- affiliation: array (nullable = true)\n",
      " |    |    |    |-- element: struct (containsNull = true)\n",
      " |    |    |    |    |-- acronym: array (nullable = true)\n",
      " |    |    |    |    |    |-- element: string (containsNull = true)\n",
      " |    |    |    |    |-- department: array (nullable = true)\n",
      " |    |    |    |    |    |-- element: string (containsNull = true)\n",
      " |    |    |    |    |-- id: array (nullable = true)\n",
      " |    |    |    |    |    |-- element: struct (containsNull = true)\n",
      " |    |    |    |    |    |    |-- asserted-by: string (nullable = true)\n",
      " |    |    |    |    |    |    |-- id: string (nullable = true)\n",
      " |    |    |    |    |    |    |-- id-type: string (nullable = true)\n",
      " |    |    |    |    |-- name: string (nullable = true)\n",
      " |    |    |    |    |-- place: array (nullable = true)\n",
      " |    |    |    |    |    |-- element: string (containsNull = true)\n",
      " |    |    |-- authenticated-orcid: boolean (nullable = true)\n",
      " |    |    |-- family: string (nullable = true)\n",
      " |    |    |-- given: string (nullable = true)\n",
      " |    |    |-- name: string (nullable = true)\n",
      " |    |    |-- sequence: string (nullable = true)\n",
      " |    |    |-- suffix: string (nullable = true)\n",
      " |-- award: string (nullable = true)\n",
      " |-- award-start: struct (nullable = true)\n",
      " |    |-- date-parts: array (nullable = true)\n",
      " |    |    |-- element: array (containsNull = true)\n",
      " |    |    |    |-- element: long (containsNull = true)\n",
      " |-- chair: array (nullable = true)\n",
      " |    |-- element: struct (containsNull = true)\n",
      " |    |    |-- ORCID: string (nullable = true)\n",
      " |    |    |-- affiliation: array (nullable = true)\n",
      " |    |    |    |-- element: struct (containsNull = true)\n",
      " |    |    |    |    |-- department: array (nullable = true)\n",
      " |    |    |    |    |    |-- element: string (containsNull = true)\n",
      " |    |    |    |    |-- id: array (nullable = true)\n",
      " |    |    |    |    |    |-- element: struct (containsNull = true)\n",
      " |    |    |    |    |    |    |-- asserted-by: string (nullable = true)\n",
      " |    |    |    |    |    |    |-- id: string (nullable = true)\n",
      " |    |    |    |    |    |    |-- id-type: string (nullable = true)\n",
      " |    |    |    |    |-- name: string (nullable = true)\n",
      " |    |    |-- authenticated-orcid: boolean (nullable = true)\n",
      " |    |    |-- family: string (nullable = true)\n",
      " |    |    |-- given: string (nullable = true)\n",
      " |    |    |-- name: string (nullable = true)\n",
      " |    |    |-- sequence: string (nullable = true)\n",
      " |    |    |-- suffix: string (nullable = true)\n",
      " |-- clinical-trial-number: array (nullable = true)\n",
      " |    |-- element: struct (containsNull = true)\n",
      " |    |    |-- clinical-trial-number: string (nullable = true)\n",
      " |    |    |-- registry: string (nullable = true)\n",
      " |    |    |-- type: string (nullable = true)\n",
      " |-- container-title: array (nullable = true)\n",
      " |    |-- element: string (containsNull = true)\n",
      " |-- content-created: struct (nullable = true)\n",
      " |    |-- date-parts: array (nullable = true)\n",
      " |    |    |-- element: array (containsNull = true)\n",
      " |    |    |    |-- element: long (containsNull = true)\n",
      " |-- content-domain: struct (nullable = true)\n",
      " |    |-- crossmark-restriction: boolean (nullable = true)\n",
      " |    |-- domain: array (nullable = true)\n",
      " |    |    |-- element: string (containsNull = true)\n",
      " |-- content-updated: struct (nullable = true)\n",
      " |    |-- date-parts: array (nullable = true)\n",
      " |    |    |-- element: array (containsNull = true)\n",
      " |    |    |    |-- element: long (containsNull = true)\n",
      " |-- created: struct (nullable = true)\n",
      " |    |-- date-parts: array (nullable = true)\n",
      " |    |    |-- element: array (containsNull = true)\n",
      " |    |    |    |-- element: long (containsNull = true)\n",
      " |    |-- date-time: string (nullable = true)\n",
      " |    |-- timestamp: long (nullable = true)\n",
      " |-- degree: array (nullable = true)\n",
      " |    |-- element: string (containsNull = true)\n",
      " |-- deposited: struct (nullable = true)\n",
      " |    |-- date-parts: array (nullable = true)\n",
      " |    |    |-- element: array (containsNull = true)\n",
      " |    |    |    |-- element: long (containsNull = true)\n",
      " |    |-- date-time: string (nullable = true)\n",
      " |    |-- timestamp: long (nullable = true)\n",
      " |-- description: string (nullable = true)\n",
      " |-- edition-number: string (nullable = true)\n",
      " |-- editor: array (nullable = true)\n",
      " |    |-- element: struct (containsNull = true)\n",
      " |    |    |-- ORCID: string (nullable = true)\n",
      " |    |    |-- affiliation: array (nullable = true)\n",
      " |    |    |    |-- element: struct (containsNull = true)\n",
      " |    |    |    |    |-- acronym: array (nullable = true)\n",
      " |    |    |    |    |    |-- element: string (containsNull = true)\n",
      " |    |    |    |    |-- department: array (nullable = true)\n",
      " |    |    |    |    |    |-- element: string (containsNull = true)\n",
      " |    |    |    |    |-- id: array (nullable = true)\n",
      " |    |    |    |    |    |-- element: struct (containsNull = true)\n",
      " |    |    |    |    |    |    |-- asserted-by: string (nullable = true)\n",
      " |    |    |    |    |    |    |-- id: string (nullable = true)\n",
      " |    |    |    |    |    |    |-- id-type: string (nullable = true)\n",
      " |    |    |    |    |-- name: string (nullable = true)\n",
      " |    |    |    |    |-- place: array (nullable = true)\n",
      " |    |    |    |    |    |-- element: string (containsNull = true)\n",
      " |    |    |-- authenticated-orcid: boolean (nullable = true)\n",
      " |    |    |-- family: string (nullable = true)\n",
      " |    |    |-- given: string (nullable = true)\n",
      " |    |    |-- name: string (nullable = true)\n",
      " |    |    |-- sequence: string (nullable = true)\n",
      " |    |    |-- suffix: string (nullable = true)\n",
      " |-- event: struct (nullable = true)\n",
      " |    |-- acronym: string (nullable = true)\n",
      " |    |-- end: struct (nullable = true)\n",
      " |    |    |-- date-parts: array (nullable = true)\n",
      " |    |    |    |-- element: array (containsNull = true)\n",
      " |    |    |    |    |-- element: long (containsNull = true)\n",
      " |    |-- location: string (nullable = true)\n",
      " |    |-- name: string (nullable = true)\n",
      " |    |-- number: string (nullable = true)\n",
      " |    |-- sponsor: array (nullable = true)\n",
      " |    |    |-- element: string (containsNull = true)\n",
      " |    |-- start: struct (nullable = true)\n",
      " |    |    |-- date-parts: array (nullable = true)\n",
      " |    |    |    |-- element: array (containsNull = true)\n",
      " |    |    |    |    |-- element: long (containsNull = true)\n",
      " |    |-- theme: string (nullable = true)\n",
      " |-- funder: array (nullable = true)\n",
      " |    |-- element: struct (containsNull = true)\n",
      " |    |    |-- DOI: string (nullable = true)\n",
      " |    |    |-- award: array (nullable = true)\n",
      " |    |    |    |-- element: string (containsNull = true)\n",
      " |    |    |-- doi-asserted-by: string (nullable = true)\n",
      " |    |    |-- name: string (nullable = true)\n",
      " |-- group-title: string (nullable = true)\n",
      " |-- indexed: struct (nullable = true)\n",
      " |    |-- date-parts: array (nullable = true)\n",
      " |    |    |-- element: array (containsNull = true)\n",
      " |    |    |    |-- element: long (containsNull = true)\n",
      " |    |-- date-time: string (nullable = true)\n",
      " |    |-- timestamp: long (nullable = true)\n",
      " |-- institution: array (nullable = true)\n",
      " |    |-- element: struct (containsNull = true)\n",
      " |    |    |-- acronym: array (nullable = true)\n",
      " |    |    |    |-- element: string (containsNull = true)\n",
      " |    |    |-- department: array (nullable = true)\n",
      " |    |    |    |-- element: string (containsNull = true)\n",
      " |    |    |-- id: array (nullable = true)\n",
      " |    |    |    |-- element: struct (containsNull = true)\n",
      " |    |    |    |    |-- asserted-by: string (nullable = true)\n",
      " |    |    |    |    |-- id: string (nullable = true)\n",
      " |    |    |    |    |-- id-type: string (nullable = true)\n",
      " |    |    |-- name: string (nullable = true)\n",
      " |    |    |-- place: array (nullable = true)\n",
      " |    |    |    |-- element: string (containsNull = true)\n",
      " |-- is-referenced-by-count: long (nullable = true)\n",
      " |-- isbn-type: array (nullable = true)\n",
      " |    |-- element: struct (containsNull = true)\n",
      " |    |    |-- type: string (nullable = true)\n",
      " |    |    |-- value: string (nullable = true)\n",
      " |-- issn-type: array (nullable = true)\n",
      " |    |-- element: struct (containsNull = true)\n",
      " |    |    |-- type: string (nullable = true)\n",
      " |    |    |-- value: string (nullable = true)\n",
      " |-- issue: string (nullable = true)\n",
      " |-- issued: struct (nullable = true)\n",
      " |    |-- date-parts: array (nullable = true)\n",
      " |    |    |-- element: array (containsNull = true)\n",
      " |    |    |    |-- element: long (containsNull = true)\n",
      " |-- journal-issue: struct (nullable = true)\n",
      " |    |-- issue: string (nullable = true)\n",
      " |    |-- published-online: struct (nullable = true)\n",
      " |    |    |-- date-parts: array (nullable = true)\n",
      " |    |    |    |-- element: array (containsNull = true)\n",
      " |    |    |    |    |-- element: long (containsNull = true)\n",
      " |    |-- published-print: struct (nullable = true)\n",
      " |    |    |-- date-parts: array (nullable = true)\n",
      " |    |    |    |-- element: array (containsNull = true)\n",
      " |    |    |    |    |-- element: long (containsNull = true)\n",
      " |-- language: string (nullable = true)\n",
      " |-- license: array (nullable = true)\n",
      " |    |-- element: struct (containsNull = true)\n",
      " |    |    |-- URL: string (nullable = true)\n",
      " |    |    |-- content-version: string (nullable = true)\n",
      " |    |    |-- delay-in-days: long (nullable = true)\n",
      " |    |    |-- start: struct (nullable = true)\n",
      " |    |    |    |-- date-parts: array (nullable = true)\n",
      " |    |    |    |    |-- element: array (containsNull = true)\n",
      " |    |    |    |    |    |-- element: long (containsNull = true)\n",
      " |    |    |    |-- date-time: string (nullable = true)\n",
      " |    |    |    |-- timestamp: long (nullable = true)\n",
      " |-- link: array (nullable = true)\n",
      " |    |-- element: struct (containsNull = true)\n",
      " |    |    |-- URL: string (nullable = true)\n",
      " |    |    |-- content-type: string (nullable = true)\n",
      " |    |    |-- content-version: string (nullable = true)\n",
      " |    |    |-- intended-application: string (nullable = true)\n",
      " |-- member: string (nullable = true)\n",
      " |-- original-title: array (nullable = true)\n",
      " |    |-- element: string (containsNull = true)\n",
      " |-- page: string (nullable = true)\n",
      " |-- part-number: string (nullable = true)\n",
      " |-- posted: struct (nullable = true)\n",
      " |    |-- date-parts: array (nullable = true)\n",
      " |    |    |-- element: array (containsNull = true)\n",
      " |    |    |    |-- element: long (containsNull = true)\n",
      " |-- prefix: string (nullable = true)\n",
      " |-- project: array (nullable = true)\n",
      " |    |-- element: struct (containsNull = true)\n",
      " |    |    |-- award-amount: struct (nullable = true)\n",
      " |    |    |    |-- amount: double (nullable = true)\n",
      " |    |    |    |-- currency: string (nullable = true)\n",
      " |    |    |-- award-end: struct (nullable = true)\n",
      " |    |    |    |-- date-parts: array (nullable = true)\n",
      " |    |    |    |    |-- element: array (containsNull = true)\n",
      " |    |    |    |    |    |-- element: long (containsNull = true)\n",
      " |    |    |-- award-planned-end: struct (nullable = true)\n",
      " |    |    |    |-- date-parts: array (nullable = true)\n",
      " |    |    |    |    |-- element: array (containsNull = true)\n",
      " |    |    |    |    |    |-- element: long (containsNull = true)\n",
      " |    |    |-- award-start: struct (nullable = true)\n",
      " |    |    |    |-- date-parts: array (nullable = true)\n",
      " |    |    |    |    |-- element: array (containsNull = true)\n",
      " |    |    |    |    |    |-- element: long (containsNull = true)\n",
      " |    |    |-- co-lead-investigator: array (nullable = true)\n",
      " |    |    |    |-- element: struct (containsNull = true)\n",
      " |    |    |    |    |-- ORCID: string (nullable = true)\n",
      " |    |    |    |    |-- affiliation: array (nullable = true)\n",
      " |    |    |    |    |    |-- element: struct (containsNull = true)\n",
      " |    |    |    |    |    |    |-- country: string (nullable = true)\n",
      " |    |    |    |    |    |    |-- id: array (nullable = true)\n",
      " |    |    |    |    |    |    |    |-- element: struct (containsNull = true)\n",
      " |    |    |    |    |    |    |    |    |-- asserted-by: string (nullable = true)\n",
      " |    |    |    |    |    |    |    |    |-- id: string (nullable = true)\n",
      " |    |    |    |    |    |    |    |    |-- id-type: string (nullable = true)\n",
      " |    |    |    |    |    |    |-- name: string (nullable = true)\n",
      " |    |    |    |    |-- authenticated-orcid: boolean (nullable = true)\n",
      " |    |    |    |    |-- family: string (nullable = true)\n",
      " |    |    |    |    |-- given: string (nullable = true)\n",
      " |    |    |    |    |-- role-end: struct (nullable = true)\n",
      " |    |    |    |    |    |-- date-parts: array (nullable = true)\n",
      " |    |    |    |    |    |    |-- element: array (containsNull = true)\n",
      " |    |    |    |    |    |    |    |-- element: long (containsNull = true)\n",
      " |    |    |    |    |-- role-start: struct (nullable = true)\n",
      " |    |    |    |    |    |-- date-parts: array (nullable = true)\n",
      " |    |    |    |    |    |    |-- element: array (containsNull = true)\n",
      " |    |    |    |    |    |    |    |-- element: long (containsNull = true)\n",
      " |    |    |-- funding: array (nullable = true)\n",
      " |    |    |    |-- element: struct (containsNull = true)\n",
      " |    |    |    |    |-- award-amount: struct (nullable = true)\n",
      " |    |    |    |    |    |-- amount: double (nullable = true)\n",
      " |    |    |    |    |    |-- currency: string (nullable = true)\n",
      " |    |    |    |    |    |-- percentage: long (nullable = true)\n",
      " |    |    |    |    |-- funder: struct (nullable = true)\n",
      " |    |    |    |    |    |-- id: array (nullable = true)\n",
      " |    |    |    |    |    |    |-- element: struct (containsNull = true)\n",
      " |    |    |    |    |    |    |    |-- asserted-by: string (nullable = true)\n",
      " |    |    |    |    |    |    |    |-- id: string (nullable = true)\n",
      " |    |    |    |    |    |    |    |-- id-type: string (nullable = true)\n",
      " |    |    |    |    |    |-- name: string (nullable = true)\n",
      " |    |    |    |    |-- scheme: string (nullable = true)\n",
      " |    |    |    |    |-- type: string (nullable = true)\n",
      " |    |    |-- investigator: array (nullable = true)\n",
      " |    |    |    |-- element: struct (containsNull = true)\n",
      " |    |    |    |    |-- ORCID: string (nullable = true)\n",
      " |    |    |    |    |-- affiliation: array (nullable = true)\n",
      " |    |    |    |    |    |-- element: struct (containsNull = true)\n",
      " |    |    |    |    |    |    |-- country: string (nullable = true)\n",
      " |    |    |    |    |    |    |-- id: array (nullable = true)\n",
      " |    |    |    |    |    |    |    |-- element: struct (containsNull = true)\n",
      " |    |    |    |    |    |    |    |    |-- asserted-by: string (nullable = true)\n",
      " |    |    |    |    |    |    |    |    |-- id: string (nullable = true)\n",
      " |    |    |    |    |    |    |    |    |-- id-type: string (nullable = true)\n",
      " |    |    |    |    |    |    |-- name: string (nullable = true)\n",
      " |    |    |    |    |-- alternate-name: array (nullable = true)\n",
      " |    |    |    |    |    |-- element: string (containsNull = true)\n",
      " |    |    |    |    |-- authenticated-orcid: boolean (nullable = true)\n",
      " |    |    |    |    |-- family: string (nullable = true)\n",
      " |    |    |    |    |-- given: string (nullable = true)\n",
      " |    |    |    |    |-- role-start: struct (nullable = true)\n",
      " |    |    |    |    |    |-- date-parts: array (nullable = true)\n",
      " |    |    |    |    |    |    |-- element: array (containsNull = true)\n",
      " |    |    |    |    |    |    |    |-- element: long (containsNull = true)\n",
      " |    |    |-- lead-investigator: array (nullable = true)\n",
      " |    |    |    |-- element: struct (containsNull = true)\n",
      " |    |    |    |    |-- ORCID: string (nullable = true)\n",
      " |    |    |    |    |-- affiliation: array (nullable = true)\n",
      " |    |    |    |    |    |-- element: struct (containsNull = true)\n",
      " |    |    |    |    |    |    |-- country: string (nullable = true)\n",
      " |    |    |    |    |    |    |-- id: array (nullable = true)\n",
      " |    |    |    |    |    |    |    |-- element: struct (containsNull = true)\n",
      " |    |    |    |    |    |    |    |    |-- asserted-by: string (nullable = true)\n",
      " |    |    |    |    |    |    |    |    |-- id: string (nullable = true)\n",
      " |    |    |    |    |    |    |    |    |-- id-type: string (nullable = true)\n",
      " |    |    |    |    |    |    |-- name: string (nullable = true)\n",
      " |    |    |    |    |-- alternate-name: array (nullable = true)\n",
      " |    |    |    |    |    |-- element: string (containsNull = true)\n",
      " |    |    |    |    |-- authenticated-orcid: boolean (nullable = true)\n",
      " |    |    |    |    |-- family: string (nullable = true)\n",
      " |    |    |    |    |-- given: string (nullable = true)\n",
      " |    |    |    |    |-- role-end: struct (nullable = true)\n",
      " |    |    |    |    |    |-- date-parts: array (nullable = true)\n",
      " |    |    |    |    |    |    |-- element: array (containsNull = true)\n",
      " |    |    |    |    |    |    |    |-- element: long (containsNull = true)\n",
      " |    |    |    |    |-- role-start: struct (nullable = true)\n",
      " |    |    |    |    |    |-- date-parts: array (nullable = true)\n",
      " |    |    |    |    |    |    |-- element: array (containsNull = true)\n",
      " |    |    |    |    |    |    |    |-- element: long (containsNull = true)\n",
      " |    |    |-- project-description: array (nullable = true)\n",
      " |    |    |    |-- element: struct (containsNull = true)\n",
      " |    |    |    |    |-- description: string (nullable = true)\n",
      " |    |    |    |    |-- language: string (nullable = true)\n",
      " |    |    |-- project-title: array (nullable = true)\n",
      " |    |    |    |-- element: struct (containsNull = true)\n",
      " |    |    |    |    |-- language: string (nullable = true)\n",
      " |    |    |    |    |-- title: string (nullable = true)\n",
      " |-- published: struct (nullable = true)\n",
      " |    |-- date-parts: array (nullable = true)\n",
      " |    |    |-- element: array (containsNull = true)\n",
      " |    |    |    |-- element: long (containsNull = true)\n",
      " |-- published-online: struct (nullable = true)\n",
      " |    |-- date-parts: array (nullable = true)\n",
      " |    |    |-- element: array (containsNull = true)\n",
      " |    |    |    |-- element: long (containsNull = true)\n",
      " |-- published-other: struct (nullable = true)\n",
      " |    |-- date-parts: array (nullable = true)\n",
      " |    |    |-- element: array (containsNull = true)\n",
      " |    |    |    |-- element: long (containsNull = true)\n",
      " |-- published-print: struct (nullable = true)\n",
      " |    |-- date-parts: array (nullable = true)\n",
      " |    |    |-- element: array (containsNull = true)\n",
      " |    |    |    |-- element: long (containsNull = true)\n",
      " |-- publisher: string (nullable = true)\n",
      " |-- publisher-location: string (nullable = true)\n",
      " |-- reference: array (nullable = true)\n",
      " |    |-- element: struct (containsNull = true)\n",
      " |    |    |-- DOI: string (nullable = true)\n",
      " |    |    |-- ISBN: string (nullable = true)\n",
      " |    |    |-- ISSN: string (nullable = true)\n",
      " |    |    |-- article-title: string (nullable = true)\n",
      " |    |    |-- author: string (nullable = true)\n",
      " |    |    |-- component: string (nullable = true)\n",
      " |    |    |-- doi-asserted-by: string (nullable = true)\n",
      " |    |    |-- edition: string (nullable = true)\n",
      " |    |    |-- first-page: string (nullable = true)\n",
      " |    |    |-- isbn-type: string (nullable = true)\n",
      " |    |    |-- issn-type: string (nullable = true)\n",
      " |    |    |-- issue: string (nullable = true)\n",
      " |    |    |-- journal-title: string (nullable = true)\n",
      " |    |    |-- key: string (nullable = true)\n",
      " |    |    |-- series-title: string (nullable = true)\n",
      " |    |    |-- standard-designator: string (nullable = true)\n",
      " |    |    |-- standards-body: string (nullable = true)\n",
      " |    |    |-- unstructured: string (nullable = true)\n",
      " |    |    |-- volume: string (nullable = true)\n",
      " |    |    |-- volume-title: string (nullable = true)\n",
      " |    |    |-- year: string (nullable = true)\n",
      " |-- reference-count: long (nullable = true)\n",
      " |-- references-count: long (nullable = true)\n",
      " |-- relation: struct (nullable = true)\n",
      " |    |-- based-on-data: array (nullable = true)\n",
      " |    |    |-- element: struct (containsNull = true)\n",
      " |    |    |    |-- asserted-by: string (nullable = true)\n",
      " |    |    |    |-- id: string (nullable = true)\n",
      " |    |    |    |-- id-type: string (nullable = true)\n",
      " |    |-- compiles: array (nullable = true)\n",
      " |    |    |-- element: struct (containsNull = true)\n",
      " |    |    |    |-- asserted-by: string (nullable = true)\n",
      " |    |    |    |-- id: string (nullable = true)\n",
      " |    |    |    |-- id-type: string (nullable = true)\n",
      " |    |-- continues: array (nullable = true)\n",
      " |    |    |-- element: struct (containsNull = true)\n",
      " |    |    |    |-- asserted-by: string (nullable = true)\n",
      " |    |    |    |-- id: string (nullable = true)\n",
      " |    |    |    |-- id-type: string (nullable = true)\n",
      " |    |-- documents: array (nullable = true)\n",
      " |    |    |-- element: struct (containsNull = true)\n",
      " |    |    |    |-- asserted-by: string (nullable = true)\n",
      " |    |    |    |-- id: string (nullable = true)\n",
      " |    |    |    |-- id-type: string (nullable = true)\n",
      " |    |-- finances: array (nullable = true)\n",
      " |    |    |-- element: struct (containsNull = true)\n",
      " |    |    |    |-- asserted-by: string (nullable = true)\n",
      " |    |    |    |-- id: string (nullable = true)\n",
      " |    |    |    |-- id-type: string (nullable = true)\n",
      " |    |-- has-comment: array (nullable = true)\n",
      " |    |    |-- element: struct (containsNull = true)\n",
      " |    |    |    |-- asserted-by: string (nullable = true)\n",
      " |    |    |    |-- id: string (nullable = true)\n",
      " |    |    |    |-- id-type: string (nullable = true)\n",
      " |    |-- has-derivation: array (nullable = true)\n",
      " |    |    |-- element: struct (containsNull = true)\n",
      " |    |    |    |-- asserted-by: string (nullable = true)\n",
      " |    |    |    |-- id: string (nullable = true)\n",
      " |    |    |    |-- id-type: string (nullable = true)\n",
      " |    |-- has-expression: array (nullable = true)\n",
      " |    |    |-- element: struct (containsNull = true)\n",
      " |    |    |    |-- asserted-by: string (nullable = true)\n",
      " |    |    |    |-- id: string (nullable = true)\n",
      " |    |    |    |-- id-type: string (nullable = true)\n",
      " |    |-- has-format: array (nullable = true)\n",
      " |    |    |-- element: struct (containsNull = true)\n",
      " |    |    |    |-- asserted-by: string (nullable = true)\n",
      " |    |    |    |-- id: string (nullable = true)\n",
      " |    |    |    |-- id-type: string (nullable = true)\n",
      " |    |-- has-manifestation: array (nullable = true)\n",
      " |    |    |-- element: struct (containsNull = true)\n",
      " |    |    |    |-- asserted-by: string (nullable = true)\n",
      " |    |    |    |-- id: string (nullable = true)\n",
      " |    |    |    |-- id-type: string (nullable = true)\n",
      " |    |-- has-manuscript: array (nullable = true)\n",
      " |    |    |-- element: struct (containsNull = true)\n",
      " |    |    |    |-- asserted-by: string (nullable = true)\n",
      " |    |    |    |-- id: string (nullable = true)\n",
      " |    |    |    |-- id-type: string (nullable = true)\n",
      " |    |-- has-part: array (nullable = true)\n",
      " |    |    |-- element: struct (containsNull = true)\n",
      " |    |    |    |-- asserted-by: string (nullable = true)\n",
      " |    |    |    |-- id: string (nullable = true)\n",
      " |    |    |    |-- id-type: string (nullable = true)\n",
      " |    |-- has-preprint: array (nullable = true)\n",
      " |    |    |-- element: struct (containsNull = true)\n",
      " |    |    |    |-- asserted-by: string (nullable = true)\n",
      " |    |    |    |-- id: string (nullable = true)\n",
      " |    |    |    |-- id-type: string (nullable = true)\n",
      " |    |-- has-related-material: array (nullable = true)\n",
      " |    |    |-- element: struct (containsNull = true)\n",
      " |    |    |    |-- asserted-by: string (nullable = true)\n",
      " |    |    |    |-- id: string (nullable = true)\n",
      " |    |    |    |-- id-type: string (nullable = true)\n",
      " |    |-- has-reply: array (nullable = true)\n",
      " |    |    |-- element: struct (containsNull = true)\n",
      " |    |    |    |-- asserted-by: string (nullable = true)\n",
      " |    |    |    |-- id: string (nullable = true)\n",
      " |    |    |    |-- id-type: string (nullable = true)\n",
      " |    |-- has-review: array (nullable = true)\n",
      " |    |    |-- element: struct (containsNull = true)\n",
      " |    |    |    |-- asserted-by: string (nullable = true)\n",
      " |    |    |    |-- id: string (nullable = true)\n",
      " |    |    |    |-- id-type: string (nullable = true)\n",
      " |    |-- has-translation: array (nullable = true)\n",
      " |    |    |-- element: struct (containsNull = true)\n",
      " |    |    |    |-- asserted-by: string (nullable = true)\n",
      " |    |    |    |-- id: string (nullable = true)\n",
      " |    |    |    |-- id-type: string (nullable = true)\n",
      " |    |-- has-version: array (nullable = true)\n",
      " |    |    |-- element: struct (containsNull = true)\n",
      " |    |    |    |-- asserted-by: string (nullable = true)\n",
      " |    |    |    |-- id: string (nullable = true)\n",
      " |    |    |    |-- id-type: string (nullable = true)\n",
      " |    |-- is-based-on: array (nullable = true)\n",
      " |    |    |-- element: struct (containsNull = true)\n",
      " |    |    |    |-- asserted-by: string (nullable = true)\n",
      " |    |    |    |-- id: string (nullable = true)\n",
      " |    |    |    |-- id-type: string (nullable = true)\n",
      " |    |-- is-basis-for: array (nullable = true)\n",
      " |    |    |-- element: struct (containsNull = true)\n",
      " |    |    |    |-- asserted-by: string (nullable = true)\n",
      " |    |    |    |-- id: string (nullable = true)\n",
      " |    |    |    |-- id-type: string (nullable = true)\n",
      " |    |-- is-comment-on: array (nullable = true)\n",
      " |    |    |-- element: struct (containsNull = true)\n",
      " |    |    |    |-- asserted-by: string (nullable = true)\n",
      " |    |    |    |-- id: string (nullable = true)\n",
      " |    |    |    |-- id-type: string (nullable = true)\n",
      " |    |-- is-compiled-by: array (nullable = true)\n",
      " |    |    |-- element: struct (containsNull = true)\n",
      " |    |    |    |-- asserted-by: string (nullable = true)\n",
      " |    |    |    |-- id: string (nullable = true)\n",
      " |    |    |    |-- id-type: string (nullable = true)\n",
      " |    |-- is-continued-by: array (nullable = true)\n",
      " |    |    |-- element: struct (containsNull = true)\n",
      " |    |    |    |-- asserted-by: string (nullable = true)\n",
      " |    |    |    |-- id: string (nullable = true)\n",
      " |    |    |    |-- id-type: string (nullable = true)\n",
      " |    |-- is-data-basis-for: array (nullable = true)\n",
      " |    |    |-- element: struct (containsNull = true)\n",
      " |    |    |    |-- asserted-by: string (nullable = true)\n",
      " |    |    |    |-- id: string (nullable = true)\n",
      " |    |    |    |-- id-type: string (nullable = true)\n",
      " |    |-- is-derived-from: array (nullable = true)\n",
      " |    |    |-- element: struct (containsNull = true)\n",
      " |    |    |    |-- asserted-by: string (nullable = true)\n",
      " |    |    |    |-- id: string (nullable = true)\n",
      " |    |    |    |-- id-type: string (nullable = true)\n",
      " |    |-- is-documented-by: array (nullable = true)\n",
      " |    |    |-- element: struct (containsNull = true)\n",
      " |    |    |    |-- asserted-by: string (nullable = true)\n",
      " |    |    |    |-- id: string (nullable = true)\n",
      " |    |    |    |-- id-type: string (nullable = true)\n",
      " |    |-- is-expression-of: array (nullable = true)\n",
      " |    |    |-- element: struct (containsNull = true)\n",
      " |    |    |    |-- asserted-by: string (nullable = true)\n",
      " |    |    |    |-- id: string (nullable = true)\n",
      " |    |    |    |-- id-type: string (nullable = true)\n",
      " |    |-- is-financed-by: array (nullable = true)\n",
      " |    |    |-- element: struct (containsNull = true)\n",
      " |    |    |    |-- asserted-by: string (nullable = true)\n",
      " |    |    |    |-- id: string (nullable = true)\n",
      " |    |    |    |-- id-type: string (nullable = true)\n",
      " |    |-- is-identical-to: array (nullable = true)\n",
      " |    |    |-- element: struct (containsNull = true)\n",
      " |    |    |    |-- asserted-by: string (nullable = true)\n",
      " |    |    |    |-- id: string (nullable = true)\n",
      " |    |    |    |-- id-type: string (nullable = true)\n",
      " |    |-- is-manifestation-of: array (nullable = true)\n",
      " |    |    |-- element: struct (containsNull = true)\n",
      " |    |    |    |-- asserted-by: string (nullable = true)\n",
      " |    |    |    |-- id: string (nullable = true)\n",
      " |    |    |    |-- id-type: string (nullable = true)\n",
      " |    |-- is-manuscript-of: array (nullable = true)\n",
      " |    |    |-- element: struct (containsNull = true)\n",
      " |    |    |    |-- asserted-by: string (nullable = true)\n",
      " |    |    |    |-- id: string (nullable = true)\n",
      " |    |    |    |-- id-type: string (nullable = true)\n",
      " |    |-- is-original-form-of: array (nullable = true)\n",
      " |    |    |-- element: struct (containsNull = true)\n",
      " |    |    |    |-- asserted-by: string (nullable = true)\n",
      " |    |    |    |-- id: string (nullable = true)\n",
      " |    |    |    |-- id-type: string (nullable = true)\n",
      " |    |-- is-part-of: array (nullable = true)\n",
      " |    |    |-- element: struct (containsNull = true)\n",
      " |    |    |    |-- asserted-by: string (nullable = true)\n",
      " |    |    |    |-- id: string (nullable = true)\n",
      " |    |    |    |-- id-type: string (nullable = true)\n",
      " |    |-- is-preprint-of: array (nullable = true)\n",
      " |    |    |-- element: struct (containsNull = true)\n",
      " |    |    |    |-- asserted-by: string (nullable = true)\n",
      " |    |    |    |-- id: string (nullable = true)\n",
      " |    |    |    |-- id-type: string (nullable = true)\n",
      " |    |-- is-referenced-by: array (nullable = true)\n",
      " |    |    |-- element: struct (containsNull = true)\n",
      " |    |    |    |-- asserted-by: string (nullable = true)\n",
      " |    |    |    |-- id: string (nullable = true)\n",
      " |    |    |    |-- id-type: string (nullable = true)\n",
      " |    |-- is-related-material: array (nullable = true)\n",
      " |    |    |-- element: struct (containsNull = true)\n",
      " |    |    |    |-- asserted-by: string (nullable = true)\n",
      " |    |    |    |-- id: string (nullable = true)\n",
      " |    |    |    |-- id-type: string (nullable = true)\n",
      " |    |-- is-replaced-by: array (nullable = true)\n",
      " |    |    |-- element: struct (containsNull = true)\n",
      " |    |    |    |-- asserted-by: string (nullable = true)\n",
      " |    |    |    |-- id: string (nullable = true)\n",
      " |    |    |    |-- id-type: string (nullable = true)\n",
      " |    |-- is-reply-to: array (nullable = true)\n",
      " |    |    |-- element: struct (containsNull = true)\n",
      " |    |    |    |-- asserted-by: string (nullable = true)\n",
      " |    |    |    |-- id: string (nullable = true)\n",
      " |    |    |    |-- id-type: string (nullable = true)\n",
      " |    |-- is-review-of: array (nullable = true)\n",
      " |    |    |-- element: struct (containsNull = true)\n",
      " |    |    |    |-- asserted-by: string (nullable = true)\n",
      " |    |    |    |-- id: string (nullable = true)\n",
      " |    |    |    |-- id-type: string (nullable = true)\n",
      " |    |-- is-same-as: array (nullable = true)\n",
      " |    |    |-- element: struct (containsNull = true)\n",
      " |    |    |    |-- asserted-by: string (nullable = true)\n",
      " |    |    |    |-- id: string (nullable = true)\n",
      " |    |    |    |-- id-type: string (nullable = true)\n",
      " |    |-- is-supplement-to: array (nullable = true)\n",
      " |    |    |-- element: struct (containsNull = true)\n",
      " |    |    |    |-- asserted-by: string (nullable = true)\n",
      " |    |    |    |-- id: string (nullable = true)\n",
      " |    |    |    |-- id-type: string (nullable = true)\n",
      " |    |-- is-supplemented-by: array (nullable = true)\n",
      " |    |    |-- element: struct (containsNull = true)\n",
      " |    |    |    |-- asserted-by: string (nullable = true)\n",
      " |    |    |    |-- id: string (nullable = true)\n",
      " |    |    |    |-- id-type: string (nullable = true)\n",
      " |    |-- is-translation-of: array (nullable = true)\n",
      " |    |    |-- element: struct (containsNull = true)\n",
      " |    |    |    |-- asserted-by: string (nullable = true)\n",
      " |    |    |    |-- id: string (nullable = true)\n",
      " |    |    |    |-- id-type: string (nullable = true)\n",
      " |    |-- is-variant-form-of: array (nullable = true)\n",
      " |    |    |-- element: struct (containsNull = true)\n",
      " |    |    |    |-- asserted-by: string (nullable = true)\n",
      " |    |    |    |-- id: string (nullable = true)\n",
      " |    |    |    |-- id-type: string (nullable = true)\n",
      " |    |-- is-version-of: array (nullable = true)\n",
      " |    |    |-- element: struct (containsNull = true)\n",
      " |    |    |    |-- asserted-by: string (nullable = true)\n",
      " |    |    |    |-- id: string (nullable = true)\n",
      " |    |    |    |-- id-type: string (nullable = true)\n",
      " |    |-- references: array (nullable = true)\n",
      " |    |    |-- element: struct (containsNull = true)\n",
      " |    |    |    |-- asserted-by: string (nullable = true)\n",
      " |    |    |    |-- id: string (nullable = true)\n",
      " |    |    |    |-- id-type: string (nullable = true)\n",
      " |    |-- replaces: array (nullable = true)\n",
      " |    |    |-- element: struct (containsNull = true)\n",
      " |    |    |    |-- asserted-by: string (nullable = true)\n",
      " |    |    |    |-- id: string (nullable = true)\n",
      " |    |    |    |-- id-type: string (nullable = true)\n",
      " |    |-- requires: array (nullable = true)\n",
      " |    |    |-- element: struct (containsNull = true)\n",
      " |    |    |    |-- asserted-by: string (nullable = true)\n",
      " |    |    |    |-- id: string (nullable = true)\n",
      " |    |    |    |-- id-type: string (nullable = true)\n",
      " |-- resource: struct (nullable = true)\n",
      " |    |-- primary: struct (nullable = true)\n",
      " |    |    |-- URL: string (nullable = true)\n",
      " |    |-- secondary: array (nullable = true)\n",
      " |    |    |-- element: struct (containsNull = true)\n",
      " |    |    |    |-- URL: string (nullable = true)\n",
      " |-- review: struct (nullable = true)\n",
      " |    |-- competing-interest-statement: string (nullable = true)\n",
      " |    |-- language: string (nullable = true)\n",
      " |    |-- recommendation: string (nullable = true)\n",
      " |    |-- revision-round: string (nullable = true)\n",
      " |    |-- running-number: string (nullable = true)\n",
      " |    |-- stage: string (nullable = true)\n",
      " |    |-- type: string (nullable = true)\n",
      " |-- score: double (nullable = true)\n",
      " |-- short-container-title: array (nullable = true)\n",
      " |    |-- element: string (containsNull = true)\n",
      " |-- short-title: array (nullable = true)\n",
      " |    |-- element: string (containsNull = true)\n",
      " |-- source: string (nullable = true)\n",
      " |-- standards-body: struct (nullable = true)\n",
      " |    |-- acronym: string (nullable = true)\n",
      " |    |-- name: string (nullable = true)\n",
      " |-- subject: array (nullable = true)\n",
      " |    |-- element: string (containsNull = true)\n",
      " |-- subtitle: array (nullable = true)\n",
      " |    |-- element: string (containsNull = true)\n",
      " |-- subtype: string (nullable = true)\n",
      " |-- title: array (nullable = true)\n",
      " |    |-- element: string (containsNull = true)\n",
      " |-- translator: array (nullable = true)\n",
      " |    |-- element: struct (containsNull = true)\n",
      " |    |    |-- ORCID: string (nullable = true)\n",
      " |    |    |-- affiliation: array (nullable = true)\n",
      " |    |    |    |-- element: struct (containsNull = true)\n",
      " |    |    |    |    |-- id: array (nullable = true)\n",
      " |    |    |    |    |    |-- element: struct (containsNull = true)\n",
      " |    |    |    |    |    |    |-- asserted-by: string (nullable = true)\n",
      " |    |    |    |    |    |    |-- id: string (nullable = true)\n",
      " |    |    |    |    |    |    |-- id-type: string (nullable = true)\n",
      " |    |    |    |    |-- name: string (nullable = true)\n",
      " |    |    |-- authenticated-orcid: boolean (nullable = true)\n",
      " |    |    |-- family: string (nullable = true)\n",
      " |    |    |-- given: string (nullable = true)\n",
      " |    |    |-- name: string (nullable = true)\n",
      " |    |    |-- sequence: string (nullable = true)\n",
      " |    |    |-- suffix: string (nullable = true)\n",
      " |-- type: string (nullable = true)\n",
      " |-- update-policy: string (nullable = true)\n",
      " |-- update-to: array (nullable = true)\n",
      " |    |-- element: struct (containsNull = true)\n",
      " |    |    |-- DOI: string (nullable = true)\n",
      " |    |    |-- label: string (nullable = true)\n",
      " |    |    |-- type: string (nullable = true)\n",
      " |    |    |-- updated: struct (nullable = true)\n",
      " |    |    |    |-- date-parts: array (nullable = true)\n",
      " |    |    |    |    |-- element: array (containsNull = true)\n",
      " |    |    |    |    |    |-- element: long (containsNull = true)\n",
      " |    |    |    |-- date-time: string (nullable = true)\n",
      " |    |    |    |-- timestamp: long (nullable = true)\n",
      " |-- volume: string (nullable = true)"
     ]
    }
   ],
   "source": [
    "df.printSchema()"
   ]
  },
  {
   "cell_type": "markdown",
   "id": "896d9234-c5a6-4048-a7e3-c56b55f68896",
   "metadata": {},
   "source": [
    "## Feature Selection"
   ]
  },
  {
   "cell_type": "markdown",
   "id": "1751a96a-ab75-48aa-ba4d-b77b57d06ec0",
   "metadata": {},
   "source": [
    "In this step, we retrieve the dataframe once again, but this time with a careful selection of pertinent features and target tailored for our machine learning objectives."
   ]
  },
  {
   "cell_type": "code",
   "execution_count": 233,
   "id": "f3122922-2126-417c-a004-6e828b7e3af6",
   "metadata": {
    "execution": {
     "iopub.execute_input": "2023-05-28T17:21:18.637564Z",
     "iopub.status.busy": "2023-05-28T17:21:18.637229Z",
     "iopub.status.idle": "2023-05-28T17:21:23.905528Z",
     "shell.execute_reply": "2023-05-28T17:21:23.904679Z",
     "shell.execute_reply.started": "2023-05-28T17:21:18.637538Z"
    },
    "tags": []
   },
   "outputs": [
    {
     "data": {
      "application/vnd.jupyter.widget-view+json": {
       "model_id": "2ec03c12bc0545d38eb5384816d95350",
       "version_major": 2,
       "version_minor": 0
      },
      "text/plain": [
       "VBox()"
      ]
     },
     "metadata": {},
     "output_type": "display_data"
    },
    {
     "data": {
      "application/vnd.jupyter.widget-view+json": {
       "model_id": "",
       "version_major": 2,
       "version_minor": 0
      },
      "text/plain": [
       "FloatProgress(value=0.0, bar_style='info', description='Progress:', layout=Layout(height='25px', width='50%'),…"
      ]
     },
     "metadata": {},
     "output_type": "display_data"
    }
   ],
   "source": [
    "fpath = 's3://s3bucketemr/crossref.parquet/'\n",
    "\n",
    "selected_columns = [\n",
    "    'abstract', 'title', 'author.given', 'container-title', 'published.date-parts', 'subject',\n",
    "    'publisher', 'is-referenced-by-count'\n",
    "]\n",
    "\n",
    "df_project = (spark.read.parquet(fpath,\n",
    "                                 header=True,\n",
    "                                 inferSchema=True)\n",
    "                   .select('col.*').select(selected_columns))"
   ]
  },
  {
   "cell_type": "markdown",
   "id": "85c23195-f1a8-46e4-8e6b-bf36b006a4fe",
   "metadata": {
    "execution": {
     "iopub.execute_input": "2023-05-28T17:02:37.139635Z",
     "iopub.status.busy": "2023-05-28T17:02:37.139314Z",
     "iopub.status.idle": "2023-05-28T17:02:37.199077Z",
     "shell.execute_reply": "2023-05-28T17:02:37.197856Z",
     "shell.execute_reply.started": "2023-05-28T17:02:37.139609Z"
    }
   },
   "source": [
    "## Data Cleaning"
   ]
  },
  {
   "cell_type": "markdown",
   "id": "b8717e82-23ae-4960-abeb-dd462a08c3b2",
   "metadata": {},
   "source": [
    "The subsequent sequence of actions encompasses essential data cleaning processes, encompassing operations such as data transformation, feature extraction/engineering, and null value imputation."
   ]
  },
  {
   "cell_type": "markdown",
   "id": "d9350721-f0cf-4e07-9a0b-db2881a8b7f8",
   "metadata": {},
   "source": [
    "### Data Transformation"
   ]
  },
  {
   "cell_type": "markdown",
   "id": "252e71b5-9563-483b-9587-259468be50f8",
   "metadata": {},
   "source": [
    "Furthermore, certain features in our dataset are currently represented as lists containing textual information. To simplify our machine learning tasks, we aim to convert these features into individual strings. This transformation will allow us to subsequently tokenize and vectorize the text as part of our machine learning pipeline."
   ]
  },
  {
   "cell_type": "code",
   "execution_count": 234,
   "id": "36d95c84-733b-44a7-b237-6f263dd86175",
   "metadata": {
    "execution": {
     "iopub.execute_input": "2023-05-28T17:21:23.906960Z",
     "iopub.status.busy": "2023-05-28T17:21:23.906714Z",
     "iopub.status.idle": "2023-05-28T17:21:24.152055Z",
     "shell.execute_reply": "2023-05-28T17:21:24.151319Z",
     "shell.execute_reply.started": "2023-05-28T17:21:23.906936Z"
    },
    "tags": []
   },
   "outputs": [
    {
     "data": {
      "application/vnd.jupyter.widget-view+json": {
       "model_id": "94af84854081468a9e366c74fc50bb6f",
       "version_major": 2,
       "version_minor": 0
      },
      "text/plain": [
       "VBox()"
      ]
     },
     "metadata": {},
     "output_type": "display_data"
    },
    {
     "data": {
      "application/vnd.jupyter.widget-view+json": {
       "model_id": "",
       "version_major": 2,
       "version_minor": 0
      },
      "text/plain": [
       "FloatProgress(value=0.0, bar_style='info', description='Progress:', layout=Layout(height='25px', width='50%'),…"
      ]
     },
     "metadata": {},
     "output_type": "display_data"
    }
   ],
   "source": [
    "from pyspark.sql import functions as F\n",
    "\n",
    "# Extract abstract as a feature\n",
    "abstract_feature = df_project['abstract']\n",
    "\n",
    "# Extract given as a feature\n",
    "title_feature = F.concat_ws(\" \", df_project['title']).alias('title')\n",
    "\n",
    "# Extract given as a feature\n",
    "given_feature = F.concat_ws(\" \", df_project['given']).alias('given')\n",
    "\n",
    "# Extract container-title as a feature\n",
    "container_title_feature = F.concat_ws(\" \", df_project['container-title']).alias('container_title')\n",
    "\n",
    "# Extract date-parts as a feature\n",
    "date_parts_feature = df_project['date-parts']\n",
    "\n",
    "# Extract subject as a feature\n",
    "subject_feature = df_project['subject']\n",
    "\n",
    "# Extract abstract as a feature\n",
    "publisher_feature = df_project['publisher']\n",
    "\n",
    "reference_target = df_project['is-referenced-by-count']\n",
    "\n",
    "# Select the desired columns from the DataFrame\n",
    "preprocessed_df = df_project.select(abstract_feature, title_feature, given_feature, container_title_feature,\n",
    "                                    date_parts_feature, subject_feature, publisher_feature, reference_target)\n",
    "\n",
    "# Concatenate the subject values into a single string separated by commas\n",
    "preprocessed_df = preprocessed_df.withColumn(\"subject\", F.concat_ws(\", \", \"subject\"))\n",
    "\n",
    "# Remove the \"<jats:p>\" tags from the abstract column using regular expression replacement\n",
    "preprocessed_df = preprocessed_df.withColumn(\"abstract\", F.regexp_replace(\"abstract\", \"<jats:p>\", \"\"))"
   ]
  },
  {
   "cell_type": "markdown",
   "id": "433272c4-8347-4a9e-8e89-1ea4de0a3eae",
   "metadata": {},
   "source": [
    "# Feature Extraction"
   ]
  },
  {
   "cell_type": "markdown",
   "id": "4dd85e96-0093-4220-bc8c-5d817cb8389f",
   "metadata": {},
   "source": [
    "Additionally, the date column in our dataset is currently stored as a list. In order to improve the compatibility with our machine learning model, we extract specific date features such as the year, month, and day. This extraction will enhance the effectiveness of our model in processing temporal information."
   ]
  },
  {
   "cell_type": "code",
   "execution_count": 235,
   "id": "810a5015-c39a-4e1b-b7a6-44cf82391421",
   "metadata": {
    "execution": {
     "iopub.execute_input": "2023-05-28T17:21:24.153735Z",
     "iopub.status.busy": "2023-05-28T17:21:24.153492Z",
     "iopub.status.idle": "2023-05-28T17:21:24.400275Z",
     "shell.execute_reply": "2023-05-28T17:21:24.399407Z",
     "shell.execute_reply.started": "2023-05-28T17:21:24.153711Z"
    },
    "tags": []
   },
   "outputs": [
    {
     "data": {
      "application/vnd.jupyter.widget-view+json": {
       "model_id": "cc7e93eba0cf4526808f2275b3a75af1",
       "version_major": 2,
       "version_minor": 0
      },
      "text/plain": [
       "VBox()"
      ]
     },
     "metadata": {},
     "output_type": "display_data"
    },
    {
     "data": {
      "application/vnd.jupyter.widget-view+json": {
       "model_id": "",
       "version_major": 2,
       "version_minor": 0
      },
      "text/plain": [
       "FloatProgress(value=0.0, bar_style='info', description='Progress:', layout=Layout(height='25px', width='50%'),…"
      ]
     },
     "metadata": {},
     "output_type": "display_data"
    }
   ],
   "source": [
    "# Extract the year, month, and day from the date-parts column and convert them to integers\n",
    "preprocessed_df = (preprocessed_df.withColumn(\"year\", F.col(\"date-parts\")[0][0].cast(\"int\"))\n",
    "                                 .withColumn(\"month\", F.col(\"date-parts\")[0][1].cast(\"int\"))\n",
    "                                 .withColumn(\"day\", F.col(\"date-parts\")[0][2].cast(\"int\"))\n",
    "                                 .drop(\"date-parts\"))"
   ]
  },
  {
   "cell_type": "markdown",
   "id": "81d40ccf-3887-45e6-b986-0cfc69f10f3f",
   "metadata": {},
   "source": [
    "# Handling Missing Values"
   ]
  },
  {
   "cell_type": "markdown",
   "id": "38f77d6d-2220-487b-b74a-920d0dbe69cd",
   "metadata": {},
   "source": [
    "Missing values are a common occurrence in real-world datasets and can pose challenges for data analysis and modeling tasks. In this section, we will discuss various techniques for handling missing values in the dataset to ensure the integrity and accuracy of our analysis.\n",
    "\n",
    "In the missing value handling phase, we address the null values present in the dataset. The process is as follows:\n",
    "\n",
    "1. Removing Null Values:\n",
    "   - Rows with null values in the \"abstract\" column are removed to ensure complete and reliable data for analysis.\n",
    "   - Additionally, other columns such as author names are filled with blank values to maintain consistency across the dataset.\n",
    "\n",
    "2. Handling Missing Date Values:\n",
    "   - The columns \"year,\" \"month,\" and \"day\" may contain missing values.\n",
    "   - To simplify the process, missing values in these columns are imputed with the mean value.\n",
    "   - Although the ideal approach would be to use the mode (most frequent value), computing the mode in a dataset of this size proves to be time-consuming.\n",
    " \n",
    "This phase focuses solely on addressing and managing missing values, ensuring that the dataset is ready for subsequent analysis and modeling tasks."
   ]
  },
  {
   "cell_type": "code",
   "execution_count": 236,
   "id": "57092088-542e-4c3d-a151-0828c3aa5923",
   "metadata": {
    "execution": {
     "iopub.execute_input": "2023-05-28T17:21:24.402300Z",
     "iopub.status.busy": "2023-05-28T17:21:24.401949Z",
     "iopub.status.idle": "2023-05-28T17:33:15.546585Z",
     "shell.execute_reply": "2023-05-28T17:33:15.545811Z",
     "shell.execute_reply.started": "2023-05-28T17:21:24.402260Z"
    },
    "tags": []
   },
   "outputs": [
    {
     "data": {
      "application/vnd.jupyter.widget-view+json": {
       "model_id": "598c0e94df9f4ba0a24012b6283b9a0f",
       "version_major": 2,
       "version_minor": 0
      },
      "text/plain": [
       "VBox()"
      ]
     },
     "metadata": {},
     "output_type": "display_data"
    },
    {
     "data": {
      "application/vnd.jupyter.widget-view+json": {
       "model_id": "",
       "version_major": 2,
       "version_minor": 0
      },
      "text/plain": [
       "FloatProgress(value=0.0, bar_style='info', description='Progress:', layout=Layout(height='25px', width='50%'),…"
      ]
     },
     "metadata": {},
     "output_type": "display_data"
    }
   ],
   "source": [
    "# Drop rows with null values in the \"abstract\" column\n",
    "preprocessed_df = preprocessed_df.dropna(subset=[\"abstract\"])\n",
    "\n",
    "# Fill null values in specific columns with empty strings\n",
    "preprocessed_df = preprocessed_df.fillna('', subset=[\"given\", \"container_title\", \"subject\", \"publisher\"])\n",
    "\n",
    "# Reorder the DataFrame\n",
    "preprocessed_df = preprocessed_df.select('abstract', 'title', 'given', 'container_title', 'subject',\n",
    "                                         'publisher', 'year', 'month', 'day', 'is-referenced-by-count')\n",
    "\n",
    "# Fill the null values in year, month, and day columns with their respective means\n",
    "preprocessed_df = preprocessed_df.fillna({'year': int(preprocessed_df.select(F.mean('year')).first()[0]),\n",
    "                                          'month': int(preprocessed_df.select(F.mean('month')).first()[0]),\n",
    "                                          'day': int(preprocessed_df.select(F.mean('day')).first()[0])})"
   ]
  },
  {
   "cell_type": "markdown",
   "id": "e4bf6dac-c2f1-4b83-aad9-f71930d2cdbe",
   "metadata": {},
   "source": [
    "# Exploring the Dataset"
   ]
  },
  {
   "cell_type": "markdown",
   "id": "d5e0fca1-63d4-4f65-8484-c9693d3bf81b",
   "metadata": {},
   "source": [
    "To gain an initial understanding of the dataset, we examine its structure by displaying the first 20 rows. This provides us with a glimpse of the data and helps us identify any potential issues or inconsistencies.\n",
    "\n",
    "Here are the first 20 rows of the dataset:"
   ]
  },
  {
   "cell_type": "code",
   "execution_count": 237,
   "id": "f449ce64-185a-4ee6-a151-aab3e9e24a12",
   "metadata": {
    "execution": {
     "iopub.execute_input": "2023-05-28T17:33:15.547870Z",
     "iopub.status.busy": "2023-05-28T17:33:15.547611Z",
     "iopub.status.idle": "2023-05-28T17:33:22.814519Z",
     "shell.execute_reply": "2023-05-28T17:33:22.813664Z",
     "shell.execute_reply.started": "2023-05-28T17:33:15.547845Z"
    },
    "tags": []
   },
   "outputs": [
    {
     "data": {
      "application/vnd.jupyter.widget-view+json": {
       "model_id": "f7ef468b06b84e1faf2813a90bd8ea70",
       "version_major": 2,
       "version_minor": 0
      },
      "text/plain": [
       "VBox()"
      ]
     },
     "metadata": {},
     "output_type": "display_data"
    },
    {
     "data": {
      "application/vnd.jupyter.widget-view+json": {
       "model_id": "",
       "version_major": 2,
       "version_minor": 0
      },
      "text/plain": [
       "FloatProgress(value=0.0, bar_style='info', description='Progress:', layout=Layout(height='25px', width='50%'),…"
      ]
     },
     "metadata": {},
     "output_type": "display_data"
    },
    {
     "name": "stdout",
     "output_type": "stream",
     "text": [
      "+--------------------+--------------------+--------------------+--------------------+--------------------+--------------------+----+-----+---+----------------------+\n",
      "|            abstract|               title|               given|     container_title|             subject|           publisher|year|month|day|is-referenced-by-count|\n",
      "+--------------------+--------------------+--------------------+--------------------+--------------------+--------------------+----+-----+---+----------------------+\n",
      "|В статті ми намаг...|СВОБОДА ТА НЕСВОБ...|    Іван Зоряна Анна|      Молодий вчений|                    |Publishing House ...|2021|    5| 31|                     0|\n",
      "|Seat belt breast ...|Seat belt breast ...|George Stephen Gu...|    BMJ Case Reports|    General Medicine|                 BMJ|2021|    7| 14|                     0|\n",
      "|There is a necess...|Optimization of A...|               Mbika|            Energies|Energy (miscellan...|             MDPI AG|2021|    7| 21|                     1|\n",
      "|Recently, the pre...|A response to “Co...|           XIANG-YUN|           Phytotaxa|Plant Science, Ec...|      Magnolia Press|2021|    7| 22|                     0|\n",
      "|Οι Φιλανθρωπιστές...|Κύρια χαρακτηριστ...|Βασίλειος Ηλίας Δ...|ΥΣΠΛΗΓΞ: Επιστημο...|                    |National Document...|2021|    7|  7|                     0|\n",
      "|&amp;lt;p&amp;gt;...|Geoid and topogra...|   Rens Paul Antoine|                    |                    |     Copernicus GmbH|2021|    7| 21|                     0|\n",
      "|Logistics and eco...|Research on Freig...|    Lianhua Aili Hai|Mathematical Prob...|General Engineeri...|     Hindawi Limited|2021|    7| 20|                     0|\n",
      "|Based on the case...|Handcuffing of Pe...|             ANNA A.|Vedomosti (Knowle...|                    |United Edition of...|2021|    6| 14|                     0|\n",
      "|La presente tesis...|Uso de agregados ...|Renzo Adrian Bria...|                    |                    |Universidad Perua...|2012|    6| 14|                     0|\n",
      "|The purpose of th...|Age-related chang...|           A.S. N.V.| PAIN, JOINTS, SPINE|                    |Publishing House ...|2022|    1|  4|                     0|\n",
      "|<jats:title>Abstr...|Innovative potent...|               V N I|IOP Conference Se...|                    |      IOP Publishing|2021|    7|  1|                     0|\n",
      "|Lorsqu’un médicam...|Side effects of d...|Imane Sanaa Youss...|Batna Journal of ...|    General Medicine|Association pour ...|2018|   12| 25|                     0|\n",
      "|Valencia honourin...|Valencia honourin...|                  G.|           VIVESIANA|                    |Universitat de Va...|2021|    4| 10|                     0|\n",
      "|В статье вводится...|Гуманитаризация м...|              Марина|Полис. Политическ...|Sociology and Pol...|Non Profit Partne...|2021|    7| 14|                     1|\n",
      "|There has been a ...|Isolation of Preb...|Joel-Ching-Jue Si...|International Jou...|        Food Science|     Hindawi Limited|2021|    7| 20|                     1|\n",
      "|<jats:title>Abstr...|Bidirectional Hig...|Jingyang xuefang ...|                    |                    |Research Square P...|2021|    7| 21|                     0|\n",
      "|Breast cancer is ...|Recent Advances i...|Justina A Martin ...|Journal of Cancer...|                    |Sciaccess Publish...|2021|    5| 30|                     0|\n",
      "|&amp;lt;p&amp;gt;...|Abundance of wate...|Philipp Nicola Ja...|                    |                    |     Copernicus GmbH|2021|    7| 21|                     0|\n",
      "|Describir o expon...|          Capítulo 3|         Rubén Darío|  Catálogo editorial|                    |Institucion Unive...|2021|    4| 11|                     0|\n",
      "|The aims of this ...|Seminar on New Fo...|                    |                    |                    |World Tourism Org...|1991|    1|  1|                     0|\n",
      "+--------------------+--------------------+--------------------+--------------------+--------------------+--------------------+----+-----+---+----------------------+\n",
      "only showing top 20 rows"
     ]
    }
   ],
   "source": [
    "preprocessed_df.show()"
   ]
  },
  {
   "cell_type": "markdown",
   "id": "57976b89-37dd-4931-804f-ec49dbd5b392",
   "metadata": {},
   "source": [
    "After performing the necessary data preprocessing steps, we can now examine the schema of our simplified dataset. The schema provides information about the structure and data types of each column in our DataFrame.\n",
    "\n",
    "Here is the schema of our processed dataset:"
   ]
  },
  {
   "cell_type": "code",
   "execution_count": 238,
   "id": "c7082ff3-96e6-45f0-b8d5-44e515c894a1",
   "metadata": {
    "execution": {
     "iopub.execute_input": "2023-05-28T17:33:22.816233Z",
     "iopub.status.busy": "2023-05-28T17:33:22.815897Z",
     "iopub.status.idle": "2023-05-28T17:33:22.857309Z",
     "shell.execute_reply": "2023-05-28T17:33:22.856513Z",
     "shell.execute_reply.started": "2023-05-28T17:33:22.816197Z"
    },
    "tags": []
   },
   "outputs": [
    {
     "data": {
      "application/vnd.jupyter.widget-view+json": {
       "model_id": "f0a59a35de3a4ea4a432a5301a184d76",
       "version_major": 2,
       "version_minor": 0
      },
      "text/plain": [
       "VBox()"
      ]
     },
     "metadata": {},
     "output_type": "display_data"
    },
    {
     "data": {
      "application/vnd.jupyter.widget-view+json": {
       "model_id": "",
       "version_major": 2,
       "version_minor": 0
      },
      "text/plain": [
       "FloatProgress(value=0.0, bar_style='info', description='Progress:', layout=Layout(height='25px', width='50%'),…"
      ]
     },
     "metadata": {},
     "output_type": "display_data"
    },
    {
     "name": "stdout",
     "output_type": "stream",
     "text": [
      "root\n",
      " |-- abstract: string (nullable = true)\n",
      " |-- title: string (nullable = false)\n",
      " |-- given: string (nullable = false)\n",
      " |-- container_title: string (nullable = false)\n",
      " |-- subject: string (nullable = false)\n",
      " |-- publisher: string (nullable = false)\n",
      " |-- year: integer (nullable = false)\n",
      " |-- month: integer (nullable = false)\n",
      " |-- day: integer (nullable = false)\n",
      " |-- is-referenced-by-count: long (nullable = true)"
     ]
    }
   ],
   "source": [
    "preprocessed_df.printSchema()"
   ]
  },
  {
   "cell_type": "markdown",
   "id": "555ffd0b-73d6-4ac0-91c0-90c9d430ab01",
   "metadata": {},
   "source": [
    "# Checking Data Quality"
   ]
  },
  {
   "cell_type": "markdown",
   "id": "79e1751d-e552-4c54-90ec-37cc6350baf5",
   "metadata": {},
   "source": [
    "To ensure the overall data quality of our dataset, we performed a check for null values. We are pleased to report that after the data preprocessing steps, our dataset is now clean and ready for analysis. There are no null values present in any of the columns.\n",
    "\n",
    "This ensures that we have reliable and complete data to work with, enabling us to proceed with our analysis confidently."
   ]
  },
  {
   "cell_type": "code",
   "execution_count": 239,
   "id": "80dbd1bc-7a79-49d3-8a21-5563bfcfeeee",
   "metadata": {
    "execution": {
     "iopub.execute_input": "2023-05-28T17:33:22.858930Z",
     "iopub.status.busy": "2023-05-28T17:33:22.858592Z",
     "iopub.status.idle": "2023-05-28T17:37:14.707240Z",
     "shell.execute_reply": "2023-05-28T17:37:14.706405Z",
     "shell.execute_reply.started": "2023-05-28T17:33:22.858893Z"
    },
    "tags": []
   },
   "outputs": [
    {
     "data": {
      "application/vnd.jupyter.widget-view+json": {
       "model_id": "0844f35418104629acc466190f33ebae",
       "version_major": 2,
       "version_minor": 0
      },
      "text/plain": [
       "VBox()"
      ]
     },
     "metadata": {},
     "output_type": "display_data"
    },
    {
     "data": {
      "application/vnd.jupyter.widget-view+json": {
       "model_id": "",
       "version_major": 2,
       "version_minor": 0
      },
      "text/plain": [
       "FloatProgress(value=0.0, bar_style='info', description='Progress:', layout=Layout(height='25px', width='50%'),…"
      ]
     },
     "metadata": {},
     "output_type": "display_data"
    },
    {
     "name": "stdout",
     "output_type": "stream",
     "text": [
      "+--------+-----+-----+---------------+-------+---------+----+-----+---+----------------------+\n",
      "|abstract|title|given|container_title|subject|publisher|year|month|day|is-referenced-by-count|\n",
      "+--------+-----+-----+---------------+-------+---------+----+-----+---+----------------------+\n",
      "|       0|    0|    0|              0|      0|        0|   0|    0|  0|                     0|\n",
      "+--------+-----+-----+---------------+-------+---------+----+-----+---+----------------------+"
     ]
    }
   ],
   "source": [
    "from pyspark.sql.functions import col, sum as spark_sum\n",
    "\n",
    "# Count the null values in each column\n",
    "null_counts = preprocessed_df.select([spark_sum(col(column).isNull().cast('int')).alias(column) for column in preprocessed_df.columns])\n",
    "\n",
    "# Show the null value counts\n",
    "null_counts.show()"
   ]
  },
  {
   "cell_type": "markdown",
   "id": "4a2a9e17-03c0-4447-bf12-44a8c5d1689f",
   "metadata": {},
   "source": [
    "In order to understand the structure and size of our dataset, we examined its shape. The shape of a dataset refers to the number of columns and rows it contains. By performing this analysis, we can gain insights into the dimensions of our data.\n",
    "\n",
    "After evaluating the shape of our dataset, we determined that it consists of x columns and y rows. To conveniently store this information, we have created a dataframe that captures the dataset shape.\n",
    "\n",
    "Understanding the shape of our dataset is crucial as it provides a foundational understanding of its structure, enabling us to effectively analyze and manipulate the data."
   ]
  },
  {
   "cell_type": "code",
   "execution_count": 240,
   "id": "edeb659e-20be-4564-b993-f1bb00a894a1",
   "metadata": {
    "execution": {
     "iopub.execute_input": "2023-05-28T17:37:14.710407Z",
     "iopub.status.busy": "2023-05-28T17:37:14.710053Z",
     "iopub.status.idle": "2023-05-28T17:40:18.400346Z",
     "shell.execute_reply": "2023-05-28T17:40:18.399462Z",
     "shell.execute_reply.started": "2023-05-28T17:37:14.710369Z"
    },
    "tags": []
   },
   "outputs": [
    {
     "data": {
      "application/vnd.jupyter.widget-view+json": {
       "model_id": "45c0960bc3ee4dd3a658f3c8f1f1ba3f",
       "version_major": 2,
       "version_minor": 0
      },
      "text/plain": [
       "VBox()"
      ]
     },
     "metadata": {},
     "output_type": "display_data"
    },
    {
     "data": {
      "application/vnd.jupyter.widget-view+json": {
       "model_id": "",
       "version_major": 2,
       "version_minor": 0
      },
      "text/plain": [
       "FloatProgress(value=0.0, bar_style='info', description='Progress:', layout=Layout(height='25px', width='50%'),…"
      ]
     },
     "metadata": {},
     "output_type": "display_data"
    },
    {
     "name": "stdout",
     "output_type": "stream",
     "text": [
      "Number of rows:  19351793\n",
      "Number of columns:  10"
     ]
    }
   ],
   "source": [
    "num_rows = preprocessed_df.count()  # Count the number of rows\n",
    "num_cols = len(preprocessed_df.columns)  # Get the number of columns\n",
    "\n",
    "print(\"Number of rows: \", num_rows)\n",
    "print(\"Number of columns: \", num_cols)"
   ]
  },
  {
   "cell_type": "code",
   "execution_count": 241,
   "id": "64b4e518-1e21-415d-a853-078c238ea9b8",
   "metadata": {
    "execution": {
     "iopub.execute_input": "2023-05-28T17:40:18.402204Z",
     "iopub.status.busy": "2023-05-28T17:40:18.401862Z",
     "iopub.status.idle": "2023-05-28T17:40:33.699495Z",
     "shell.execute_reply": "2023-05-28T17:40:33.698581Z",
     "shell.execute_reply.started": "2023-05-28T17:40:18.402166Z"
    },
    "tags": []
   },
   "outputs": [
    {
     "data": {
      "application/vnd.jupyter.widget-view+json": {
       "model_id": "28c2442529f04714b821b96a7b1e28be",
       "version_major": 2,
       "version_minor": 0
      },
      "text/plain": [
       "VBox()"
      ]
     },
     "metadata": {},
     "output_type": "display_data"
    },
    {
     "data": {
      "application/vnd.jupyter.widget-view+json": {
       "model_id": "",
       "version_major": 2,
       "version_minor": 0
      },
      "text/plain": [
       "FloatProgress(value=0.0, bar_style='info', description='Progress:', layout=Layout(height='25px', width='50%'),…"
      ]
     },
     "metadata": {},
     "output_type": "display_data"
    },
    {
     "name": "stdout",
     "output_type": "stream",
     "text": [
      "+--------+--------+\n",
      "|num_rows|num_cols|\n",
      "+--------+--------+\n",
      "|19351793|      10|\n",
      "+--------+--------+"
     ]
    }
   ],
   "source": [
    "# Create a DataFrame with the number of rows and columns\n",
    "shape_data = [(num_rows, num_cols)]\n",
    "shape_schema = \"num_rows LONG, num_cols INT\"\n",
    "shape_df = spark.createDataFrame(shape_data, shape_schema)\n",
    "\n",
    "# Show the shape DataFrame\n",
    "shape_df.show()"
   ]
  },
  {
   "cell_type": "markdown",
   "id": "cf6f5313-38a0-4740-9e99-f0148bbebac3",
   "metadata": {},
   "source": [
    "# Saving the Data"
   ]
  },
  {
   "cell_type": "markdown",
   "id": "230a4c2f-76c5-42f8-9a30-ba6cf60d5e86",
   "metadata": {},
   "source": [
    "To avoid repeating the entire preprocessing steps in our main notebook, we made the decision to save the cleaned dataset. By doing so, we can simply load this preprocessed data in our main notebook, saving computational time and effort.\n",
    "\n",
    "Furthermore, we also saved other auxiliary dataframes to facilitate further analysis. One such dataframe is the null counts dataframe, which provides valuable information about the number of null values in each column of our dataset. This can be useful for understanding data completeness and identifying areas that may require further attention.\n",
    "\n",
    "Additionally, we saved the dataframe shape, which captures the number of columns and rows in our preprocessed dataset. Having this information readily available can help us gain a quick overview of the dataset's dimensions without the need for extensive computations.\n",
    "\n",
    "By saving the preprocessed dataset, null counts dataframe, and dataframe shape, we streamline our workflow and make it more efficient when working with the data in our main notebook."
   ]
  },
  {
   "cell_type": "code",
   "execution_count": 248,
   "id": "85d2e965-e4af-4ca4-871c-ee25b04f7d69",
   "metadata": {
    "execution": {
     "iopub.execute_input": "2023-05-28T17:42:15.130387Z",
     "iopub.status.busy": "2023-05-28T17:42:15.130066Z",
     "iopub.status.idle": "2023-05-28T17:42:15.189922Z",
     "shell.execute_reply": "2023-05-28T17:42:15.189226Z",
     "shell.execute_reply.started": "2023-05-28T17:42:15.130359Z"
    },
    "tags": []
   },
   "outputs": [
    {
     "data": {
      "application/vnd.jupyter.widget-view+json": {
       "model_id": "2dac03fccc8747ee9571ed2b11f314b3",
       "version_major": 2,
       "version_minor": 0
      },
      "text/plain": [
       "VBox()"
      ]
     },
     "metadata": {},
     "output_type": "display_data"
    },
    {
     "data": {
      "application/vnd.jupyter.widget-view+json": {
       "model_id": "",
       "version_major": 2,
       "version_minor": 0
      },
      "text/plain": [
       "FloatProgress(value=0.0, bar_style='info', description='Progress:', layout=Layout(height='25px', width='50%'),…"
      ]
     },
     "metadata": {},
     "output_type": "display_data"
    }
   ],
   "source": [
    "# sc.install_pypi_package('fsspec')\n",
    "#sc.install_pypi_package('s3fs ')"
   ]
  },
  {
   "cell_type": "code",
   "execution_count": 254,
   "id": "a6e1f667-849d-4d3f-8b3b-46aaa310348a",
   "metadata": {
    "execution": {
     "iopub.execute_input": "2023-05-28T17:45:12.868638Z",
     "iopub.status.busy": "2023-05-28T17:45:12.868226Z",
     "iopub.status.idle": "2023-05-28T18:00:14.400935Z",
     "shell.execute_reply": "2023-05-28T18:00:14.400239Z",
     "shell.execute_reply.started": "2023-05-28T17:45:12.868607Z"
    },
    "tags": []
   },
   "outputs": [
    {
     "data": {
      "application/vnd.jupyter.widget-view+json": {
       "model_id": "6512104445a24caea2483dec27655a64",
       "version_major": 2,
       "version_minor": 0
      },
      "text/plain": [
       "VBox()"
      ]
     },
     "metadata": {},
     "output_type": "display_data"
    },
    {
     "data": {
      "application/vnd.jupyter.widget-view+json": {
       "model_id": "",
       "version_major": 2,
       "version_minor": 0
      },
      "text/plain": [
       "FloatProgress(value=0.0, bar_style='info', description='Progress:', layout=Layout(height='25px', width='50%'),…"
      ]
     },
     "metadata": {},
     "output_type": "display_data"
    }
   ],
   "source": [
    "# Define the output paths for saving the dataframes\n",
    "output_path_preprocessed = \"s3://s3bucketemr/cleaned/preprocessed.parquet\"\n",
    "output_path_null_counts = \"s3://s3bucketemr/cleaned/null_counts.csv\"\n",
    "output_path_shape = \"s3://s3bucketemr/cleaned/df_shape.csv\"\n",
    "\n",
    "# Save preprocessed_df as parquet\n",
    "preprocessed_df.write.parquet(output_path_preprocessed)\n",
    "\n",
    "# Save null_counts as CSV\n",
    "null_counts.toPandas().to_csv(output_path_null_counts, header=True, index=False)\n",
    "\n",
    "# Save shape_df as CSV\n",
    "shape_df.toPandas().to_csv(output_path_shape, header=True, index=False)"
   ]
  },
  {
   "cell_type": "markdown",
   "id": "64346acf-95e5-46b8-b1d7-1482d17bbca3",
   "metadata": {},
   "source": [
    "# Validating Data Persistence: Verifying Successful Saving of Data in S3"
   ]
  },
  {
   "cell_type": "markdown",
   "id": "eb65af9c-62bb-44bd-aa60-25797ef892fa",
   "metadata": {},
   "source": [
    "Finally, we perform a crucial step to ensure the successful saving of our data in the S3 bucket. We load the cleaned data from the saved location and validate the results. By successfully loading all the data we previously saved in our S3 bucket, we can confidently confirm that the entire process was successful."
   ]
  },
  {
   "cell_type": "code",
   "execution_count": 255,
   "id": "24a8adbd-0997-48a6-aa54-79f95a819d6f",
   "metadata": {
    "execution": {
     "iopub.execute_input": "2023-05-28T18:00:27.178684Z",
     "iopub.status.busy": "2023-05-28T18:00:27.178389Z",
     "iopub.status.idle": "2023-05-28T18:00:34.447661Z",
     "shell.execute_reply": "2023-05-28T18:00:34.446878Z",
     "shell.execute_reply.started": "2023-05-28T18:00:27.178658Z"
    }
   },
   "outputs": [
    {
     "data": {
      "application/vnd.jupyter.widget-view+json": {
       "model_id": "294f79fdb7404489b17da78d3e71e736",
       "version_major": 2,
       "version_minor": 0
      },
      "text/plain": [
       "VBox()"
      ]
     },
     "metadata": {},
     "output_type": "display_data"
    },
    {
     "data": {
      "application/vnd.jupyter.widget-view+json": {
       "model_id": "",
       "version_major": 2,
       "version_minor": 0
      },
      "text/plain": [
       "FloatProgress(value=0.0, bar_style='info', description='Progress:', layout=Layout(height='25px', width='50%'),…"
      ]
     },
     "metadata": {},
     "output_type": "display_data"
    },
    {
     "name": "stdout",
     "output_type": "stream",
     "text": [
      "+--------------------+--------------------+--------------------+--------------------+--------------------+--------------------+----+-----+---+----------------------+\n",
      "|            abstract|               title|               given|     container_title|             subject|           publisher|year|month|day|is-referenced-by-count|\n",
      "+--------------------+--------------------+--------------------+--------------------+--------------------+--------------------+----+-----+---+----------------------+\n",
      "|This paper explor...|Microbial contami...|   M. J. S. M. H. O.|  Hydrology Research|Water Science and...|      IWA Publishing|2013|    1| 23|                    15|\n",
      "|Our favorite less...|The Back Page: My...|      Alison L. Mike|The Mathematics T...|                    |National Council ...|2013|   12| 14|                     0|\n",
      "|<jats:title>SUMMA...|Human monoclonal ...|  K M DA SILVA K A B|Clinical and Expe...|Immunology, Immun...|Oxford University...|1995|    8| 14|                    10|\n",
      "|A microRNA regula...|MicroRNAs get to ...|          Ge James F|               eLife|General Immunolog...|eLife Sciences Pu...|2013|   11| 19|                    10|\n",
      "|<jats:italic>Purp...|Shenqi Fuzheng In...|Guo-Yan Peng Bu-Lang|Evidence-Based Co...|Complementary and...|     Hindawi Limited|2013|    6| 14|                     0|\n",
      "|OBJETIVO: Descrev...|Causas da retirad...|Sandra Regina Mac...|Acta Paulista de ...|Advanced and Spec...| FapUNIFESP (SciELO)|2013|    6| 14|                     9|\n",
      "|<jats:title>Abstr...|Attitudes and bel...|Matthias C Auréli...|      BMC Psychiatry|Psychiatry and Me...|Springer Science ...|2013|   11| 20|                    46|\n",
      "|<jats:italic>Obje...|Three-Dimensional...|Chunyan Yanli Hai...|Computational and...|Applied Mathemati...|     Hindawi Limited|2013|    6| 14|                     1|\n",
      "|<p>The hydrogen-b...|Hydrogen-bond net...|   A. G. D. M. P. P.|        CrystEngComm|Condensed Matter ...|Royal Society of ...|2014|    6| 14|                     9|\n",
      "| In this note, we...|Existence of comp...|              Bianca|Communications in...|Applied Mathemati...|World Scientific ...|2014|    5| 26|                     1|\n",
      "|Colloid cysts are...|Hemorrhagic collo...|Batuk Naren Sanja...|Asian Journal of ...|    General Medicine|Georg Thieme Verl...|2013|    9| 14|                    10|\n",
      "|A long-wave evolu...|Influence of Temp...|     Mohammed Rizwan|Chinese Journal o...|General Engineeri...|     Hindawi Limited|2013|   11| 20|                     0|\n",
      "| Atomic force mic...|BIAXIALLY ORIENTE...|GUOQIANG YUQIN BI...|                Nano|Condensed Matter ...|World Scientific ...|2014|    4| 14|                     2|\n",
      "|Three graphing ac...|Algebraic Activit...|            Patricia|The Mathematics T...|                    |National Council ...|2013|   12| 14|                     0|\n",
      "|Teachers can modi...|Problem Analysis:...|        Katie Alicia|The Mathematics T...|                    |National Council ...|2013|   12| 14|                     0|\n",
      "| This paper deals...|Weighted L<sup>2<...|    Jérôme Christian|Communications in...|Applied Mathemati...|World Scientific ...|2014|   12| 16|                     8|\n",
      "|Critical-care nur...|The emotional int...|   Amanda Elzabe Ann|Health SA Gesondheid|Public Health, En...|               AOSIS|2013|   11| 20|                     0|\n",
      "|Campbell's “evolu...|“Variation and se...|              Marion|Israel Journal of...|Animal Science an...|               Brill|2013|    5| 18|                     2|\n",
      "| Nickel sulfide s...|Phase-controlled ...|      Binxia Weiling|Functional Materi...|General Materials...|World Scientific ...|2014|    2| 14|                     1|\n",
      "|OBJETIVO: Verific...|Eventos adversos ...|Elena Juliana de ...|Acta Paulista de ...|Advanced and Spec...| FapUNIFESP (SciELO)|2013|    6| 14|                     3|\n",
      "+--------------------+--------------------+--------------------+--------------------+--------------------+--------------------+----+-----+---+----------------------+\n",
      "only showing top 20 rows"
     ]
    }
   ],
   "source": [
    "fpath_data = 's3://s3bucketemr/cleaned/preprocessed.parquet'\n",
    "\n",
    "df_cleaned = (spark.read.parquet(\n",
    "    fpath_data, header=True,\n",
    "    inferSchema=True))\n",
    "\n",
    "df_cleaned.show()"
   ]
  },
  {
   "cell_type": "code",
   "execution_count": 257,
   "id": "66c15c35-a9e6-4095-976f-75e1ccd9a48c",
   "metadata": {
    "execution": {
     "iopub.execute_input": "2023-05-28T18:00:43.665478Z",
     "iopub.status.busy": "2023-05-28T18:00:43.665175Z",
     "iopub.status.idle": "2023-05-28T18:00:48.931467Z",
     "shell.execute_reply": "2023-05-28T18:00:48.930565Z",
     "shell.execute_reply.started": "2023-05-28T18:00:43.665450Z"
    },
    "tags": []
   },
   "outputs": [
    {
     "data": {
      "application/vnd.jupyter.widget-view+json": {
       "model_id": "c5fd3137fdf64c56958b8e4de38706d4",
       "version_major": 2,
       "version_minor": 0
      },
      "text/plain": [
       "VBox()"
      ]
     },
     "metadata": {},
     "output_type": "display_data"
    },
    {
     "data": {
      "application/vnd.jupyter.widget-view+json": {
       "model_id": "",
       "version_major": 2,
       "version_minor": 0
      },
      "text/plain": [
       "FloatProgress(value=0.0, bar_style='info', description='Progress:', layout=Layout(height='25px', width='50%'),…"
      ]
     },
     "metadata": {},
     "output_type": "display_data"
    },
    {
     "name": "stdout",
     "output_type": "stream",
     "text": [
      "+--------+-----+-----+---------------+-------+---------+----+-----+---+----------------------+\n",
      "|abstract|title|given|container_title|subject|publisher|year|month|day|is-referenced-by-count|\n",
      "+--------+-----+-----+---------------+-------+---------+----+-----+---+----------------------+\n",
      "|       0|    0|    0|              0|      0|        0|   0|    0|  0|                     0|\n",
      "+--------+-----+-----+---------------+-------+---------+----+-----+---+----------------------+"
     ]
    }
   ],
   "source": [
    "fpath_nullcount = 's3://s3bucketemr/cleaned/null_counts.csv'\n",
    "\n",
    "df_null = (spark.read.csv(\n",
    "    fpath_nullcount, header=True,\n",
    "    inferSchema=True))\n",
    "\n",
    "df_null.show()"
   ]
  },
  {
   "cell_type": "code",
   "execution_count": 258,
   "id": "8a65a278-6c31-4cd1-8daa-7434b2be6792",
   "metadata": {
    "execution": {
     "iopub.execute_input": "2023-05-28T18:00:51.220501Z",
     "iopub.status.busy": "2023-05-28T18:00:51.220208Z",
     "iopub.status.idle": "2023-05-28T18:00:56.488471Z",
     "shell.execute_reply": "2023-05-28T18:00:56.487619Z",
     "shell.execute_reply.started": "2023-05-28T18:00:51.220476Z"
    }
   },
   "outputs": [
    {
     "data": {
      "application/vnd.jupyter.widget-view+json": {
       "model_id": "1393ea0fd11f4d12bc132f93c232d42a",
       "version_major": 2,
       "version_minor": 0
      },
      "text/plain": [
       "VBox()"
      ]
     },
     "metadata": {},
     "output_type": "display_data"
    },
    {
     "data": {
      "application/vnd.jupyter.widget-view+json": {
       "model_id": "",
       "version_major": 2,
       "version_minor": 0
      },
      "text/plain": [
       "FloatProgress(value=0.0, bar_style='info', description='Progress:', layout=Layout(height='25px', width='50%'),…"
      ]
     },
     "metadata": {},
     "output_type": "display_data"
    },
    {
     "name": "stdout",
     "output_type": "stream",
     "text": [
      "+--------+--------+\n",
      "|num_rows|num_cols|\n",
      "+--------+--------+\n",
      "|19351793|      10|\n",
      "+--------+--------+"
     ]
    }
   ],
   "source": [
    "fpath_shape = 's3://s3bucketemr/cleaned/df_shape.csv'\n",
    "\n",
    "df_shapedf = (spark.read.csv(\n",
    "    fpath_shape, header=True,\n",
    "    inferSchema=True))\n",
    "\n",
    "df_shapedf.show()"
   ]
  },
  {
   "cell_type": "code",
   "execution_count": null,
   "id": "11a5a7d6-9ae2-4326-b955-20aba343c51b",
   "metadata": {},
   "outputs": [],
   "source": []
  }
 ],
 "metadata": {
  "kernelspec": {
   "display_name": "Python 3 (ipykernel)",
   "language": "python",
   "name": "python3"
  },
  "language_info": {
   "codemirror_mode": {
    "name": "ipython",
    "version": 3
   },
   "file_extension": ".py",
   "mimetype": "text/x-python",
   "name": "python",
   "nbconvert_exporter": "python",
   "pygments_lexer": "ipython3",
   "version": "3.8.17"
  },
  "toc": {
   "base_numbering": 1,
   "nav_menu": {},
   "number_sections": true,
   "sideBar": true,
   "skip_h1_title": false,
   "title_cell": "Table of Contents",
   "title_sidebar": "Contents",
   "toc_cell": false,
   "toc_position": {},
   "toc_section_display": true,
   "toc_window_display": false
  }
 },
 "nbformat": 4,
 "nbformat_minor": 5
}
