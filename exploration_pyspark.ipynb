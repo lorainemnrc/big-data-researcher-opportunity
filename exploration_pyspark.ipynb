{
 "cells": [
  {
   "cell_type": "markdown",
   "id": "872864b2-fe6b-487f-9878-7eb5692dc7fb",
   "metadata": {},
   "source": [
    "# <center style=\"color: #003b7f\"> From Publication to Citation: Understanding the Factors <br/> Driving Research Recognition  </center> <a class='tocSkip'>\n",
    "    \n",
    "**MSDS 2023 Term 4 SLT1** | Loraine Menorca, BJ Enrik Yepes, Gregory del Carmen, Rozz Banquerigo\n",
    "\n",
    "The code below was used to extract the data we needed for our EDA / Descriptive analytics. The strategy was to write the files into our S3 buckets and transfer them between the members for quick access to the files. All queries below after fetching the data will be in the S3 bucket as a CSV file.\n",
    "    \n",
    "**! Note:** This was run using PySpark via AWS EMR studio. Rerunning the entire notebook outside a similar environment is not advisable.\n",
    "    \n",
    "***"
   ]
  },
  {
   "cell_type": "code",
   "execution_count": 6,
   "id": "3fa58884-ea6e-48d4-80d9-42d88ce4dd8f",
   "metadata": {
    "execution": {
     "iopub.execute_input": "2023-06-01T11:27:44.648398Z",
     "iopub.status.busy": "2023-06-01T11:27:44.648062Z",
     "iopub.status.idle": "2023-06-01T11:27:44.688515Z",
     "shell.execute_reply": "2023-06-01T11:27:44.687879Z",
     "shell.execute_reply.started": "2023-06-01T11:27:44.648370Z"
    },
    "tags": []
   },
   "outputs": [
    {
     "data": {
      "application/vnd.jupyter.widget-view+json": {
       "model_id": "8a11b66647b04e718a959a086e61619f",
       "version_major": 2,
       "version_minor": 0
      },
      "text/plain": [
       "VBox()"
      ]
     },
     "metadata": {},
     "output_type": "display_data"
    },
    {
     "data": {
      "application/vnd.jupyter.widget-view+json": {
       "model_id": "",
       "version_major": 2,
       "version_minor": 0
      },
      "text/plain": [
       "FloatProgress(value=0.0, bar_style='info', description='Progress:', layout=Layout(height='25px', width='50%'),…"
      ]
     },
     "metadata": {},
     "output_type": "display_data"
    }
   ],
   "source": [
    "import boto3"
   ]
  },
  {
   "cell_type": "code",
   "execution_count": 7,
   "id": "5f17659a-d8b9-40fc-aacc-dd93f996deaf",
   "metadata": {
    "execution": {
     "iopub.execute_input": "2023-06-01T11:27:44.985894Z",
     "iopub.status.busy": "2023-06-01T11:27:44.985580Z",
     "iopub.status.idle": "2023-06-01T11:27:45.237432Z",
     "shell.execute_reply": "2023-06-01T11:27:45.236681Z",
     "shell.execute_reply.started": "2023-06-01T11:27:44.985867Z"
    },
    "tags": []
   },
   "outputs": [
    {
     "data": {
      "application/vnd.jupyter.widget-view+json": {
       "model_id": "f86b7e84ef4a4575b19ea67eecf3cd3e",
       "version_major": 2,
       "version_minor": 0
      },
      "text/plain": [
       "VBox()"
      ]
     },
     "metadata": {},
     "output_type": "display_data"
    },
    {
     "data": {
      "application/vnd.jupyter.widget-view+json": {
       "model_id": "",
       "version_major": 2,
       "version_minor": 0
      },
      "text/plain": [
       "FloatProgress(value=0.0, bar_style='info', description='Progress:', layout=Layout(height='25px', width='50%'),…"
      ]
     },
     "metadata": {},
     "output_type": "display_data"
    }
   ],
   "source": [
    "aws_access_key_id = ''\n",
    "aws_secret_access_key = ''\n",
    "\n",
    "# Create session for s3\n",
    "session = boto3.Session(aws_access_key_id=aws_access_key_id, aws_secret_access_key=aws_secret_access_key)\n",
    "s3 = session.client('s3')\n"
   ]
  },
  {
   "cell_type": "code",
   "execution_count": 13,
   "id": "beb46c09-9eb8-4f7b-b535-a8d972dbaf5c",
   "metadata": {
    "execution": {
     "iopub.execute_input": "2023-06-01T11:33:39.948701Z",
     "iopub.status.busy": "2023-06-01T11:33:39.948395Z",
     "iopub.status.idle": "2023-06-01T11:33:39.993524Z",
     "shell.execute_reply": "2023-06-01T11:33:39.992837Z",
     "shell.execute_reply.started": "2023-06-01T11:33:39.948675Z"
    },
    "tags": []
   },
   "outputs": [
    {
     "data": {
      "application/vnd.jupyter.widget-view+json": {
       "model_id": "d3a999e2580d44d0b4accc127e4a2130",
       "version_major": 2,
       "version_minor": 0
      },
      "text/plain": [
       "VBox()"
      ]
     },
     "metadata": {},
     "output_type": "display_data"
    },
    {
     "data": {
      "application/vnd.jupyter.widget-view+json": {
       "model_id": "",
       "version_major": 2,
       "version_minor": 0
      },
      "text/plain": [
       "FloatProgress(value=0.0, bar_style='info', description='Progress:', layout=Layout(height='25px', width='50%'),…"
      ]
     },
     "metadata": {},
     "output_type": "display_data"
    }
   ],
   "source": [
    "import pyspark.sql.functions as F\n",
    "import pandas as pd\n",
    "from pyspark.sql.window import Window\n",
    "from pyspark.sql.functions import row_number\n",
    "\n",
    "# Bucket used by the team for analysis.\n",
    "dir_ = 's3bucketemr'"
   ]
  },
  {
   "cell_type": "code",
   "execution_count": 11,
   "id": "ee0de6ff-8054-40a5-b2c1-ebbbee98a349",
   "metadata": {
    "execution": {
     "iopub.execute_input": "2023-06-01T11:31:41.333858Z",
     "iopub.status.busy": "2023-06-01T11:31:41.333541Z",
     "iopub.status.idle": "2023-06-01T11:31:50.618020Z",
     "shell.execute_reply": "2023-06-01T11:31:50.617263Z",
     "shell.execute_reply.started": "2023-06-01T11:31:41.333832Z"
    },
    "tags": []
   },
   "outputs": [
    {
     "data": {
      "application/vnd.jupyter.widget-view+json": {
       "model_id": "ce7ff58b7daa41d8b221b6afbc3c0284",
       "version_major": 2,
       "version_minor": 0
      },
      "text/plain": [
       "VBox()"
      ]
     },
     "metadata": {},
     "output_type": "display_data"
    },
    {
     "data": {
      "application/vnd.jupyter.widget-view+json": {
       "model_id": "",
       "version_major": 2,
       "version_minor": 0
      },
      "text/plain": [
       "FloatProgress(value=0.0, bar_style='info', description='Progress:', layout=Layout(height='25px', width='50%'),…"
      ]
     },
     "metadata": {},
     "output_type": "display_data"
    }
   ],
   "source": [
    "df_lim = spark.read.parquet('s3a://s3bucketemr/crossref.parquet/')\n",
    "# df_lim = spark.read.parquet('s3a://s3bucketemr/crossref.parquet/part-00065-d03a3643-77f3-4f99-bf3e-13f9c2ec6505-c000.snappy.parquet')\n",
    "# df_lim = df_lim.limit(5000).cache()\n"
   ]
  },
  {
   "cell_type": "code",
   "execution_count": 10,
   "id": "55baa4b1-b10c-488a-901f-ec45ebca8e26",
   "metadata": {
    "execution": {
     "iopub.execute_input": "2023-06-01T11:28:01.128934Z",
     "iopub.status.busy": "2023-06-01T11:28:01.128691Z",
     "iopub.status.idle": "2023-06-01T11:28:01.379897Z",
     "shell.execute_reply": "2023-06-01T11:28:01.378940Z",
     "shell.execute_reply.started": "2023-06-01T11:28:01.128910Z"
    },
    "tags": []
   },
   "outputs": [
    {
     "data": {
      "application/vnd.jupyter.widget-view+json": {
       "model_id": "8e399d7c85b14bc5a74b8f389241c643",
       "version_major": 2,
       "version_minor": 0
      },
      "text/plain": [
       "VBox()"
      ]
     },
     "metadata": {},
     "output_type": "display_data"
    },
    {
     "data": {
      "application/vnd.jupyter.widget-view+json": {
       "model_id": "",
       "version_major": 2,
       "version_minor": 0
      },
      "text/plain": [
       "FloatProgress(value=0.0, bar_style='info', description='Progress:', layout=Layout(height='25px', width='50%'),…"
      ]
     },
     "metadata": {},
     "output_type": "display_data"
    },
    {
     "name": "stdout",
     "output_type": "stream",
     "text": [
      "root\n",
      " |-- col: struct (nullable = true)\n",
      " |    |-- DOI: string (nullable = true)\n",
      " |    |-- ISBN: array (nullable = true)\n",
      " |    |    |-- element: string (containsNull = true)\n",
      " |    |-- ISSN: array (nullable = true)\n",
      " |    |    |-- element: string (containsNull = true)\n",
      " |    |-- URL: string (nullable = true)\n",
      " |    |-- abstract: string (nullable = true)\n",
      " |    |-- accepted: struct (nullable = true)\n",
      " |    |    |-- date-parts: array (nullable = true)\n",
      " |    |    |    |-- element: array (containsNull = true)\n",
      " |    |    |    |    |-- element: long (containsNull = true)\n",
      " |    |-- alternative-id: array (nullable = true)\n",
      " |    |    |-- element: string (containsNull = true)\n",
      " |    |-- approved: struct (nullable = true)\n",
      " |    |    |-- date-parts: array (nullable = true)\n",
      " |    |    |    |-- element: array (containsNull = true)\n",
      " |    |    |    |    |-- element: long (containsNull = true)\n",
      " |    |-- archive: array (nullable = true)\n",
      " |    |    |-- element: string (containsNull = true)\n",
      " |    |-- article-number: string (nullable = true)\n",
      " |    |-- assertion: array (nullable = true)\n",
      " |    |    |-- element: struct (containsNull = true)\n",
      " |    |    |    |-- URL: string (nullable = true)\n",
      " |    |    |    |-- explanation: struct (nullable = true)\n",
      " |    |    |    |    |-- URL: string (nullable = true)\n",
      " |    |    |    |-- group: struct (nullable = true)\n",
      " |    |    |    |    |-- label: string (nullable = true)\n",
      " |    |    |    |    |-- name: string (nullable = true)\n",
      " |    |    |    |-- label: string (nullable = true)\n",
      " |    |    |    |-- name: string (nullable = true)\n",
      " |    |    |    |-- order: long (nullable = true)\n",
      " |    |    |    |-- value: string (nullable = true)\n",
      " |    |-- author: array (nullable = true)\n",
      " |    |    |-- element: struct (containsNull = true)\n",
      " |    |    |    |-- ORCID: string (nullable = true)\n",
      " |    |    |    |-- affiliation: array (nullable = true)\n",
      " |    |    |    |    |-- element: struct (containsNull = true)\n",
      " |    |    |    |    |    |-- acronym: array (nullable = true)\n",
      " |    |    |    |    |    |    |-- element: string (containsNull = true)\n",
      " |    |    |    |    |    |-- department: array (nullable = true)\n",
      " |    |    |    |    |    |    |-- element: string (containsNull = true)\n",
      " |    |    |    |    |    |-- id: array (nullable = true)\n",
      " |    |    |    |    |    |    |-- element: struct (containsNull = true)\n",
      " |    |    |    |    |    |    |    |-- asserted-by: string (nullable = true)\n",
      " |    |    |    |    |    |    |    |-- id: string (nullable = true)\n",
      " |    |    |    |    |    |    |    |-- id-type: string (nullable = true)\n",
      " |    |    |    |    |    |-- name: string (nullable = true)\n",
      " |    |    |    |    |    |-- place: array (nullable = true)\n",
      " |    |    |    |    |    |    |-- element: string (containsNull = true)\n",
      " |    |    |    |-- authenticated-orcid: boolean (nullable = true)\n",
      " |    |    |    |-- family: string (nullable = true)\n",
      " |    |    |    |-- given: string (nullable = true)\n",
      " |    |    |    |-- name: string (nullable = true)\n",
      " |    |    |    |-- sequence: string (nullable = true)\n",
      " |    |    |    |-- suffix: string (nullable = true)\n",
      " |    |-- award: string (nullable = true)\n",
      " |    |-- award-start: struct (nullable = true)\n",
      " |    |    |-- date-parts: array (nullable = true)\n",
      " |    |    |    |-- element: array (containsNull = true)\n",
      " |    |    |    |    |-- element: long (containsNull = true)\n",
      " |    |-- chair: array (nullable = true)\n",
      " |    |    |-- element: struct (containsNull = true)\n",
      " |    |    |    |-- ORCID: string (nullable = true)\n",
      " |    |    |    |-- affiliation: array (nullable = true)\n",
      " |    |    |    |    |-- element: struct (containsNull = true)\n",
      " |    |    |    |    |    |-- department: array (nullable = true)\n",
      " |    |    |    |    |    |    |-- element: string (containsNull = true)\n",
      " |    |    |    |    |    |-- id: array (nullable = true)\n",
      " |    |    |    |    |    |    |-- element: struct (containsNull = true)\n",
      " |    |    |    |    |    |    |    |-- asserted-by: string (nullable = true)\n",
      " |    |    |    |    |    |    |    |-- id: string (nullable = true)\n",
      " |    |    |    |    |    |    |    |-- id-type: string (nullable = true)\n",
      " |    |    |    |    |    |-- name: string (nullable = true)\n",
      " |    |    |    |-- authenticated-orcid: boolean (nullable = true)\n",
      " |    |    |    |-- family: string (nullable = true)\n",
      " |    |    |    |-- given: string (nullable = true)\n",
      " |    |    |    |-- name: string (nullable = true)\n",
      " |    |    |    |-- sequence: string (nullable = true)\n",
      " |    |    |    |-- suffix: string (nullable = true)\n",
      " |    |-- clinical-trial-number: array (nullable = true)\n",
      " |    |    |-- element: struct (containsNull = true)\n",
      " |    |    |    |-- clinical-trial-number: string (nullable = true)\n",
      " |    |    |    |-- registry: string (nullable = true)\n",
      " |    |    |    |-- type: string (nullable = true)\n",
      " |    |-- container-title: array (nullable = true)\n",
      " |    |    |-- element: string (containsNull = true)\n",
      " |    |-- content-created: struct (nullable = true)\n",
      " |    |    |-- date-parts: array (nullable = true)\n",
      " |    |    |    |-- element: array (containsNull = true)\n",
      " |    |    |    |    |-- element: long (containsNull = true)\n",
      " |    |-- content-domain: struct (nullable = true)\n",
      " |    |    |-- crossmark-restriction: boolean (nullable = true)\n",
      " |    |    |-- domain: array (nullable = true)\n",
      " |    |    |    |-- element: string (containsNull = true)\n",
      " |    |-- content-updated: struct (nullable = true)\n",
      " |    |    |-- date-parts: array (nullable = true)\n",
      " |    |    |    |-- element: array (containsNull = true)\n",
      " |    |    |    |    |-- element: long (containsNull = true)\n",
      " |    |-- created: struct (nullable = true)\n",
      " |    |    |-- date-parts: array (nullable = true)\n",
      " |    |    |    |-- element: array (containsNull = true)\n",
      " |    |    |    |    |-- element: long (containsNull = true)\n",
      " |    |    |-- date-time: string (nullable = true)\n",
      " |    |    |-- timestamp: long (nullable = true)\n",
      " |    |-- degree: array (nullable = true)\n",
      " |    |    |-- element: string (containsNull = true)\n",
      " |    |-- deposited: struct (nullable = true)\n",
      " |    |    |-- date-parts: array (nullable = true)\n",
      " |    |    |    |-- element: array (containsNull = true)\n",
      " |    |    |    |    |-- element: long (containsNull = true)\n",
      " |    |    |-- date-time: string (nullable = true)\n",
      " |    |    |-- timestamp: long (nullable = true)\n",
      " |    |-- description: string (nullable = true)\n",
      " |    |-- edition-number: string (nullable = true)\n",
      " |    |-- editor: array (nullable = true)\n",
      " |    |    |-- element: struct (containsNull = true)\n",
      " |    |    |    |-- ORCID: string (nullable = true)\n",
      " |    |    |    |-- affiliation: array (nullable = true)\n",
      " |    |    |    |    |-- element: struct (containsNull = true)\n",
      " |    |    |    |    |    |-- acronym: array (nullable = true)\n",
      " |    |    |    |    |    |    |-- element: string (containsNull = true)\n",
      " |    |    |    |    |    |-- department: array (nullable = true)\n",
      " |    |    |    |    |    |    |-- element: string (containsNull = true)\n",
      " |    |    |    |    |    |-- id: array (nullable = true)\n",
      " |    |    |    |    |    |    |-- element: struct (containsNull = true)\n",
      " |    |    |    |    |    |    |    |-- asserted-by: string (nullable = true)\n",
      " |    |    |    |    |    |    |    |-- id: string (nullable = true)\n",
      " |    |    |    |    |    |    |    |-- id-type: string (nullable = true)\n",
      " |    |    |    |    |    |-- name: string (nullable = true)\n",
      " |    |    |    |    |    |-- place: array (nullable = true)\n",
      " |    |    |    |    |    |    |-- element: string (containsNull = true)\n",
      " |    |    |    |-- authenticated-orcid: boolean (nullable = true)\n",
      " |    |    |    |-- family: string (nullable = true)\n",
      " |    |    |    |-- given: string (nullable = true)\n",
      " |    |    |    |-- name: string (nullable = true)\n",
      " |    |    |    |-- sequence: string (nullable = true)\n",
      " |    |    |    |-- suffix: string (nullable = true)\n",
      " |    |-- event: struct (nullable = true)\n",
      " |    |    |-- acronym: string (nullable = true)\n",
      " |    |    |-- end: struct (nullable = true)\n",
      " |    |    |    |-- date-parts: array (nullable = true)\n",
      " |    |    |    |    |-- element: array (containsNull = true)\n",
      " |    |    |    |    |    |-- element: long (containsNull = true)\n",
      " |    |    |-- location: string (nullable = true)\n",
      " |    |    |-- name: string (nullable = true)\n",
      " |    |    |-- number: string (nullable = true)\n",
      " |    |    |-- sponsor: array (nullable = true)\n",
      " |    |    |    |-- element: string (containsNull = true)\n",
      " |    |    |-- start: struct (nullable = true)\n",
      " |    |    |    |-- date-parts: array (nullable = true)\n",
      " |    |    |    |    |-- element: array (containsNull = true)\n",
      " |    |    |    |    |    |-- element: long (containsNull = true)\n",
      " |    |    |-- theme: string (nullable = true)\n",
      " |    |-- funder: array (nullable = true)\n",
      " |    |    |-- element: struct (containsNull = true)\n",
      " |    |    |    |-- DOI: string (nullable = true)\n",
      " |    |    |    |-- award: array (nullable = true)\n",
      " |    |    |    |    |-- element: string (containsNull = true)\n",
      " |    |    |    |-- doi-asserted-by: string (nullable = true)\n",
      " |    |    |    |-- name: string (nullable = true)\n",
      " |    |-- group-title: string (nullable = true)\n",
      " |    |-- indexed: struct (nullable = true)\n",
      " |    |    |-- date-parts: array (nullable = true)\n",
      " |    |    |    |-- element: array (containsNull = true)\n",
      " |    |    |    |    |-- element: long (containsNull = true)\n",
      " |    |    |-- date-time: string (nullable = true)\n",
      " |    |    |-- timestamp: long (nullable = true)\n",
      " |    |-- institution: array (nullable = true)\n",
      " |    |    |-- element: struct (containsNull = true)\n",
      " |    |    |    |-- acronym: array (nullable = true)\n",
      " |    |    |    |    |-- element: string (containsNull = true)\n",
      " |    |    |    |-- department: array (nullable = true)\n",
      " |    |    |    |    |-- element: string (containsNull = true)\n",
      " |    |    |    |-- id: array (nullable = true)\n",
      " |    |    |    |    |-- element: struct (containsNull = true)\n",
      " |    |    |    |    |    |-- asserted-by: string (nullable = true)\n",
      " |    |    |    |    |    |-- id: string (nullable = true)\n",
      " |    |    |    |    |    |-- id-type: string (nullable = true)\n",
      " |    |    |    |-- name: string (nullable = true)\n",
      " |    |    |    |-- place: array (nullable = true)\n",
      " |    |    |    |    |-- element: string (containsNull = true)\n",
      " |    |-- is-referenced-by-count: long (nullable = true)\n",
      " |    |-- isbn-type: array (nullable = true)\n",
      " |    |    |-- element: struct (containsNull = true)\n",
      " |    |    |    |-- type: string (nullable = true)\n",
      " |    |    |    |-- value: string (nullable = true)\n",
      " |    |-- issn-type: array (nullable = true)\n",
      " |    |    |-- element: struct (containsNull = true)\n",
      " |    |    |    |-- type: string (nullable = true)\n",
      " |    |    |    |-- value: string (nullable = true)\n",
      " |    |-- issue: string (nullable = true)\n",
      " |    |-- issued: struct (nullable = true)\n",
      " |    |    |-- date-parts: array (nullable = true)\n",
      " |    |    |    |-- element: array (containsNull = true)\n",
      " |    |    |    |    |-- element: long (containsNull = true)\n",
      " |    |-- journal-issue: struct (nullable = true)\n",
      " |    |    |-- issue: string (nullable = true)\n",
      " |    |    |-- published-online: struct (nullable = true)\n",
      " |    |    |    |-- date-parts: array (nullable = true)\n",
      " |    |    |    |    |-- element: array (containsNull = true)\n",
      " |    |    |    |    |    |-- element: long (containsNull = true)\n",
      " |    |    |-- published-print: struct (nullable = true)\n",
      " |    |    |    |-- date-parts: array (nullable = true)\n",
      " |    |    |    |    |-- element: array (containsNull = true)\n",
      " |    |    |    |    |    |-- element: long (containsNull = true)\n",
      " |    |-- language: string (nullable = true)\n",
      " |    |-- license: array (nullable = true)\n",
      " |    |    |-- element: struct (containsNull = true)\n",
      " |    |    |    |-- URL: string (nullable = true)\n",
      " |    |    |    |-- content-version: string (nullable = true)\n",
      " |    |    |    |-- delay-in-days: long (nullable = true)\n",
      " |    |    |    |-- start: struct (nullable = true)\n",
      " |    |    |    |    |-- date-parts: array (nullable = true)\n",
      " |    |    |    |    |    |-- element: array (containsNull = true)\n",
      " |    |    |    |    |    |    |-- element: long (containsNull = true)\n",
      " |    |    |    |    |-- date-time: string (nullable = true)\n",
      " |    |    |    |    |-- timestamp: long (nullable = true)\n",
      " |    |-- link: array (nullable = true)\n",
      " |    |    |-- element: struct (containsNull = true)\n",
      " |    |    |    |-- URL: string (nullable = true)\n",
      " |    |    |    |-- content-type: string (nullable = true)\n",
      " |    |    |    |-- content-version: string (nullable = true)\n",
      " |    |    |    |-- intended-application: string (nullable = true)\n",
      " |    |-- member: string (nullable = true)\n",
      " |    |-- original-title: array (nullable = true)\n",
      " |    |    |-- element: string (containsNull = true)\n",
      " |    |-- page: string (nullable = true)\n",
      " |    |-- part-number: string (nullable = true)\n",
      " |    |-- posted: struct (nullable = true)\n",
      " |    |    |-- date-parts: array (nullable = true)\n",
      " |    |    |    |-- element: array (containsNull = true)\n",
      " |    |    |    |    |-- element: long (containsNull = true)\n",
      " |    |-- prefix: string (nullable = true)\n",
      " |    |-- project: array (nullable = true)\n",
      " |    |    |-- element: struct (containsNull = true)\n",
      " |    |    |    |-- award-amount: struct (nullable = true)\n",
      " |    |    |    |    |-- amount: double (nullable = true)\n",
      " |    |    |    |    |-- currency: string (nullable = true)\n",
      " |    |    |    |-- award-end: struct (nullable = true)\n",
      " |    |    |    |    |-- date-parts: array (nullable = true)\n",
      " |    |    |    |    |    |-- element: array (containsNull = true)\n",
      " |    |    |    |    |    |    |-- element: long (containsNull = true)\n",
      " |    |    |    |-- award-planned-end: struct (nullable = true)\n",
      " |    |    |    |    |-- date-parts: array (nullable = true)\n",
      " |    |    |    |    |    |-- element: array (containsNull = true)\n",
      " |    |    |    |    |    |    |-- element: long (containsNull = true)\n",
      " |    |    |    |-- award-start: struct (nullable = true)\n",
      " |    |    |    |    |-- date-parts: array (nullable = true)\n",
      " |    |    |    |    |    |-- element: array (containsNull = true)\n",
      " |    |    |    |    |    |    |-- element: long (containsNull = true)\n",
      " |    |    |    |-- co-lead-investigator: array (nullable = true)\n",
      " |    |    |    |    |-- element: struct (containsNull = true)\n",
      " |    |    |    |    |    |-- ORCID: string (nullable = true)\n",
      " |    |    |    |    |    |-- affiliation: array (nullable = true)\n",
      " |    |    |    |    |    |    |-- element: struct (containsNull = true)\n",
      " |    |    |    |    |    |    |    |-- country: string (nullable = true)\n",
      " |    |    |    |    |    |    |    |-- id: array (nullable = true)\n",
      " |    |    |    |    |    |    |    |    |-- element: struct (containsNull = true)\n",
      " |    |    |    |    |    |    |    |    |    |-- asserted-by: string (nullable = true)\n",
      " |    |    |    |    |    |    |    |    |    |-- id: string (nullable = true)\n",
      " |    |    |    |    |    |    |    |    |    |-- id-type: string (nullable = true)\n",
      " |    |    |    |    |    |    |    |-- name: string (nullable = true)\n",
      " |    |    |    |    |    |-- authenticated-orcid: boolean (nullable = true)\n",
      " |    |    |    |    |    |-- family: string (nullable = true)\n",
      " |    |    |    |    |    |-- given: string (nullable = true)\n",
      " |    |    |    |    |    |-- role-end: struct (nullable = true)\n",
      " |    |    |    |    |    |    |-- date-parts: array (nullable = true)\n",
      " |    |    |    |    |    |    |    |-- element: array (containsNull = true)\n",
      " |    |    |    |    |    |    |    |    |-- element: long (containsNull = true)\n",
      " |    |    |    |    |    |-- role-start: struct (nullable = true)\n",
      " |    |    |    |    |    |    |-- date-parts: array (nullable = true)\n",
      " |    |    |    |    |    |    |    |-- element: array (containsNull = true)\n",
      " |    |    |    |    |    |    |    |    |-- element: long (containsNull = true)\n",
      " |    |    |    |-- funding: array (nullable = true)\n",
      " |    |    |    |    |-- element: struct (containsNull = true)\n",
      " |    |    |    |    |    |-- award-amount: struct (nullable = true)\n",
      " |    |    |    |    |    |    |-- amount: double (nullable = true)\n",
      " |    |    |    |    |    |    |-- currency: string (nullable = true)\n",
      " |    |    |    |    |    |    |-- percentage: long (nullable = true)\n",
      " |    |    |    |    |    |-- funder: struct (nullable = true)\n",
      " |    |    |    |    |    |    |-- id: array (nullable = true)\n",
      " |    |    |    |    |    |    |    |-- element: struct (containsNull = true)\n",
      " |    |    |    |    |    |    |    |    |-- asserted-by: string (nullable = true)\n",
      " |    |    |    |    |    |    |    |    |-- id: string (nullable = true)\n",
      " |    |    |    |    |    |    |    |    |-- id-type: string (nullable = true)\n",
      " |    |    |    |    |    |    |-- name: string (nullable = true)\n",
      " |    |    |    |    |    |-- scheme: string (nullable = true)\n",
      " |    |    |    |    |    |-- type: string (nullable = true)\n",
      " |    |    |    |-- investigator: array (nullable = true)\n",
      " |    |    |    |    |-- element: struct (containsNull = true)\n",
      " |    |    |    |    |    |-- ORCID: string (nullable = true)\n",
      " |    |    |    |    |    |-- affiliation: array (nullable = true)\n",
      " |    |    |    |    |    |    |-- element: struct (containsNull = true)\n",
      " |    |    |    |    |    |    |    |-- country: string (nullable = true)\n",
      " |    |    |    |    |    |    |    |-- id: array (nullable = true)\n",
      " |    |    |    |    |    |    |    |    |-- element: struct (containsNull = true)\n",
      " |    |    |    |    |    |    |    |    |    |-- asserted-by: string (nullable = true)\n",
      " |    |    |    |    |    |    |    |    |    |-- id: string (nullable = true)\n",
      " |    |    |    |    |    |    |    |    |    |-- id-type: string (nullable = true)\n",
      " |    |    |    |    |    |    |    |-- name: string (nullable = true)\n",
      " |    |    |    |    |    |-- alternate-name: array (nullable = true)\n",
      " |    |    |    |    |    |    |-- element: string (containsNull = true)\n",
      " |    |    |    |    |    |-- authenticated-orcid: boolean (nullable = true)\n",
      " |    |    |    |    |    |-- family: string (nullable = true)\n",
      " |    |    |    |    |    |-- given: string (nullable = true)\n",
      " |    |    |    |    |    |-- role-start: struct (nullable = true)\n",
      " |    |    |    |    |    |    |-- date-parts: array (nullable = true)\n",
      " |    |    |    |    |    |    |    |-- element: array (containsNull = true)\n",
      " |    |    |    |    |    |    |    |    |-- element: long (containsNull = true)\n",
      " |    |    |    |-- lead-investigator: array (nullable = true)\n",
      " |    |    |    |    |-- element: struct (containsNull = true)\n",
      " |    |    |    |    |    |-- ORCID: string (nullable = true)\n",
      " |    |    |    |    |    |-- affiliation: array (nullable = true)\n",
      " |    |    |    |    |    |    |-- element: struct (containsNull = true)\n",
      " |    |    |    |    |    |    |    |-- country: string (nullable = true)\n",
      " |    |    |    |    |    |    |    |-- id: array (nullable = true)\n",
      " |    |    |    |    |    |    |    |    |-- element: struct (containsNull = true)\n",
      " |    |    |    |    |    |    |    |    |    |-- asserted-by: string (nullable = true)\n",
      " |    |    |    |    |    |    |    |    |    |-- id: string (nullable = true)\n",
      " |    |    |    |    |    |    |    |    |    |-- id-type: string (nullable = true)\n",
      " |    |    |    |    |    |    |    |-- name: string (nullable = true)\n",
      " |    |    |    |    |    |-- alternate-name: array (nullable = true)\n",
      " |    |    |    |    |    |    |-- element: string (containsNull = true)\n",
      " |    |    |    |    |    |-- authenticated-orcid: boolean (nullable = true)\n",
      " |    |    |    |    |    |-- family: string (nullable = true)\n",
      " |    |    |    |    |    |-- given: string (nullable = true)\n",
      " |    |    |    |    |    |-- role-end: struct (nullable = true)\n",
      " |    |    |    |    |    |    |-- date-parts: array (nullable = true)\n",
      " |    |    |    |    |    |    |    |-- element: array (containsNull = true)\n",
      " |    |    |    |    |    |    |    |    |-- element: long (containsNull = true)\n",
      " |    |    |    |    |    |-- role-start: struct (nullable = true)\n",
      " |    |    |    |    |    |    |-- date-parts: array (nullable = true)\n",
      " |    |    |    |    |    |    |    |-- element: array (containsNull = true)\n",
      " |    |    |    |    |    |    |    |    |-- element: long (containsNull = true)\n",
      " |    |    |    |-- project-description: array (nullable = true)\n",
      " |    |    |    |    |-- element: struct (containsNull = true)\n",
      " |    |    |    |    |    |-- description: string (nullable = true)\n",
      " |    |    |    |    |    |-- language: string (nullable = true)\n",
      " |    |    |    |-- project-title: array (nullable = true)\n",
      " |    |    |    |    |-- element: struct (containsNull = true)\n",
      " |    |    |    |    |    |-- language: string (nullable = true)\n",
      " |    |    |    |    |    |-- title: string (nullable = true)\n",
      " |    |-- published: struct (nullable = true)\n",
      " |    |    |-- date-parts: array (nullable = true)\n",
      " |    |    |    |-- element: array (containsNull = true)\n",
      " |    |    |    |    |-- element: long (containsNull = true)\n",
      " |    |-- published-online: struct (nullable = true)\n",
      " |    |    |-- date-parts: array (nullable = true)\n",
      " |    |    |    |-- element: array (containsNull = true)\n",
      " |    |    |    |    |-- element: long (containsNull = true)\n",
      " |    |-- published-other: struct (nullable = true)\n",
      " |    |    |-- date-parts: array (nullable = true)\n",
      " |    |    |    |-- element: array (containsNull = true)\n",
      " |    |    |    |    |-- element: long (containsNull = true)\n",
      " |    |-- published-print: struct (nullable = true)\n",
      " |    |    |-- date-parts: array (nullable = true)\n",
      " |    |    |    |-- element: array (containsNull = true)\n",
      " |    |    |    |    |-- element: long (containsNull = true)\n",
      " |    |-- publisher: string (nullable = true)\n",
      " |    |-- publisher-location: string (nullable = true)\n",
      " |    |-- reference: array (nullable = true)\n",
      " |    |    |-- element: struct (containsNull = true)\n",
      " |    |    |    |-- DOI: string (nullable = true)\n",
      " |    |    |    |-- ISBN: string (nullable = true)\n",
      " |    |    |    |-- ISSN: string (nullable = true)\n",
      " |    |    |    |-- article-title: string (nullable = true)\n",
      " |    |    |    |-- author: string (nullable = true)\n",
      " |    |    |    |-- component: string (nullable = true)\n",
      " |    |    |    |-- doi-asserted-by: string (nullable = true)\n",
      " |    |    |    |-- edition: string (nullable = true)\n",
      " |    |    |    |-- first-page: string (nullable = true)\n",
      " |    |    |    |-- isbn-type: string (nullable = true)\n",
      " |    |    |    |-- issn-type: string (nullable = true)\n",
      " |    |    |    |-- issue: string (nullable = true)\n",
      " |    |    |    |-- journal-title: string (nullable = true)\n",
      " |    |    |    |-- key: string (nullable = true)\n",
      " |    |    |    |-- series-title: string (nullable = true)\n",
      " |    |    |    |-- standard-designator: string (nullable = true)\n",
      " |    |    |    |-- standards-body: string (nullable = true)\n",
      " |    |    |    |-- unstructured: string (nullable = true)\n",
      " |    |    |    |-- volume: string (nullable = true)\n",
      " |    |    |    |-- volume-title: string (nullable = true)\n",
      " |    |    |    |-- year: string (nullable = true)\n",
      " |    |-- reference-count: long (nullable = true)\n",
      " |    |-- references-count: long (nullable = true)\n",
      " |    |-- relation: struct (nullable = true)\n",
      " |    |    |-- based-on-data: array (nullable = true)\n",
      " |    |    |    |-- element: struct (containsNull = true)\n",
      " |    |    |    |    |-- asserted-by: string (nullable = true)\n",
      " |    |    |    |    |-- id: string (nullable = true)\n",
      " |    |    |    |    |-- id-type: string (nullable = true)\n",
      " |    |    |-- compiles: array (nullable = true)\n",
      " |    |    |    |-- element: struct (containsNull = true)\n",
      " |    |    |    |    |-- asserted-by: string (nullable = true)\n",
      " |    |    |    |    |-- id: string (nullable = true)\n",
      " |    |    |    |    |-- id-type: string (nullable = true)\n",
      " |    |    |-- continues: array (nullable = true)\n",
      " |    |    |    |-- element: struct (containsNull = true)\n",
      " |    |    |    |    |-- asserted-by: string (nullable = true)\n",
      " |    |    |    |    |-- id: string (nullable = true)\n",
      " |    |    |    |    |-- id-type: string (nullable = true)\n",
      " |    |    |-- documents: array (nullable = true)\n",
      " |    |    |    |-- element: struct (containsNull = true)\n",
      " |    |    |    |    |-- asserted-by: string (nullable = true)\n",
      " |    |    |    |    |-- id: string (nullable = true)\n",
      " |    |    |    |    |-- id-type: string (nullable = true)\n",
      " |    |    |-- finances: array (nullable = true)\n",
      " |    |    |    |-- element: struct (containsNull = true)\n",
      " |    |    |    |    |-- asserted-by: string (nullable = true)\n",
      " |    |    |    |    |-- id: string (nullable = true)\n",
      " |    |    |    |    |-- id-type: string (nullable = true)\n",
      " |    |    |-- has-comment: array (nullable = true)\n",
      " |    |    |    |-- element: struct (containsNull = true)\n",
      " |    |    |    |    |-- asserted-by: string (nullable = true)\n",
      " |    |    |    |    |-- id: string (nullable = true)\n",
      " |    |    |    |    |-- id-type: string (nullable = true)\n",
      " |    |    |-- has-derivation: array (nullable = true)\n",
      " |    |    |    |-- element: struct (containsNull = true)\n",
      " |    |    |    |    |-- asserted-by: string (nullable = true)\n",
      " |    |    |    |    |-- id: string (nullable = true)\n",
      " |    |    |    |    |-- id-type: string (nullable = true)\n",
      " |    |    |-- has-expression: array (nullable = true)\n",
      " |    |    |    |-- element: struct (containsNull = true)\n",
      " |    |    |    |    |-- asserted-by: string (nullable = true)\n",
      " |    |    |    |    |-- id: string (nullable = true)\n",
      " |    |    |    |    |-- id-type: string (nullable = true)\n",
      " |    |    |-- has-format: array (nullable = true)\n",
      " |    |    |    |-- element: struct (containsNull = true)\n",
      " |    |    |    |    |-- asserted-by: string (nullable = true)\n",
      " |    |    |    |    |-- id: string (nullable = true)\n",
      " |    |    |    |    |-- id-type: string (nullable = true)\n",
      " |    |    |-- has-manifestation: array (nullable = true)\n",
      " |    |    |    |-- element: struct (containsNull = true)\n",
      " |    |    |    |    |-- asserted-by: string (nullable = true)\n",
      " |    |    |    |    |-- id: string (nullable = true)\n",
      " |    |    |    |    |-- id-type: string (nullable = true)\n",
      " |    |    |-- has-manuscript: array (nullable = true)\n",
      " |    |    |    |-- element: struct (containsNull = true)\n",
      " |    |    |    |    |-- asserted-by: string (nullable = true)\n",
      " |    |    |    |    |-- id: string (nullable = true)\n",
      " |    |    |    |    |-- id-type: string (nullable = true)\n",
      " |    |    |-- has-part: array (nullable = true)\n",
      " |    |    |    |-- element: struct (containsNull = true)\n",
      " |    |    |    |    |-- asserted-by: string (nullable = true)\n",
      " |    |    |    |    |-- id: string (nullable = true)\n",
      " |    |    |    |    |-- id-type: string (nullable = true)\n",
      " |    |    |-- has-preprint: array (nullable = true)\n",
      " |    |    |    |-- element: struct (containsNull = true)\n",
      " |    |    |    |    |-- asserted-by: string (nullable = true)\n",
      " |    |    |    |    |-- id: string (nullable = true)\n",
      " |    |    |    |    |-- id-type: string (nullable = true)\n",
      " |    |    |-- has-related-material: array (nullable = true)\n",
      " |    |    |    |-- element: struct (containsNull = true)\n",
      " |    |    |    |    |-- asserted-by: string (nullable = true)\n",
      " |    |    |    |    |-- id: string (nullable = true)\n",
      " |    |    |    |    |-- id-type: string (nullable = true)\n",
      " |    |    |-- has-reply: array (nullable = true)\n",
      " |    |    |    |-- element: struct (containsNull = true)\n",
      " |    |    |    |    |-- asserted-by: string (nullable = true)\n",
      " |    |    |    |    |-- id: string (nullable = true)\n",
      " |    |    |    |    |-- id-type: string (nullable = true)\n",
      " |    |    |-- has-review: array (nullable = true)\n",
      " |    |    |    |-- element: struct (containsNull = true)\n",
      " |    |    |    |    |-- asserted-by: string (nullable = true)\n",
      " |    |    |    |    |-- id: string (nullable = true)\n",
      " |    |    |    |    |-- id-type: string (nullable = true)\n",
      " |    |    |-- has-translation: array (nullable = true)\n",
      " |    |    |    |-- element: struct (containsNull = true)\n",
      " |    |    |    |    |-- asserted-by: string (nullable = true)\n",
      " |    |    |    |    |-- id: string (nullable = true)\n",
      " |    |    |    |    |-- id-type: string (nullable = true)\n",
      " |    |    |-- has-version: array (nullable = true)\n",
      " |    |    |    |-- element: struct (containsNull = true)\n",
      " |    |    |    |    |-- asserted-by: string (nullable = true)\n",
      " |    |    |    |    |-- id: string (nullable = true)\n",
      " |    |    |    |    |-- id-type: string (nullable = true)\n",
      " |    |    |-- is-based-on: array (nullable = true)\n",
      " |    |    |    |-- element: struct (containsNull = true)\n",
      " |    |    |    |    |-- asserted-by: string (nullable = true)\n",
      " |    |    |    |    |-- id: string (nullable = true)\n",
      " |    |    |    |    |-- id-type: string (nullable = true)\n",
      " |    |    |-- is-basis-for: array (nullable = true)\n",
      " |    |    |    |-- element: struct (containsNull = true)\n",
      " |    |    |    |    |-- asserted-by: string (nullable = true)\n",
      " |    |    |    |    |-- id: string (nullable = true)\n",
      " |    |    |    |    |-- id-type: string (nullable = true)\n",
      " |    |    |-- is-comment-on: array (nullable = true)\n",
      " |    |    |    |-- element: struct (containsNull = true)\n",
      " |    |    |    |    |-- asserted-by: string (nullable = true)\n",
      " |    |    |    |    |-- id: string (nullable = true)\n",
      " |    |    |    |    |-- id-type: string (nullable = true)\n",
      " |    |    |-- is-compiled-by: array (nullable = true)\n",
      " |    |    |    |-- element: struct (containsNull = true)\n",
      " |    |    |    |    |-- asserted-by: string (nullable = true)\n",
      " |    |    |    |    |-- id: string (nullable = true)\n",
      " |    |    |    |    |-- id-type: string (nullable = true)\n",
      " |    |    |-- is-continued-by: array (nullable = true)\n",
      " |    |    |    |-- element: struct (containsNull = true)\n",
      " |    |    |    |    |-- asserted-by: string (nullable = true)\n",
      " |    |    |    |    |-- id: string (nullable = true)\n",
      " |    |    |    |    |-- id-type: string (nullable = true)\n",
      " |    |    |-- is-data-basis-for: array (nullable = true)\n",
      " |    |    |    |-- element: struct (containsNull = true)\n",
      " |    |    |    |    |-- asserted-by: string (nullable = true)\n",
      " |    |    |    |    |-- id: string (nullable = true)\n",
      " |    |    |    |    |-- id-type: string (nullable = true)\n",
      " |    |    |-- is-derived-from: array (nullable = true)\n",
      " |    |    |    |-- element: struct (containsNull = true)\n",
      " |    |    |    |    |-- asserted-by: string (nullable = true)\n",
      " |    |    |    |    |-- id: string (nullable = true)\n",
      " |    |    |    |    |-- id-type: string (nullable = true)\n",
      " |    |    |-- is-documented-by: array (nullable = true)\n",
      " |    |    |    |-- element: struct (containsNull = true)\n",
      " |    |    |    |    |-- asserted-by: string (nullable = true)\n",
      " |    |    |    |    |-- id: string (nullable = true)\n",
      " |    |    |    |    |-- id-type: string (nullable = true)\n",
      " |    |    |-- is-expression-of: array (nullable = true)\n",
      " |    |    |    |-- element: struct (containsNull = true)\n",
      " |    |    |    |    |-- asserted-by: string (nullable = true)\n",
      " |    |    |    |    |-- id: string (nullable = true)\n",
      " |    |    |    |    |-- id-type: string (nullable = true)\n",
      " |    |    |-- is-financed-by: array (nullable = true)\n",
      " |    |    |    |-- element: struct (containsNull = true)\n",
      " |    |    |    |    |-- asserted-by: string (nullable = true)\n",
      " |    |    |    |    |-- id: string (nullable = true)\n",
      " |    |    |    |    |-- id-type: string (nullable = true)\n",
      " |    |    |-- is-identical-to: array (nullable = true)\n",
      " |    |    |    |-- element: struct (containsNull = true)\n",
      " |    |    |    |    |-- asserted-by: string (nullable = true)\n",
      " |    |    |    |    |-- id: string (nullable = true)\n",
      " |    |    |    |    |-- id-type: string (nullable = true)\n",
      " |    |    |-- is-manifestation-of: array (nullable = true)\n",
      " |    |    |    |-- element: struct (containsNull = true)\n",
      " |    |    |    |    |-- asserted-by: string (nullable = true)\n",
      " |    |    |    |    |-- id: string (nullable = true)\n",
      " |    |    |    |    |-- id-type: string (nullable = true)\n",
      " |    |    |-- is-manuscript-of: array (nullable = true)\n",
      " |    |    |    |-- element: struct (containsNull = true)\n",
      " |    |    |    |    |-- asserted-by: string (nullable = true)\n",
      " |    |    |    |    |-- id: string (nullable = true)\n",
      " |    |    |    |    |-- id-type: string (nullable = true)\n",
      " |    |    |-- is-original-form-of: array (nullable = true)\n",
      " |    |    |    |-- element: struct (containsNull = true)\n",
      " |    |    |    |    |-- asserted-by: string (nullable = true)\n",
      " |    |    |    |    |-- id: string (nullable = true)\n",
      " |    |    |    |    |-- id-type: string (nullable = true)\n",
      " |    |    |-- is-part-of: array (nullable = true)\n",
      " |    |    |    |-- element: struct (containsNull = true)\n",
      " |    |    |    |    |-- asserted-by: string (nullable = true)\n",
      " |    |    |    |    |-- id: string (nullable = true)\n",
      " |    |    |    |    |-- id-type: string (nullable = true)\n",
      " |    |    |-- is-preprint-of: array (nullable = true)\n",
      " |    |    |    |-- element: struct (containsNull = true)\n",
      " |    |    |    |    |-- asserted-by: string (nullable = true)\n",
      " |    |    |    |    |-- id: string (nullable = true)\n",
      " |    |    |    |    |-- id-type: string (nullable = true)\n",
      " |    |    |-- is-referenced-by: array (nullable = true)\n",
      " |    |    |    |-- element: struct (containsNull = true)\n",
      " |    |    |    |    |-- asserted-by: string (nullable = true)\n",
      " |    |    |    |    |-- id: string (nullable = true)\n",
      " |    |    |    |    |-- id-type: string (nullable = true)\n",
      " |    |    |-- is-related-material: array (nullable = true)\n",
      " |    |    |    |-- element: struct (containsNull = true)\n",
      " |    |    |    |    |-- asserted-by: string (nullable = true)\n",
      " |    |    |    |    |-- id: string (nullable = true)\n",
      " |    |    |    |    |-- id-type: string (nullable = true)\n",
      " |    |    |-- is-replaced-by: array (nullable = true)\n",
      " |    |    |    |-- element: struct (containsNull = true)\n",
      " |    |    |    |    |-- asserted-by: string (nullable = true)\n",
      " |    |    |    |    |-- id: string (nullable = true)\n",
      " |    |    |    |    |-- id-type: string (nullable = true)\n",
      " |    |    |-- is-reply-to: array (nullable = true)\n",
      " |    |    |    |-- element: struct (containsNull = true)\n",
      " |    |    |    |    |-- asserted-by: string (nullable = true)\n",
      " |    |    |    |    |-- id: string (nullable = true)\n",
      " |    |    |    |    |-- id-type: string (nullable = true)\n",
      " |    |    |-- is-review-of: array (nullable = true)\n",
      " |    |    |    |-- element: struct (containsNull = true)\n",
      " |    |    |    |    |-- asserted-by: string (nullable = true)\n",
      " |    |    |    |    |-- id: string (nullable = true)\n",
      " |    |    |    |    |-- id-type: string (nullable = true)\n",
      " |    |    |-- is-same-as: array (nullable = true)\n",
      " |    |    |    |-- element: struct (containsNull = true)\n",
      " |    |    |    |    |-- asserted-by: string (nullable = true)\n",
      " |    |    |    |    |-- id: string (nullable = true)\n",
      " |    |    |    |    |-- id-type: string (nullable = true)\n",
      " |    |    |-- is-supplement-to: array (nullable = true)\n",
      " |    |    |    |-- element: struct (containsNull = true)\n",
      " |    |    |    |    |-- asserted-by: string (nullable = true)\n",
      " |    |    |    |    |-- id: string (nullable = true)\n",
      " |    |    |    |    |-- id-type: string (nullable = true)\n",
      " |    |    |-- is-supplemented-by: array (nullable = true)\n",
      " |    |    |    |-- element: struct (containsNull = true)\n",
      " |    |    |    |    |-- asserted-by: string (nullable = true)\n",
      " |    |    |    |    |-- id: string (nullable = true)\n",
      " |    |    |    |    |-- id-type: string (nullable = true)\n",
      " |    |    |-- is-translation-of: array (nullable = true)\n",
      " |    |    |    |-- element: struct (containsNull = true)\n",
      " |    |    |    |    |-- asserted-by: string (nullable = true)\n",
      " |    |    |    |    |-- id: string (nullable = true)\n",
      " |    |    |    |    |-- id-type: string (nullable = true)\n",
      " |    |    |-- is-variant-form-of: array (nullable = true)\n",
      " |    |    |    |-- element: struct (containsNull = true)\n",
      " |    |    |    |    |-- asserted-by: string (nullable = true)\n",
      " |    |    |    |    |-- id: string (nullable = true)\n",
      " |    |    |    |    |-- id-type: string (nullable = true)\n",
      " |    |    |-- is-version-of: array (nullable = true)\n",
      " |    |    |    |-- element: struct (containsNull = true)\n",
      " |    |    |    |    |-- asserted-by: string (nullable = true)\n",
      " |    |    |    |    |-- id: string (nullable = true)\n",
      " |    |    |    |    |-- id-type: string (nullable = true)\n",
      " |    |    |-- references: array (nullable = true)\n",
      " |    |    |    |-- element: struct (containsNull = true)\n",
      " |    |    |    |    |-- asserted-by: string (nullable = true)\n",
      " |    |    |    |    |-- id: string (nullable = true)\n",
      " |    |    |    |    |-- id-type: string (nullable = true)\n",
      " |    |    |-- replaces: array (nullable = true)\n",
      " |    |    |    |-- element: struct (containsNull = true)\n",
      " |    |    |    |    |-- asserted-by: string (nullable = true)\n",
      " |    |    |    |    |-- id: string (nullable = true)\n",
      " |    |    |    |    |-- id-type: string (nullable = true)\n",
      " |    |    |-- requires: array (nullable = true)\n",
      " |    |    |    |-- element: struct (containsNull = true)\n",
      " |    |    |    |    |-- asserted-by: string (nullable = true)\n",
      " |    |    |    |    |-- id: string (nullable = true)\n",
      " |    |    |    |    |-- id-type: string (nullable = true)\n",
      " |    |-- resource: struct (nullable = true)\n",
      " |    |    |-- primary: struct (nullable = true)\n",
      " |    |    |    |-- URL: string (nullable = true)\n",
      " |    |    |-- secondary: array (nullable = true)\n",
      " |    |    |    |-- element: struct (containsNull = true)\n",
      " |    |    |    |    |-- URL: string (nullable = true)\n",
      " |    |-- review: struct (nullable = true)\n",
      " |    |    |-- competing-interest-statement: string (nullable = true)\n",
      " |    |    |-- language: string (nullable = true)\n",
      " |    |    |-- recommendation: string (nullable = true)\n",
      " |    |    |-- revision-round: string (nullable = true)\n",
      " |    |    |-- running-number: string (nullable = true)\n",
      " |    |    |-- stage: string (nullable = true)\n",
      " |    |    |-- type: string (nullable = true)\n",
      " |    |-- score: double (nullable = true)\n",
      " |    |-- short-container-title: array (nullable = true)\n",
      " |    |    |-- element: string (containsNull = true)\n",
      " |    |-- short-title: array (nullable = true)\n",
      " |    |    |-- element: string (containsNull = true)\n",
      " |    |-- source: string (nullable = true)\n",
      " |    |-- standards-body: struct (nullable = true)\n",
      " |    |    |-- acronym: string (nullable = true)\n",
      " |    |    |-- name: string (nullable = true)\n",
      " |    |-- subject: array (nullable = true)\n",
      " |    |    |-- element: string (containsNull = true)\n",
      " |    |-- subtitle: array (nullable = true)\n",
      " |    |    |-- element: string (containsNull = true)\n",
      " |    |-- subtype: string (nullable = true)\n",
      " |    |-- title: array (nullable = true)\n",
      " |    |    |-- element: string (containsNull = true)\n",
      " |    |-- translator: array (nullable = true)\n",
      " |    |    |-- element: struct (containsNull = true)\n",
      " |    |    |    |-- ORCID: string (nullable = true)\n",
      " |    |    |    |-- affiliation: array (nullable = true)\n",
      " |    |    |    |    |-- element: struct (containsNull = true)\n",
      " |    |    |    |    |    |-- id: array (nullable = true)\n",
      " |    |    |    |    |    |    |-- element: struct (containsNull = true)\n",
      " |    |    |    |    |    |    |    |-- asserted-by: string (nullable = true)\n",
      " |    |    |    |    |    |    |    |-- id: string (nullable = true)\n",
      " |    |    |    |    |    |    |    |-- id-type: string (nullable = true)\n",
      " |    |    |    |    |    |-- name: string (nullable = true)\n",
      " |    |    |    |-- authenticated-orcid: boolean (nullable = true)\n",
      " |    |    |    |-- family: string (nullable = true)\n",
      " |    |    |    |-- given: string (nullable = true)\n",
      " |    |    |    |-- name: string (nullable = true)\n",
      " |    |    |    |-- sequence: string (nullable = true)\n",
      " |    |    |    |-- suffix: string (nullable = true)\n",
      " |    |-- type: string (nullable = true)\n",
      " |    |-- update-policy: string (nullable = true)\n",
      " |    |-- update-to: array (nullable = true)\n",
      " |    |    |-- element: struct (containsNull = true)\n",
      " |    |    |    |-- DOI: string (nullable = true)\n",
      " |    |    |    |-- label: string (nullable = true)\n",
      " |    |    |    |-- type: string (nullable = true)\n",
      " |    |    |    |-- updated: struct (nullable = true)\n",
      " |    |    |    |    |-- date-parts: array (nullable = true)\n",
      " |    |    |    |    |    |-- element: array (containsNull = true)\n",
      " |    |    |    |    |    |    |-- element: long (containsNull = true)\n",
      " |    |    |    |    |-- date-time: string (nullable = true)\n",
      " |    |    |    |    |-- timestamp: long (nullable = true)\n",
      " |    |-- volume: string (nullable = true)"
     ]
    }
   ],
   "source": [
    "df_lim.printSchema()"
   ]
  },
  {
   "cell_type": "markdown",
   "id": "18d8e7d9-4761-4525-b13b-ac714ccbd282",
   "metadata": {},
   "source": [
    "## Top Article Based on Reference Count"
   ]
  },
  {
   "cell_type": "code",
   "execution_count": null,
   "id": "e1b749ed-4b61-4236-97d5-ea8de268115a",
   "metadata": {
    "execution": {
     "iopub.execute_input": "2023-05-29T17:24:56.231250Z",
     "iopub.status.busy": "2023-05-29T17:24:56.230878Z"
    },
    "tags": []
   },
   "outputs": [
    {
     "data": {
      "application/vnd.jupyter.widget-view+json": {
       "model_id": "0fb4296506e245f7b94f1b4362909d25",
       "version_major": 2,
       "version_minor": 0
      },
      "text/plain": [
       "VBox()"
      ]
     },
     "metadata": {},
     "output_type": "display_data"
    },
    {
     "data": {
      "application/vnd.jupyter.widget-view+json": {
       "model_id": "09fc54390cac46c096764996df8398d5",
       "version_major": 2,
       "version_minor": 0
      },
      "text/plain": [
       "FloatProgress(value=0.0, bar_style='info', description='Progress:', layout=Layout(height='25px', width='50%'),…"
      ]
     },
     "metadata": {},
     "output_type": "display_data"
    }
   ],
   "source": [
    "import pandas as pd\n",
    "\n",
    "df_ref = (df_lim.withColumn('title_1', F.col('col.title').getItem(0))\n",
    "                .withColumn('subj', F.concat_ws(', ', F.col('col.subject')))\n",
    "                .withColumn('year', F.when(F.size(F.element_at(F.col('col.published.date-parts'), 1)) >= 1, \n",
    "                                           F.element_at(F.col('col.published.date-parts'), 1)[0]))\n",
    "                .withColumn('month', F.when(F.size(F.element_at(F.col('col.published.date-parts'), 1)) >= 2,\n",
    "                                            F.element_at(F.col('col.published.date-parts'), 1)[1]))\n",
    "                .withColumn('day', F.when(F.size(F.element_at(F.col('col.published.date-parts'), 1)) >= 3, \n",
    "                                          F.element_at(F.col('col.published.date-parts'), 1)[2]))\n",
    "                .select('title_1', 'col.is-referenced-by-count', 'subj', 'year', 'month', 'day')\n",
    "                .orderBy(F.desc('is-referenced-by-count'))\n",
    "                .where(F.col('is-referenced-by-count') > 0)\n",
    "                .toPandas())\n",
    "\n",
    "# Convert float to integer\n",
    "df_ref['year'] = pd.to_numeric(df_ref['year'], errors='coerce').astype('Int64')\n",
    "df_ref['month'] = pd.to_numeric(df_ref['month'], errors='coerce').astype('Int64')\n",
    "df_ref['day'] = pd.to_numeric(df_ref['day'], errors='coerce').astype('Int64')\n",
    "\n",
    "write_csv = df_ref.to_csv(index=False)\n",
    "\n",
    "s3.put_object(Body=write_csv, Bucket=dir_, Key='extracted_csv/crossref_rec_count.csv')\n",
    "\n",
    "df_ref.head(10)"
   ]
  },
  {
   "cell_type": "markdown",
   "id": "9b52c747-37d3-47d5-8c22-77ed17e57f4c",
   "metadata": {},
   "source": [
    "## Top 10 Article Per Year Based on Reference Count (Top N can be changed just chang N variable)"
   ]
  },
  {
   "cell_type": "code",
   "execution_count": 16,
   "id": "17edda43-56d1-4cf0-ba29-c53cb3535cb5",
   "metadata": {
    "execution": {
     "iopub.execute_input": "2023-06-01T11:34:51.093420Z",
     "iopub.status.busy": "2023-06-01T11:34:51.093076Z",
     "iopub.status.idle": "2023-06-01T11:34:52.365917Z",
     "shell.execute_reply": "2023-06-01T11:34:52.364763Z",
     "shell.execute_reply.started": "2023-06-01T11:34:51.093389Z"
    },
    "tags": []
   },
   "outputs": [
    {
     "data": {
      "application/vnd.jupyter.widget-view+json": {
       "model_id": "70015d4dced54ee390c4b8f1e509af5f",
       "version_major": 2,
       "version_minor": 0
      },
      "text/plain": [
       "VBox()"
      ]
     },
     "metadata": {},
     "output_type": "display_data"
    },
    {
     "data": {
      "application/vnd.jupyter.widget-view+json": {
       "model_id": "",
       "version_major": 2,
       "version_minor": 0
      },
      "text/plain": [
       "FloatProgress(value=0.0, bar_style='info', description='Progress:', layout=Layout(height='25px', width='50%'),…"
      ]
     },
     "metadata": {},
     "output_type": "display_data"
    },
    {
     "name": "stdout",
     "output_type": "stream",
     "text": [
      "                                             title_1  ...  row_num\n",
      "0        The Journal of Sports and Entertainment Law  ...        1\n",
      "1       Specification for Structural Steel for Ships  ...        2\n",
      "2  Figure 10: Global function (<tt>s(log(conc))</...  ...        3\n",
      "3  Devesa de l'Albufera: el cambio de paradigma e...  ...        4\n",
      "4                               Karakter og handling  ...        1\n",
      "5                           Filmteori og filmanalyse  ...        1\n",
      "6  Begrebet diakroni inden for litteraturforskningen  ...        1\n",
      "7                       Skitse til en handlingsmodel  ...        2\n",
      "8                         Udviskning af en metafysik  ...        3\n",
      "9               Strukturalistisk litteraturvidenskab  ...        1\n",
      "\n",
      "[10 rows x 7 columns]"
     ]
    }
   ],
   "source": [
    "df_top10_ref = (df_lim.withColumn('title_1', F.col('col.title').getItem(0))\n",
    "                    .withColumn('subj', F.concat_ws(', ', F.col('col.subject')))\n",
    "                    .withColumn('year', F.when(F.size(F.element_at(F.col('col.published.date-parts'), 1)) >= 1, \n",
    "                                               F.element_at(F.col('col.published.date-parts'), 1)[0]))\n",
    "                    .withColumn('month', F.when(F.size(F.element_at(F.col('col.published.date-parts'), 1)) >= 2,\n",
    "                                                F.element_at(F.col('col.published.date-parts'), 1)[1]))\n",
    "                    .withColumn('day', F.when(F.size(F.element_at(F.col('col.published.date-parts'), 1)) >= 3, \n",
    "                                              F.element_at(F.col('col.published.date-parts'), 1)[2]))\n",
    "                    .select('title_1', 'col.is-referenced-by-count', 'subj', 'year', 'month', 'day')\n",
    "                    .orderBy(F.desc('is-referenced-by-count'))\n",
    "                    .where(F.col('is-referenced-by-count') > 0))\n",
    "\n",
    "\n",
    "window_spec = Window.partitionBy(\"year\").orderBy(df_top10_ref[\"is-referenced-by-count\"].desc())\n",
    "\n",
    "df_fil = df_top10_ref.withColumn(\"row_num\", row_number().over(window_spec))\n",
    "\n",
    "\n",
    "# Filter the DataFrame to get the top 10 rows for each year\n",
    "N = 10\n",
    "df_top10_ref_fin = df_fil.filter(df_fil.row_num <= N).toPandas()\n",
    "\n",
    "# Show the result\n",
    "df_top10_ref_fin['year'] = pd.to_numeric(df_top10_ref_fin['year'], errors='coerce').astype('Int64')\n",
    "df_top10_ref_fin['month'] = pd.to_numeric(df_top10_ref_fin['month'], errors='coerce').astype('Int64')\n",
    "df_top10_ref_fin['day'] = pd.to_numeric(df_top10_ref_fin['day'], errors='coerce').astype('Int64')\n",
    "\n",
    "write_csv = df_top10_ref_fin.to_csv(index=False)\n",
    "\n",
    "s3.put_object(Body=write_csv, Bucket=dir_, Key='extracted_csv/crossref_publish_ref_top10_yearly_count.csv')\n",
    "\n",
    "df_top10_ref_fin.head(10)\n"
   ]
  },
  {
   "cell_type": "markdown",
   "id": "76010ad4-6499-40d3-8072-1b80f5048e52",
   "metadata": {},
   "source": [
    "## Top Subjects Count"
   ]
  },
  {
   "cell_type": "code",
   "execution_count": null,
   "id": "023beeb1-dd45-42ca-9046-a1ed1c40b46f",
   "metadata": {
    "tags": []
   },
   "outputs": [],
   "source": [
    "df_subj = (df_lim.where(F.col('col.subject').isNotNull())\n",
    "                 .withColumn('subject', F.explode(df_lim.col.subject))\n",
    "                 .groupby('subject').count().orderBy(F.desc('count')).toPandas())\n",
    "\n",
    "write_csv = df_subj.to_csv(index=False)\n",
    "\n",
    "s3.put_object(Body=write_csv, Bucket=dir_, Key='extracted_csv/crossref_subject_count.csv')\n",
    "\n",
    "df_subj.head(10)\n"
   ]
  },
  {
   "cell_type": "markdown",
   "id": "0f281dfd-7543-4071-9e1d-ab25bb323620",
   "metadata": {},
   "source": [
    "## Top 10 Subjects Per Year Based on Journal Count (Top N can be changed just chang N variable)"
   ]
  },
  {
   "cell_type": "code",
   "execution_count": null,
   "id": "bf913852-dd04-4de9-ac56-041de03f0ffb",
   "metadata": {
    "tags": []
   },
   "outputs": [],
   "source": [
    "df_top10_subj = (df_lim.where(F.col('col.subject').isNotNull())\n",
    "                      .withColumn('subject', F.explode(df_lim.col.subject))\n",
    "                      .withColumn('year', F.when(F.size(F.element_at(F.col('col.published.date-parts'), 1)) >= 1, \n",
    "                                               F.element_at(F.col('col.published.date-parts'), 1)[0]))\n",
    "                      .select('subject', 'year')\n",
    "                      .where(F.col('year').isNotNull())\n",
    "                      .groupBy('subject', 'year').count())\n",
    "\n",
    "window_spec = Window.partitionBy(\"year\").orderBy(df_top10_subj[\"count\"].desc())\n",
    "\n",
    "df_fil = df_top10_subj.withColumn(\"row_num\", row_number().over(window_spec))\n",
    "\n",
    "# Filter the DataFrame to get the top 10 rows for each year\n",
    "N = 10\n",
    "df_top10_subj_fin = df_fil.filter(df_fil.row_num <= N).toPandas()\n",
    "\n",
    "# Show the result\n",
    "df_top10_subj_fin['year'] = pd.to_numeric(df_top10_subj_fin['year'], errors='coerce').astype('Int64')\n",
    "\n",
    "\n",
    "write_csv = df_top10_subj_fin.to_csv(index=False)\n",
    "\n",
    "s3.put_object(Body=write_csv, Bucket=dir_, Key='extracted_csv/crossref_publish_subj_top10_yearly_count.csv')\n",
    "\n",
    "df_top10_subj_fin.head(10)\n"
   ]
  },
  {
   "cell_type": "markdown",
   "id": "c80bc679-9c5e-4b36-9837-762b7d083795",
   "metadata": {
    "execution": {
     "iopub.status.idle": "2022-01-01T00:00:00.0Z",
     "shell.execute_reply": "2022-01-01T00:00:00.0Z",
     "shell.execute_reply.started": "2022-01-01T00:00:00.0Z"
    }
   },
   "source": [
    "## Publication Counts Per Year"
   ]
  },
  {
   "cell_type": "code",
   "execution_count": null,
   "id": "4ddfb2b6-7cd0-4dcd-9b8a-065a20bf2427",
   "metadata": {
    "tags": []
   },
   "outputs": [],
   "source": [
    "df_published = (df_lim.withColumn(\"ExplodedDate\", F.explode(F.col(\"col.published.date-parts\")))\n",
    "                      .withColumn(\"year\", F.col(\"ExplodedDate\").getItem(0))\n",
    "                      .filter(F.col(\"year\").isNotNull())\n",
    "                      .groupBy(\"year\").count()\n",
    "                      .withColumnRenamed(\"count\", \"count_published\")\n",
    "                      .orderBy(\"year\").toPandas())\n",
    "\n",
    "\n",
    "write_csv = df_published.to_csv(index=False)\n",
    "\n",
    "s3.put_object(Body=write_csv, Bucket=dir_, Key='extracted_csv/crossref_publish_count.csv')\n",
    "\n",
    "df_published.head(10)"
   ]
  },
  {
   "cell_type": "markdown",
   "id": "944d769c-7925-4ac9-857e-89e9e22a6a99",
   "metadata": {
    "execution": {
     "iopub.execute_input": "2023-06-08T13:31:59.367272Z",
     "iopub.status.busy": "2023-06-08T13:31:59.366930Z"
    }
   },
   "source": [
    "## Data Science Related Topics Per Year"
   ]
  },
  {
   "cell_type": "code",
   "execution_count": null,
   "id": "6e665b08-20f9-4820-9e95-a514a0a1fe0e",
   "metadata": {},
   "outputs": [],
   "source": [
    "df_ds = (df_lim.where(F.col('col.subject').isNotNull())\n",
    "               .withColumn('subject', F.explode(df_lim.col.subject))\n",
    "               .withColumn('year', F.when(F.size(F.element_at(F.col('col.published.date-parts'), 1)) >= 1, \n",
    "                                           F.element_at(F.col('col.published.date-parts'), 1)[0]))\n",
    "               .select('subject', 'year')\n",
    "               .where(F.lower(F.col('subject')).like('%machine learning%') |\n",
    "                     F.lower(F.col('subject')).like('%data science%') |\n",
    "                     F.lower(F.col('subject')).like('%data analytics%') |\n",
    "                     F.lower(F.col('subject')).like('%artificial intelligence%') |\n",
    "                     F.lower(F.col('subject')).like('%a.i.%'))\n",
    "               .groupBy('year').count().orderBy(F.col('year')).toPandas()\n",
    "           )\n",
    "\n",
    "write_csv = df_ds.to_csv(index=False)\n",
    "df_ds['year'] = pd.to_numeric(df_ds['year'], errors='coerce').astype('Int64')\n",
    "\n",
    "s3.put_object(Body=write_csv, Bucket=dir_, Key='extracted_csv/yearly_data_science_count.csv')\n",
    "\n",
    "df_ds.head(10)"
   ]
  },
  {
   "cell_type": "markdown",
   "id": "0b6c6f57-1291-4abc-94b1-bb53d9fc6670",
   "metadata": {},
   "source": [
    "## Data Science Related Topics Per Year Reference Count"
   ]
  },
  {
   "cell_type": "code",
   "execution_count": null,
   "id": "0194a681-3e20-4106-a1b8-1db341544f5a",
   "metadata": {},
   "outputs": [],
   "source": [
    "df_ds = (df_lim.where(F.col('col.subject').isNotNull())\n",
    "               .withColumn('subject', F.explode(df_lim.col.subject))\n",
    "               .withColumn('year', F.when(F.size(F.element_at(F.col('col.published.date-parts'), 1)) >= 1, \n",
    "                                           F.element_at(F.col('col.published.date-parts'), 1)[0]))\n",
    "               .select('subject', 'year', 'col.is-referenced-by-count')\n",
    "               .where(F.lower(F.col('subject')).like('%machine learning%') |\n",
    "                     F.lower(F.col('subject')).like('%data science%') |\n",
    "                     F.lower(F.col('subject')).like('%data analytics%') |\n",
    "                     F.lower(F.col('subject')).like('%artificial intelligence%') |\n",
    "                     F.lower(F.col('subject')).like('%a.i.%'))\n",
    "               .groupBy('year').agg(F.sum(F.col('is-referenced-by-count'))).orderBy(F.col('year')).toPandas()\n",
    "           )\n",
    "\n",
    "write_csv = df_ds.to_csv(index=False)\n",
    "df_ds['year'] = pd.to_numeric(df_ds['year'], errors='coerce').astype('Int64')\n",
    "\n",
    "s3.put_object(Body=write_csv, Bucket=dir_, Key='extracted_csv/yearly_data_science_ref_count.csv')\n",
    "\n",
    "df_ds.head(10)"
   ]
  },
  {
   "cell_type": "markdown",
   "id": "52ec44f6-59d3-4695-b6f7-aaa93b7e6299",
   "metadata": {
    "execution": {
     "iopub.execute_input": "2023-06-01T11:39:43.581801Z",
     "iopub.status.busy": "2023-06-01T11:39:43.581474Z",
     "iopub.status.idle": "2023-06-01T11:39:44.332482Z",
     "shell.execute_reply": "2023-06-01T11:39:44.331558Z",
     "shell.execute_reply.started": "2023-06-01T11:39:43.581773Z"
    },
    "tags": []
   },
   "source": [
    "## Subject Reference Count"
   ]
  },
  {
   "cell_type": "code",
   "execution_count": null,
   "id": "6f0140df-2d95-40f0-8d2a-5c8bda68c10c",
   "metadata": {},
   "outputs": [],
   "source": [
    "df_subj = (df_lim.where(F.col('col.subject').isNotNull())\n",
    "                 .withColumn('subject', F.explode(df_lim.col.subject))\n",
    "                 .groupby('subject').agg(F.sum(F.col('col.is-referenced-by-count')).alias('ref_count'))\n",
    "                 .orderBy(F.desc('ref_count')).toPandas())\n",
    "\n",
    "write_csv = df_subj.to_csv(index=False)\n",
    "\n",
    "s3.put_object(Body=write_csv, Bucket=dir_, Key='extracted_csv/subject_reference_count.csv.csv')\n",
    "\n",
    "df_subj.head(10)\n"
   ]
  },
  {
   "cell_type": "markdown",
   "id": "dcdc7335-9047-4777-9038-2a032a3dcb54",
   "metadata": {},
   "source": [
    "## Top Funder Count"
   ]
  },
  {
   "cell_type": "code",
   "execution_count": null,
   "id": "82c20f61-aaee-4174-ae9d-54ddb0c95ca3",
   "metadata": {},
   "outputs": [],
   "source": [
    "df_fund = (df_lim.where(F.col('col.funder').isNotNull())\n",
    "                 .withColumn('funder_elem', F.explode(df_lim.col.funder))\n",
    "                 .withColumn('funder', F.col('funder_elem.name'))\n",
    "                 .groupby('funder').count()\n",
    "                 .orderBy(F.desc('count')).toPandas())\n",
    "\n",
    "write_csv = df_fund.to_csv(index=False)\n",
    "\n",
    "s3.put_object(Body=write_csv, Bucket=dir_, Key='extracted_csv/top_fund_count.csv')\n",
    "\n",
    "df_fund.head(10)"
   ]
  },
  {
   "cell_type": "markdown",
   "id": "6f7699d6-9cf9-4d4d-b7b3-5a37370ee3ec",
   "metadata": {
    "execution": {
     "iopub.execute_input": "2023-06-08T13:34:34.368341Z",
     "iopub.status.busy": "2023-06-08T13:34:34.368040Z",
     "iopub.status.idle": "2023-06-08T13:34:34.433897Z",
     "shell.execute_reply": "2023-06-08T13:34:34.432139Z",
     "shell.execute_reply.started": "2023-06-08T13:34:34.368316Z"
    }
   },
   "source": [
    "## Top Places Count"
   ]
  },
  {
   "cell_type": "code",
   "execution_count": null,
   "id": "10c62298-0327-408c-8044-8db86589d608",
   "metadata": {},
   "outputs": [],
   "source": [
    "df_fund = (df_lim.where(F.col('col.institution').isNotNull())\n",
    "                 .withColumn('institution_elem', F.explode(df_lim.col.institution))\n",
    "                 .withColumn('place', F.explode(F.col('institution_elem.place')))\n",
    "                 .groupby('place').count()\n",
    "                 .orderBy(F.desc('count')).toPandas())\n",
    "\n",
    "write_csv = df_fund.to_csv(index=False)\n",
    "\n",
    "s3.put_object(Body=write_csv, Bucket=dir_, Key='extracted_csv/place_count.csv')\n",
    "\n",
    "df_fund.head(10)"
   ]
  }
 ],
 "metadata": {
  "kernelspec": {
   "display_name": "Python 3 (ipykernel)",
   "language": "python",
   "name": "python3"
  },
  "language_info": {
   "codemirror_mode": {
    "name": "ipython",
    "version": 3
   },
   "file_extension": ".py",
   "mimetype": "text/x-python",
   "name": "python",
   "nbconvert_exporter": "python",
   "pygments_lexer": "ipython3",
   "version": "3.8.17"
  },
  "toc": {
   "base_numbering": 1,
   "nav_menu": {},
   "number_sections": true,
   "sideBar": true,
   "skip_h1_title": false,
   "title_cell": "Table of Contents",
   "title_sidebar": "Contents",
   "toc_cell": false,
   "toc_position": {},
   "toc_section_display": true,
   "toc_window_display": false
  }
 },
 "nbformat": 4,
 "nbformat_minor": 5
}
