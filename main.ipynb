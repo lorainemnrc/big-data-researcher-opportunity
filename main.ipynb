{
 "cells": [
  {
   "cell_type": "code",
   "execution_count": 1,
   "id": "68710b6b",
   "metadata": {
    "ExecuteTime": {
     "end_time": "2023-06-08T12:15:28.455187Z",
     "start_time": "2023-06-08T12:15:28.440252Z"
    }
   },
   "outputs": [
    {
     "data": {
      "text/html": [
       "\n",
       "<script src=\"https://cdnjs.cloudflare.com/ajax/libs/jquery/2.0.3/jquery.min.\n",
       "js\"></script>\n",
       "<script>\n",
       "code_show=true;\n",
       "function code_toggle() {\n",
       "if (code_show){\n",
       "$('div.jp-CodeCell > div.jp-Cell-inputWrapper').hide();\n",
       "} else {\n",
       "$('div.jp-CodeCell > div.jp-Cell-inputWrapper').show();\n",
       "}\n",
       "code_show = !code_show\n",
       "}\n",
       "$( document ).ready(code_toggle);\n",
       "</script>\n",
       "<form action=\"javascript:code_toggle()\"><input type=\"submit\" \n",
       "value=\"Click here to toggle on/off the raw code.\"></form>\n"
      ],
      "text/plain": [
       "<IPython.core.display.HTML object>"
      ]
     },
     "execution_count": 1,
     "metadata": {},
     "output_type": "execute_result"
    }
   ],
   "source": [
    "from IPython.display import HTML\n",
    "HTML('''\n",
    "<script src=\"https://cdnjs.cloudflare.com/ajax/libs/jquery/2.0.3/jquery.min.\n",
    "js\"></script>\n",
    "<script>\n",
    "code_show=true;\n",
    "function code_toggle() {\n",
    "if (code_show){\n",
    "$('div.jp-CodeCell > div.jp-Cell-inputWrapper').hide();\n",
    "} else {\n",
    "$('div.jp-CodeCell > div.jp-Cell-inputWrapper').show();\n",
    "}\n",
    "code_show = !code_show\n",
    "}\n",
    "$( document ).ready(code_toggle);\n",
    "</script>\n",
    "<form action=\"javascript:code_toggle()\"><input type=\"submit\" \n",
    "value=\"Click here to toggle on/off the raw code.\"></form>\n",
    "''')"
   ]
  },
  {
   "cell_type": "code",
   "execution_count": 2,
   "id": "1e1b6aa5",
   "metadata": {
    "ExecuteTime": {
     "end_time": "2023-06-08T12:15:28.476338Z",
     "start_time": "2023-06-08T12:15:28.459591Z"
    }
   },
   "outputs": [
    {
     "data": {
      "text/html": [
       "\n",
       "<style>\n",
       ".output_png {\n",
       "    display: table-cell;\n",
       "    text-align: center;\n",
       "    vertical-align: middle;\n",
       "}\n",
       "</style>\n"
      ],
      "text/plain": [
       "<IPython.core.display.HTML object>"
      ]
     },
     "execution_count": 2,
     "metadata": {},
     "output_type": "execute_result"
    }
   ],
   "source": [
    "from IPython.core.display import HTML\n",
    "HTML(\"\"\"\n",
    "<style>\n",
    ".output_png {\n",
    "    display: table-cell;\n",
    "    text-align: center;\n",
    "    vertical-align: middle;\n",
    "}\n",
    "</style>\n",
    "\"\"\")"
   ]
  },
  {
   "cell_type": "markdown",
   "id": "834456cc",
   "metadata": {},
   "source": [
    "![image.png](images/banner.png)"
   ]
  },
  {
   "cell_type": "markdown",
   "id": "cbeb28c1",
   "metadata": {},
   "source": [
    "<h1 style=\"background-color:#003b7f;color:#ffffff;padding:20px\">Executive Summary</h1>"
   ]
  },
  {
   "cell_type": "markdown",
   "id": "2f230fcd",
   "metadata": {},
   "source": [
    "In today's competitive academic landscape, optimizing research efforts and ensuring the impact of scholarly work is crucial. However, a significant number of journal articles remain uncited and unnoticed, highlighting the need for a system to enhance research visibility and reach.\n",
    "\n",
    "Our project aims to understand what makes a publication impactful and worthy of citation. By uncovering the factors that contribute to research impact, we can develop strategies to increase the visibility and recognition of scholarly articles.\n",
    "\n",
    "We are driven by the need to address the challenges of research impact and bridge the gap between published research and its actual influence. Leveraging machine learning techniques and data analysis, we aim to develop a predictive model that can identify the factors influencing the citation and readership of scholarly articles. This model will help researchers and institutions prioritize their efforts by focusing on articles with a higher potential for citation and readership.\n",
    "\n",
    "To achieve this, we are using the April 2023 Public Data File from Crossref, a comprehensive dataset containing scholarly metadata from various publications. This dataset provides standardized access to scholarly information for analysis and research purposes.\n",
    "\n",
    "During the analysis, we compared the performance of three models: random forest, gradient boosting trees, and multilayer perceptrons. The gradient boosting trees model exhibited superior results, with a train accuracy of 84.92% and a test accuracy of 75.21%. This indicates the model's ability to generalize well to unseen data, instilling greater confidence in its predictions.\n",
    "\n",
    "For researchers in stable fields, staying updated with emerging fields and exploring interdisciplinary collaborations can open new opportunities. Researchers seeking funding should encourage interdisciplinary collaborations, while those in the field of Data Science can leverage their expertise to contribute to the growing demand in the field.\n",
    "\n",
    "In conclusion, our project addresses the challenges of research impact by developing a predictive model that identifies the factors influencing citation and readership. We provide valuable insights into the determinants of article impact, empowering researchers to make informed decisions about their publishing strategies. This leads to increased visibility, recognition, and wider dissemination of their work.\n",
    "\n",
    "---\n",
    "\n",
    "<div>\n",
    "    <p style=\"font-size:10px;font-style:default\">\n",
    "        <b>List of Figures</b><br>\n",
    "        <b>Figure 1.</b> AWS EMR Cluster. <br>\n",
    "        <b>Figure 2.</b> Final Project Methodology. <br>\n",
    "        <b>Figure 3.</b> Predictive Modeling Pipeline. <br>\n",
    "        <b>Figure 4.</b> Raw Data Size. <br>\n",
    "        <b>Figure 5.</b> Top Subjects (Average Annual Publication Count). <br>\n",
    "        <b>Figure 6.</b> Top Subjects (Average Annual Citation Count). <br>\n",
    "        <b>Figure 7.</b> Top Funding Institutions. <br>\n",
    "        <b>Figure 8.</b> Network Growth Year-on-Year. <br>\n",
    "        <b>Figure 9.</b> Publication Count Year-on-Year. <br>\n",
    "        <b>Figure 10.</b> Data Science Publications Year-on-Year. <br>\n",
    "        <b>Figure 11.</b> Cleaned Data Size. <br>\n",
    "        <b>Figure 12.</b> Feature Importance (GBT Classifier). <br>\n",
    "    </p>\n",
    "</div>\n",
    "<br>\n",
    "<div>\n",
    "    <p style=\"font-size:10px;font-style:default\">\n",
    "        <b>List of Tables</b><br>\n",
    "        <b>Table 1.</b> Crossref Raw Data Description. <br>\n",
    "        <b>Table 2.</b> Final Crossref Dataset Description. <br>\n",
    "        <b>Table 3.</b> Top Subjects in the Last Five Years. <br>\n",
    "        <b>Table 4.</b> Summary of Predictive Model Performance. <br>\n",
    "    </p>\n",
    "</div>\n",
    "\n",
    "---"
   ]
  },
  {
   "cell_type": "markdown",
   "id": "60ad7edc",
   "metadata": {
    "ExecuteTime": {
     "end_time": "2023-06-08T05:36:31.792264Z",
     "start_time": "2023-06-08T05:36:31.786119Z"
    }
   },
   "source": [
    "<h1 style=\"background-color:#003b7f;color:#ffffff;padding:20px\">Problem Statement</h1>"
   ]
  },
  {
   "cell_type": "markdown",
   "id": "ae001da7",
   "metadata": {
    "ExecuteTime": {
     "end_time": "2023-06-08T05:36:45.983676Z",
     "start_time": "2023-06-08T05:36:45.979737Z"
    }
   },
   "source": [
    "Our project aims to address the significant challenge of low citation rates and limited readership for journal articles, which has far-reaching implications for the scholarly community and the broader research landscape. *What are the factors that contribute to higher citation rates and readership?* By answering this very question, our study has the potential to unlock the hidden value of research, optimize research efforts, and foster a more efficient and impactful research ecosystem. *How do these factors affect the policies when it comes to research? How can these factors empower researchers in facilitating collaboration and in accelerating advancement in knowledge, in any field of study?*\n",
    "\n",
    "Overall, we want to answer this question: **What determines the impact and citation-worthiness of a research publication, crucial for a researcher's recognition and access to opportunities?**, in an attempt to address the challenge of low citation rates, limited readership, the implications of these to the scholarly community and research landscape, and the hidden value of research to drive changes in policies in terms of collaboration, knowledge sharing, and accelerated advancements.\n",
    "\n",
    "---"
   ]
  },
  {
   "cell_type": "markdown",
   "id": "23e1ef4d",
   "metadata": {},
   "source": [
    "<h1 style=\"background-color:#003b7f;color:#ffffff;padding:20px\">Motivation</h1>"
   ]
  },
  {
   "cell_type": "markdown",
   "id": "d2181b64",
   "metadata": {},
   "source": [
    "In today's highly competitive and multidisciplinary [[5]](https://direct.mit.edu/qss/article/1/2/730/96146/How-common-are-explicit-research-questions-in) academic landscape, where time and resources are scarce, it becomes crucial to optimize research efforts and ensure the impactful dissemination of scholarly work. Surprisingly, studies have shown that a significant portion of journal articles, approximately 90% [[1]](https://blogs.lse.ac.uk/impactofsocialsciences/2014/04/23/academic-papers-citation-rates-remler/)[[2]](https://www.smithsonianmag.com/smart-news/half-academic-studies-are-never-read-more-three-people-180950222/), remain uncited [[3]](https://www.insidehighered.com/news/2018/04/19/study-examines-research-never-receives-citation), while around 50% go largely unnoticed by anyone beyond their authors and editors. This alarming trend highlights the need for a robust and efficient system to enhance the visibility and reach of research outputs.\n",
    "\n",
    "The motivation behind our project lies in addressing these challenges and bridging the gap between the vast amount of published research and its actual impact.\n",
    "\n",
    "By leveraging machine learning techniques and data analysis, we aim to develop a predictive model that can identify the factors influencing the citation [[4]](https://journals.sagepub.com/doi/10.1177/2158244019829575) and readership of scholarly articles. This model will help researchers and institutions prioritize their efforts by focusing on articles with a higher potential for citation and readership. By providing valuable insights into the determinants of article impact, we hope to empower researchers to make informed decisions about their publishing strategies, ultimately leading to increased visibility, recognition, and the wider dissemination of their work.\n",
    "\n",
    "---"
   ]
  },
  {
   "cell_type": "markdown",
   "id": "fb8e7b83",
   "metadata": {
    "ExecuteTime": {
     "end_time": "2023-06-08T05:40:12.806541Z",
     "start_time": "2023-06-08T05:40:12.799116Z"
    }
   },
   "source": [
    "<h1 style=\"background-color:#003b7f;color:#ffffff;padding:20px\">Data Source</h1>"
   ]
  },
  {
   "cell_type": "markdown",
   "id": "113fa9b1",
   "metadata": {},
   "source": [
    "<span style=\"color:#003b7f; font-size:18px\"><i>Original Data Source</i></span>\n",
    "\n",
    "The original data source for the April 2023 Public Data File is [Crossref](https://www.crossref.org/).\n",
    "\n",
    "Crossref is a non-profit organization that provides DOIs and comprehensive metadata for academic and scholarly content. They collaborate with publishers, institutions, and researchers to ensure the accurate and reliable dissemination of scholarly "
   ]
  },
  {
   "cell_type": "markdown",
   "id": "9ce06cc6",
   "metadata": {},
   "source": [
    "<span style=\"color:#003b7f; font-size:18px\"><i>April 2023 Public Data File from Crossref</i></span>\n",
    "\n",
    "The April 2023 Public Data File from Crossref is a comprehensive dataset that contains scholarly metadata from various publications. It includes bibliographic information such as titles, authors, publication dates, DOIs (Digital Object Identifiers), abstracts, and citation data. This dataset aims to provide researchers, developers, and stakeholders with standardized access to scholarly information for analysis and research purposes."
   ]
  },
  {
   "cell_type": "markdown",
   "id": "6da142d5",
   "metadata": {},
   "source": [
    "<span style=\"color:#003b7f; font-size:18px\"><i>Download Details</i></span>\n",
    "\n",
    "*The dataset can be downloaded from [Academic Torrents](https://academictorrents.com/details/d9e554f4f0c3047d9f49e448a7004f7aa1701b69).*\n",
    "\n",
    "Academic Torrents is a platform dedicated to sharing and distributing large scientific datasets. It collaborates with researchers, institutions, and organizations to make academic data openly accessible, fostering data-driven research and promoting collaboration among scholars worldwide."
   ]
  },
  {
   "cell_type": "markdown",
   "id": "0ff7137b",
   "metadata": {},
   "source": [
    "<span style=\"color:#003b7f; font-size:18px\"><i>Crossref Unified Resource API</i></span>\n",
    "\n",
    "There is also an available [Resource API](https://api.crossref.org) for the April 2023 Public Data File to allow for efficient retrieval and linking of scholarly metadata from a vast network of publications.\n",
    "\n",
    "The API enables researchers to access and integrate the dataset seamlessly into their research workflows, facilitating data-driven analyses and investigations across a wide range of scholarly materials."
   ]
  },
  {
   "cell_type": "markdown",
   "id": "319a943c",
   "metadata": {},
   "source": [
    "<span style=\"color:#003b7f; font-size:18px\"><i>Dataset Summary</i></span>\n",
    "\n",
    "- is a data file of the public elements from Crossref’s 143.5+ million metadata records.\n",
    "- includes bibliographic information such as titles, authors, publication dates, DOIs, abstracts, and citation data.\n",
    "- also includes details about the journal or publication venue, such as the journal name, ISSN (International Standard Serial Number), publisher, and volume/issue numbers.\n",
    "- terms or phrases used to describe the main topics or subjects covered in the publication.\n",
    "- information on whether the full text of the publication is freely accessible or requires a subscription or purchase.\n",
    "- details about the funding sources that supported the research or publication.\n",
    "- information about the licensing terms and usage rights associated with the publication."
   ]
  },
  {
   "cell_type": "markdown",
   "id": "387747e2",
   "metadata": {},
   "source": [
    "<span style=\"color:#003b7f; font-size:18px\"><i>AWS S3 Bucket</i></span>\n",
    "\n",
    "The data was sourced from Academic Torrents and securely stored in an S3 bucket owned by Capstone Team One. Initially downloaded as JSON files, the data was subsequently transformed into parquet files, leveraging the benefits of its columnar format for optimized storage and analysis.\n",
    "\n",
    "*Amazon Resource Name (ARN)*\n",
    "\n",
    "```python\n",
    "arn:aws:s3:::s3bucketemr-sydney\n",
    "```\n",
    "<br>\n",
    "\n",
    "*AWS Region*\n",
    "\n",
    "```python\n",
    "ap-southeast-2\n",
    "```\n",
    "<br>\n",
    "\n",
    "*AWS CLI Access (AWS Account Required)*\n",
    "\n",
    "```python\n",
    "aws s3 ls s3://s3bucketemr-sydney/\n",
    "```\n",
    "<br>\n",
    "\n",
    "*AWS EMR*\n",
    "![cluster.png](images/cluster.png)\n",
    "<div>\n",
    "    <p style=\"font-size:10px;font-style:default;text-align:center\">\n",
    "        <b>Figure 1. AWS EMR Cluster.</b><br>\n",
    "        <i>AWS EMR Cluster used for the development of this project.</i>\n",
    "    </p>\n",
    "</div>\n",
    "<br>"
   ]
  },
  {
   "cell_type": "markdown",
   "id": "38049435",
   "metadata": {
    "ExecuteTime": {
     "end_time": "2023-06-08T05:57:41.229682Z",
     "start_time": "2023-06-08T05:57:41.221064Z"
    }
   },
   "source": [
    "<h2 style=\"color:#003b7f;\">Raw Crossref Data</h2>"
   ]
  },
  {
   "cell_type": "markdown",
   "id": "37abf9e3",
   "metadata": {},
   "source": [
    "The raw Crossref dataset (see descriptions in Table 1) is a highly nested dataset with multiple layers of variables. In this representation, we will focus on the root variables, providing a glimpse into the structure of the dataset."
   ]
  },
  {
   "cell_type": "markdown",
   "id": "6364de34",
   "metadata": {},
   "source": [
    "|<center>Variable Name</center>|<center>Data Type</center>|<center>Description</center>\n",
    "|:---------------------|:-------|:---|\n",
    "|DOI                   |string  |String representing the Digital Object Identifier for the research paper.\n",
    "|ISBN                  |array   |Array of International Standard Book Numbers associated with the research paper.\n",
    "|ISSN                  |array   |Array of International Standard Serial Numbers associated with the research paper.\n",
    "|URL                   |string  |String representing the URL of the research paper.\n",
    "|abstract              |string  |String containing the abstract or summary of the research paper.\n",
    "|accepted              |struct  |Struct containing information about the acceptance status of the research paper.\n",
    "|alternative-id        |array   |Array of alternative identifiers associated with the research paper.\n",
    "|approved              |string  |Struct containing information about the approval status of the research paper.\n",
    "|archive               |array   |Array of archive names where the research paper is stored.\n",
    "|article-number        |string  |String representing the article number of the research paper.\n",
    "|assertion             |array   |Array of assertions made in the research paper.\n",
    "|author                |array   |Array of authors associated with the research paper.\n",
    "|award                 |string  |String representing any award received by the research paper.\n",
    "|award-start           |struct  |Struct containing information about the start of the award associated with the research paper.\n",
    "|chair                 |array   |Array of chairs or committee members associated with the research paper.\n",
    "|clinical-trial-number |array   |Array of clinical trial numbers related to the research paper.\n",
    "|container-title       |array   |Array of container titles where the research paper is published.\n",
    "|content-created       |struct  |Struct containing information about the content creation of the research paper.\n",
    "|content-domain        |struct  |Struct containing information about the content domain of the research paper.\n",
    "|content-updated       |struct  |Struct containing information about the content update of the research paper.\n",
    "|created               |struct  |Struct containing information about the creation of the research paper.\n",
    "|degree                |array   |Array of degrees associated with the research paper.\n",
    "|deposited             |struct  |Struct containing information about the deposition of the research paper.\n",
    "|description           |string  |String containing a description or additional details about the research paper.\n",
    "|edition-number        |string  |String representing the edition number of the research paper.\n",
    "|editor                |array   |Array of editors associated with the research paper.\n",
    "|event                 |struct  |Struct containing information about the event associated with the research paper.\n",
    "|funder                |array   |Array of funders or funding organizations associated with the research paper.\n",
    "|group-title           |string  |String representing the group title of the research paper.\n",
    "|indexed               |struct  |Struct containing information about the indexing of the research paper.\n",
    "|institution           |array   |Array of institutions associated with the research paper.\n",
    "|is-referenced-by-count|long    |Long representing the count of references made to the research paper.\n",
    "|isbn-type             |array   |Array of ISBN types associated with the research paper.\n",
    "|issn-type             |array   |Array of ISSN types associated with the research paper.\n",
    "|issue                 |string  |String representing the issue number of the research paper.\n",
    "|issued                |struct  |Struct containing information about the issuance of the research paper.\n",
    "|journal-issue         |struct  |Struct containing information about the journal issue of the research paper.\n",
    "|language              |string  |String representing the language of the research paper.\n",
    "|license               |array   |Array of licenses associated with the research paper.\n",
    "|link                  |array   |Array of links associated with the research paper.\n",
    "|member                |string  |String representing the member or membership status associated with the research paper.\n",
    "|original-title        |array   |Array of original titles associated with the research paper.\n",
    "|page                  |string  |String representing the page numbers of the research paper.\n",
    "|part-number           |string  |String representing the part number of the research paper.\n",
    "|posted                |struct  |Struct containing information about the posting of the research paper.\n",
    "|prefix                |string  |String representing the prefix associated with the research paper.\n",
    "|project               |array   |Array of projects associated with the research paper.\n",
    "|published             |struct  |Struct containing information about the publication of the research paper.\n",
    "|published-online      |struct  |Struct containing information about the online publication of the research paper.\n",
    "|published-other       |struct  |Struct containing information about other types of publication of the research paper.\n",
    "|published-print       |struct  |Struct containing information about the print publication of the research paper.\n",
    "|publisher             |string  |String representing the publisher of the research paper.\n",
    "|publisher-location    |string  |String representing the location of the publisher of the research paper.\n",
    "|reference             |array   |Array of references cited in the research paper.\n",
    "|reference-count       |long    |Long representing the count of references in the research paper.\n",
    "|references-count      |long    |Long representing the count of references associated with the research paper.\n",
    "|relation              |struct  |Struct containing information about the relation or relationship of the research paper.\n",
    "|resource              |struct  |Struct containing information about the resource associated with the research paper.\n",
    "|review                |struct  |Struct containing information about the review process of the research paper.\n",
    "|score                 |double  |Double representing the score or rating assigned to the research paper.\n",
    "|short-container-title |array   |Array of abbreviated container titles where the research paper is published.\n",
    "|short-title           |array   |Array of abbreviated titles associated with the research paper.\n",
    "|source                |string  |String representing the source of the research paper.\n",
    "|standards-body        |struct  |Struct containing information about the standards body associated with the research paper.\n",
    "|subject               |array   |Array of subjects or topics associated with the research paper.\n",
    "|subtitle              |array   |Array of subtitles associated with the research paper.\n",
    "|subtype               |string  |String representing the subtype of the research paper.\n",
    "|title                 |array   |Array of titles associated with the research paper.\n",
    "|translator            |array   |Array of translators associated with the research paper.\n",
    "|type                  |string  |String representing the type or category of the research paper.\n",
    "|update-policy         |string  |String representing the update policy associated with the research paper.\n",
    "|update-to             |array   |Array of updates associated with the research paper.\n",
    "|volume                |string  |String representing the volume number of the research paper.\n",
    "\n",
    "<br>\n",
    "<div>\n",
    "    <p style=\"font-size:10px;font-style:default;text-align:center\">\n",
    "        <b>Table 1. Crossref Raw Data Description.</b><br>\n",
    "        <i>Raw Crossref dataset description.</i>\n",
    "    </p>\n",
    "</div>"
   ]
  },
  {
   "cell_type": "markdown",
   "id": "910242ef",
   "metadata": {},
   "source": [
    "<h2 style=\"color:#003b7f;\">Final Crossref Data</h2>"
   ]
  },
  {
   "cell_type": "markdown",
   "id": "8716b1b5",
   "metadata": {},
   "source": [
    "The final Crossref dataset contains information related to research papers and their attributes. The dataset is structured as shown in Table 2."
   ]
  },
  {
   "cell_type": "markdown",
   "id": "c2ae99f1",
   "metadata": {},
   "source": [
    "|<center>Pillar</center>|<center>Variable Name</center>|<center>Data Type</center>|<center>Description</center>\n",
    "|:--------------------------|:---------------------|:-------|:---|\n",
    "|Diversity & Quality offered|title                 |string  |Title of the paper\n",
    "|Diversity & Quality offered|title_token_length    |integer |Array of International Standard Book Numbers associated with the research paper.\n",
    "|Diversity & Quality offered|type                  |string  |Type of publication\n",
    "|Diversity & Quality offered|abstract              |string  |Abstract of the paper\n",
    "|Diversity & Quality offered|subject_list          |array   |Domains/fields of the study\n",
    "|Diversity & Quality offered|num_subjects          |integer |Number of domains/fields of the study\n",
    "|Financial Resources        |num_funder_awards     |integer |Number of awarded funds\n",
    "|Financial Resources        |num_funders           |integer |Number of funders\n",
    "|Network/Connections        |institution_name      |string  |Name of the institution that the author is affiliated with\n",
    "|Network/Connections        |institution_place     |string  |Location of the institution\n",
    "|Network/Connections        |num_authors           |integer |Number of authors\n",
    "|Network/Connections        |affiliation_list      |array   |Name of each affiliation\n",
    "|Network/Connections        |num_affiliations      |integer |Number of affiliations the authors have based on affiliation_id\n",
    "|Timeliness & Accessibility |published_year        |long    |Year when the paper was published\n",
    "|Timeliness & Accessibility |published_month       |long    |Month when the paper was published\n",
    "|Timeliness & Accessibility |published_day         |long    |Day when the paper was published\n",
    "|Timeliness & Accessibility |issn_type             |string  |International Standard Book Number (ISBN): identifies a single, nonrecurring publication, such as an journal\n",
    "|Opportunity                |is-referenced-by-count|long    |Number of times the paper was referenced by another\n",
    "|Opportunity                |cited_pct             |double  |Citation percentage of the paper\n",
    "|Opportunity                |opportunity_index     |integer |Targets, [0, 1]. 0: Upper quantile of citation_pct, 1: Lower quantile of citation_pct\n",
    "\n",
    "<br>\n",
    "<div>\n",
    "    <p style=\"font-size:10px;font-style:default;text-align:center\">\n",
    "        <b>Table 2. Final Crossref Dataset Description.</b><br>\n",
    "        <i>Project's final dataset description.</i>\n",
    "    </p>\n",
    "</div>"
   ]
  },
  {
   "cell_type": "markdown",
   "id": "06393f69",
   "metadata": {},
   "source": [
    "The final dataset for this project consists of four main pillars: <span style='color:#d54949'>**diversity and quality**</span>, <span style='color:#f3c953'>**financial resources**</span>, <span style='color:#515a59'>**network and connections**</span>, and <span style='color:#5fb0c5'>**timeliness and accessibility**</span>.\n",
    "\n",
    "Under the <span style='color:#d54949'>**diversity and quality**</span> pillar, we have features related to the content of the publications, including the title, domains, subjects, and abstracts of the studies.\n",
    "\n",
    "The <span style='color:#f3c953'>**financial resources**</span> pillar encompasses features related to funding, such as the amount of funds awarded for the study and the granting body or funding institution.\n",
    "\n",
    "The <span style='color:#515a59'>**network and connections**</span>  pillar focuses on the affiliations associated with the study, including the authors, institutions, and locations involved.\n",
    "\n",
    "The <span style='color:#5fb0c5'>**timeliness and accessibility**</span> pillar includes metadata about the publication, such as the publication date and the publication type.\n",
    "\n",
    "Additionally, there is a group of features under the *opportunity* pillar, which serves as the target variable for this study. These features include the citations count, citations percentage, and the opportunity index, which will be discussed further in subsequent sections.\n",
    "\n",
    "Overall, this dataset provides valuable information about the diversity and quality of research papers, financial resources allocated to them, network connections of the authors, timeliness and accessibility factors, and the opportunity level of the papers.\n",
    "\n",
    "---"
   ]
  },
  {
   "cell_type": "markdown",
   "id": "7bd4f795",
   "metadata": {},
   "source": [
    "<h1 style=\"background-color:#003b7f;color:#ffffff;padding:20px\">Assumptions and Design Constraints</h1>"
   ]
  },
  {
   "cell_type": "markdown",
   "id": "f457d31b",
   "metadata": {},
   "source": [
    "<span style=\"color:#003b7f; font-size:18px\"><i>Proportionality Assumption</i></span>\n",
    " - It is assumed that the proportionality of the target variable in the sampled data reflects the proportionality of the original data. This assumption allows for generalization of the model's performance on the entire dataset based on the sampled data."
   ]
  },
  {
   "cell_type": "markdown",
   "id": "3e484d92",
   "metadata": {},
   "source": [
    "<span style=\"color:#003b7f; font-size:18px\"><i>Modularity</i></span>\n",
    "- The machine learning pipeline is designed with modularity in mind. This allows for flexibility in modifying and reusing specific stages of the pipeline without running the entire pipeline repeatedly."
   ]
  },
  {
   "cell_type": "markdown",
   "id": "f6709672",
   "metadata": {},
   "source": [
    "<span style=\"color:#003b7f; font-size:18px\"><i>Memory Efficiency</i></span>\n",
    "- To mitigate potential memory errors, the pipeline is optimized to minimize unnecessary re-computation. By storing intermediate results in separate variables, such as the train_data and test_data, the pipeline can be executed without rerunning the entire process."
   ]
  },
  {
   "cell_type": "markdown",
   "id": "98b42eba",
   "metadata": {},
   "source": [
    "<span style=\"color:#003b7f; font-size:18px\"><i>Hyperparameter Tuning</i></span>\n",
    "- Hyperparameter tuning is performed separately for each model. This approach promotes modularity and reduces the risk of memory errors by focusing on optimizing individual models rather than running all models as a single pipeline."
   ]
  },
  {
   "cell_type": "markdown",
   "id": "a221f1ee",
   "metadata": {},
   "source": [
    "<span style=\"color:#003b7f; font-size:18px\"><i>Usable Features</i></span>\n",
    "- Features are selected based on their relevance to the prediction task. The design ensures that each pillar is represented by at least two features, which helps capture the essence of each pillar in the analysis."
   ]
  },
  {
   "cell_type": "markdown",
   "id": "db760596",
   "metadata": {},
   "source": [
    "<span style=\"color:#003b7f; font-size:18px\"><i>Baseline Comparison</i></span>\n",
    "- The proportional chance criterion (PCC) is established as a baseline to compare the model's performance. To consider the predictions as good, the accuracy of the model needs to exceed 1.25 times the PCC."
   ]
  },
  {
   "cell_type": "markdown",
   "id": "39333363",
   "metadata": {},
   "source": [
    "<span style=\"color:#003b7f; font-size:18px\"><i>Performance Evaluation</i></span>\n",
    "- The performance of each model is evaluated using various metrics, including accuracy, precision, recall, and F1-score. These metrics provide insights into the model's predictive capabilities and its ability to correctly classify instances."
   ]
  },
  {
   "cell_type": "markdown",
   "id": "2b764ac7",
   "metadata": {},
   "source": [
    "<span style=\"color:#003b7f; font-size:18px\"><i>Feature Importance</i></span>\n",
    "- For tree-based models (random forest and gradient boosting trees), the feature importance is extracted to identify the most influential features. This analysis helps understand the contribution of each feature towards the model's predictions."
   ]
  },
  {
   "cell_type": "markdown",
   "id": "cfcf152b",
   "metadata": {},
   "source": [
    "<span style=\"color:#003b7f; font-size:18px\"><i>Neural Network Model</i></span>\n",
    "- A multilayer perceptron (MLP) model with two hidden layers is employed. Hyperparameter tuning is performed by varying parameters such as maxIter and blockSize to optimize the model's performance."
   ]
  },
  {
   "cell_type": "markdown",
   "id": "c8c329db",
   "metadata": {},
   "source": [
    "<span style=\"color:#003b7f; font-size:18px\"><i>Interpretability</i></span>\n",
    "- The weights of the MLP model are extracted to provide feature importance, allowing for interpretability of the model's predictions."
   ]
  },
  {
   "cell_type": "markdown",
   "id": "3b5f248b",
   "metadata": {},
   "source": [
    "<span style=\"color:#003b7f; font-size:18px\"><i>Comparison with Existing Models</i></span>\n",
    "- The performance of the MLP model is compared against the results obtained from the random forest and gradient boosting trees models. This comparison helps assess whether the MLP model provides better accuracy and predictive capabilities."
   ]
  },
  {
   "cell_type": "markdown",
   "id": "6cb5d4e3",
   "metadata": {},
   "source": [
    "These assumptions and design constraints provide the foundation for developing and evaluating the machine learning models. They consider memory efficiency, modularity, feature relevance, interpretability, and performance evaluation to ensure accurate and efficient predictions based on the provided information.\n",
    "\n",
    "---"
   ]
  },
  {
   "cell_type": "markdown",
   "id": "33953e16",
   "metadata": {},
   "source": [
    "<h1 style=\"background-color:#003b7f;color:#ffffff;padding:20px\">Methodology</h1>"
   ]
  },
  {
   "cell_type": "markdown",
   "id": "527dd108",
   "metadata": {},
   "source": [
    "![method.png](images/method.png)\n",
    "<div>\n",
    "    <p style=\"font-size:10px;font-style:default;text-align:center\">\n",
    "        <b>Figure 2. Final Project Methodology.</b><br>\n",
    "        <i>Steps followed for the Crossref dataset project.</i>\n",
    "    </p>\n",
    "</div>\n",
    "<br>"
   ]
  },
  {
   "cell_type": "markdown",
   "id": "10e3376e",
   "metadata": {},
   "source": [
    "<h2 style=\"color:#003b7f;\">Data Collection</h2>"
   ]
  },
  {
   "cell_type": "markdown",
   "id": "07f47dcb",
   "metadata": {},
   "source": [
    "<span style=\"color:#003b7f; font-size:18px\"><i>Data Conversion (JSON to Parquet)</i></span>\n",
    "\n",
    "The data collection process begins with the collection of the data from academic torrents. Then it proceeds with the conversion of the raw data from JSON format to Parquet format. This conversion is performed to optimize data storage and improve query performance."
   ]
  },
  {
   "cell_type": "markdown",
   "id": "a6c2ff53",
   "metadata": {},
   "source": [
    "<span style=\"color:#003b7f; font-size:18px\"><i>Upload to S3 Bucket</i></span>\n",
    "\n",
    "After the data conversion, the Parquet files are uploaded to an S3 bucket `(s3://s3bucketemr-sydney)` for easy accessibility and scalability. Storing the data in an S3 bucket provides a reliable and cost-effective solution for data storage in the cloud."
   ]
  },
  {
   "cell_type": "markdown",
   "id": "2649009f",
   "metadata": {},
   "source": [
    "<h2 style=\"color:#003b7f;\">Data Preprocessing</h2>"
   ]
  },
  {
   "cell_type": "markdown",
   "id": "55da23ee",
   "metadata": {},
   "source": [
    "<span style=\"color:#003b7f; font-size:18px\"><i>Data Loading</i></span>\n",
    "\n",
    "Once the data is stored in the S3 bucket, it is loaded into the data processing environment. This step involves reading the Parquet files and creating a structured representation of the data, such as a DataFrame in PySpark. A separate notebook `dataprep_pyspark.ipynb` for the preprocessing is included in the submission."
   ]
  },
  {
   "cell_type": "markdown",
   "id": "53ee4d38",
   "metadata": {},
   "source": [
    "<span style=\"color:#003b7f; font-size:18px\"><i>Data Cleaning</i></span>\n",
    "\n",
    "- *Data Transformation*\n",
    "\n",
    "    The data undergoes transformation to convert it into a more usable format. This may include converting data types, standardizing values, or applying mathematical functions to derive new features.\n",
    "    <br>\n",
    "\n",
    "- *Missing Value Handling*\n",
    "\n",
    "    Missing values are addressed in this step by applying appropriate techniques. Common approaches include imputation (replacing missing values with estimated values like mean, median, and mode) or deletion (removing rows or columns with missing values). "
   ]
  },
  {
   "cell_type": "markdown",
   "id": "8f3c98dc",
   "metadata": {
    "ExecuteTime": {
     "end_time": "2023-06-08T07:11:14.884185Z",
     "start_time": "2023-06-08T07:11:14.876034Z"
    }
   },
   "source": [
    "<h3 style=\"color:#003b7f;\">Feature Engineering</h3>"
   ]
  },
  {
   "cell_type": "markdown",
   "id": "7c68754a",
   "metadata": {},
   "source": [
    "<span style=\"color:#003b7f; font-size:17px\"><i>Feature Selection</i></span>\n",
    "\n",
    "   To streamline the analysis and improve computational efficiency, feature selection is performed. This step involves identifying the relevant columns or features from the dataset that will be used for further analysis and modeling."
   ]
  },
  {
   "cell_type": "markdown",
   "id": "f04b3647",
   "metadata": {},
   "source": [
    "<span style=\"color:#003b7f; font-size:17px\"><i>Feature Extraction</i></span>\n",
    "\n",
    "   Feature extraction involves deriving new features from the existing ones to capture additional information or patterns in the data. This step can help improve the predictive power of the models. This includes tasks such as extracting the year, month, and day features from a date column."
   ]
  },
  {
   "cell_type": "markdown",
   "id": "76564c20",
   "metadata": {},
   "source": [
    "```python\n",
    "# Derive new features with information on the paper such as awarded\n",
    "# project & funding, publication details, authors, and citations\n",
    "df_info = (df\n",
    "            .withColumn('title', F.col('title').getItem(0).cast('string'))\n",
    "            .withColumn('project_start_date', F.to_date(F.concat_ws('-', F.col('project.award-start.date-parts')[0][0])))\n",
    "            .withColumn('project_end_date', F.to_date(F.concat_ws('-', F.col('project.award-end.date-parts')[0][0])))\n",
    "            .withColumn('published_date', F.explode('published.date-parts'))\n",
    "            .select('DOI',\n",
    "                    'title',\n",
    "                    F.size(F.split('title', r'\\s')).alias('title_token_length'),\n",
    "                   'type',\n",
    "                    'abstract',\n",
    "                    (F.when(F.col('award').isNotNull(), 1).otherwise(0)).alias('has_award'),\n",
    "                    F.col('subject').alias('subject_list'),\n",
    "                    (F.when(F.col('subject').isNotNull(), F.size('subject')).otherwise(0)).alias('num_subjects'),\n",
    "                    (F.when(F.col('funder.award').isNotNull(), F.size('funder.award')).otherwise(None)).alias('num_funder_awards'),\n",
    "                    (F.when(F.col('funder.name').isNotNull(), F.size('funder.name')).otherwise(None)).alias('num_funders'),\n",
    "                    F.concat_ws(\", \", F.col('project.project-title').getItem(0)['title']).alias('project_title'),\n",
    "                    F.concat_ws(\", \", F.col('project.project-description').getItem(0)['description']).alias('project_description'),\n",
    "                    F.col('project.award-amount.amount').getItem(0).alias('project_award_amount'),\n",
    "                    F.col('project.award-amount.currency').getItem(0).alias('project_award_currency'),\n",
    "                    'project_start_date',\n",
    "                    'project_end_date',\n",
    "                    F.expr('datediff(project_end_date, project_start_date)').alias('project_duration_days'),\n",
    "                    F.col('institution.name').getItem(0).alias('institution_name'),\n",
    "                    F.expr(\"concat_ws(', ', flatten(institution.place))\").alias('institution_place'),\n",
    "                    (F.when(F.col('author.given').isNotNull(), F.size('author.given')).otherwise(0)).alias('num_authors'),\n",
    "                    F.col('published_date').getItem(0).alias('published_year'),\n",
    "                    F.col('published_date').getItem(1).alias('published_month'),\n",
    "                    F.col('published_date').getItem(2).alias('published_day'),\n",
    "                    F.col('issn-type').getItem(0)['type'].alias('issn_type'),\n",
    "                    F.col('isbn-type').getItem(0)['type'].alias('isbn_type'),\n",
    "                    'is-referenced-by-count'\n",
    "                   )\n",
    "        )\n",
    "\n",
    "# Derive new features based on information about the authors' affiliations\n",
    "df_affiliation = (df\n",
    "                    .withColumn('affiliation', F.explode(F.col('author.affiliation')))\n",
    "                    .select('DOI',\n",
    "                            F.concat_ws('| ', F.col('affiliation.name')).alias('name')\n",
    "                           )\n",
    "                    .groupBy('DOI')\n",
    "                    .agg(F.collect_list('name').alias('affiliation_list'))\n",
    "                    .select('DOI',\n",
    "                            'affiliation_list',\n",
    "                            F.when(F.col('affiliation_list').isNull(), 0)\n",
    "                                .otherwise(F.size(F.expr(\"filter(affiliation_list, x -> trim(x) != '')\")))\n",
    "                                .alias('num_affiliations')\n",
    "                           )\n",
    "                )\n",
    "\n",
    "# Join all of the information about a paper based on its DOI\n",
    "df_final = df_info.join(df_affiliation, on='DOI', how='left')\n",
    "\n",
    "# Saving the processed data\n",
    "# Set the timezone to Philippine time\n",
    "ph_tz = pytz.timezone('Asia/Manila')\n",
    "\n",
    "# Get the current datetime in Philippine time\n",
    "current_datetime = datetime.now(ph_tz)\n",
    "\n",
    "# Convert the datetime to string\n",
    "current_datetime_str = current_datetime.strftime('%Y-%m-%d_%H:%M')\n",
    "\n",
    "# Print the current datetime as string\n",
    "print(current_datetime_str)\n",
    "\n",
    "# Define the output paths for saving the dataframes\n",
    "out_fpath =  \"s3://s3bucketemr-sydney/processed/process_acl/\" \\\n",
    "            f\"derived_features_{current_datetime_str}.parquet\"\n",
    "\n",
    "# Save preprocessed_df as parquet\n",
    "df_final.write.parquet(out_fpath)\n",
    "```\n",
    "<br>"
   ]
  },
  {
   "cell_type": "markdown",
   "id": "8ece0574",
   "metadata": {},
   "source": [
    "<span style=\"color:#003b7f; font-size:17px\"><i>Opportunity Index, OI</i></span>\n",
    "\n",
    "The number of citations a research paper received (`is-referenced-by-count`) was transformed into a binary variable with values of either 1 or 0. This transformed variable is referred to as the Opportunity Index and is used as the target variable for predictive modeling. \n",
    "\n",
    "Let $R_x$ be the percentile rank of a research paper, $x$ based on the number of times it was cited:\n",
    "\n",
    "\\begin{align}\n",
    "    R_x & = \\frac{\\text{Number of values below or equal to desired value}}{\\text{Total number of values}} \\times 100 \\\\\n",
    "        & = \\frac{cf_b + 0.5f_a}{N} \\times 100\n",
    "\\end{align}\n",
    "\n",
    "where $cf_b$ is the Cumulative Frequency below the value, $f_a$ is the frequency of the value, and $N$ is the total number of values observed.\n",
    "\n",
    "The papers were categorized based on $R_x$. Papers with a rank higher than the median were labeled as high impact (1), while those with a rank equal to or below the median were labeled as low impact (0) as shown by the equation below.\n",
    "\n",
    "\\begin{equation*}\n",
    "\\text{OI} =\n",
    "\\begin{cases}\n",
    "    0 & \\text{if } R_x \\leq \\text{P50 (Low)} \\\\\n",
    "    1  & \\text{if } R_x > \\text{P50 (High)}\n",
    "\\end{cases}\n",
    "\\end{equation*}\n",
    "\n",
    "where P50 is the 50th percentile of $R_x$."
   ]
  },
  {
   "cell_type": "markdown",
   "id": "9e10c6ea",
   "metadata": {},
   "source": [
    "```python\n",
    "# Calculate the target's percentile ranking using quantile approximation\n",
    "target_quantile = df_final.approxQuantile('is-referenced-by-count', [0.5], 0.01)[0]\n",
    "df_processed = df_processed.withColumn('target_pct',\n",
    "                              F.when(F.col('is-referenced-by-count')\n",
    "                                     <= target_quantile, 0).otherwise(1))\n",
    "\n",
    "# Calculate the opportunity_index column based on target_pct\n",
    "df_processed = df_processed.withColumn('opportunity_index',\n",
    "                                       F.when(F.col('target_pct') <= 0.5, 0).otherwise(1))\n",
    "```\n",
    "<br>"
   ]
  },
  {
   "cell_type": "markdown",
   "id": "9529b035",
   "metadata": {},
   "source": [
    "<h2 style=\"color:#003b7f;\">Exploratory Data Analysis</h2>"
   ]
  },
  {
   "cell_type": "markdown",
   "id": "89b57b71",
   "metadata": {},
   "source": [
    "Exploratory analysis is a crucial step in the data analysis process, involving the initial exploration and understanding of the dataset. It aims to gain insights into the data, identify patterns, trends, and relationships, and generate hypotheses for further investigation.\n",
    "\n",
    "In this section, we present an overview of the raw data, including the number of rows and columns. We also examine the presence of null values within the dataset and provide summary statistics to gain a better understanding of the data. Additionally, we conduct descriptive analysis to explore the distribution and characteristics of the variables, allowing us to identify key patterns and trends."
   ]
  },
  {
   "cell_type": "markdown",
   "id": "2557747a",
   "metadata": {},
   "source": [
    "<h2 style=\"color:#003b7f;\">Predictive Modeling</h2>"
   ]
  },
  {
   "cell_type": "markdown",
   "id": "c9e16013",
   "metadata": {},
   "source": [
    "![pred_model.png](images/pred_model.png)\n",
    "<div>\n",
    "    <p style=\"font-size:10px;font-style:default;text-align:center\">\n",
    "        <b>Figure 3. Predictive Modeling Pipeline.</b><br>\n",
    "        <i>Steps followed for the predictive modeling phase of the project.</i>\n",
    "    </p>\n",
    "</div>\n",
    "<br>"
   ]
  },
  {
   "cell_type": "markdown",
   "id": "7bd736f0",
   "metadata": {},
   "source": [
    "<span style=\"color:#003b7f; font-size:17px\"><i>Resampling</i></span>\n",
    "\n",
    "*(optional: used in iteration 1, but dataset was already balanced in iteration 2)*\n",
    "\n",
    "- If the dataset is imbalanced, resampling techniques such as oversampling or undersampling may be applied to address the class imbalance issue. These techniques help to ensure that the model is not biased towards the majority class."
   ]
  },
  {
   "cell_type": "markdown",
   "id": "fc666fe0",
   "metadata": {},
   "source": [
    "<span style=\"color:#003b7f; font-size:17px\"><i>Feature Transformation</i></span>\n",
    "\n",
    "- *Tokenization*\n",
    "\n",
    "    Textual data such as title and abstract may need to be tokenized, which involves splitting text into individual words or tokens. This process enables the model to analyze and extract meaningful information from the text data.\n",
    "    <br>\n",
    "\n",
    "- *Stopwords Removal*\n",
    "\n",
    "    Stopwords, such as common words like \"a,\" \"the,\" or \"and,\" are often removed from the text data as they do not carry significant meaning and can introduce noise into the analysis.\n",
    "    <br>\n",
    "\n",
    "- *TF-IDF Vectorization*\n",
    "\n",
    "    TF-IDF (Term Frequency-Inverse Document Frequency) vectorization is a technique used to quantify the importance of each word in a document relative to the entire corpus. It assigns higher weights to words that are more informative for distinguishing between documents.\n",
    "    <br>\n",
    "\n",
    "- *Vector Assembly*\n",
    "\n",
    "    The transformed features are assembled into a feature vector that can be used as input for machine learning models. This step ensures that the features are in the appropriate format and ready for training."
   ]
  },
  {
   "cell_type": "markdown",
   "id": "72dc412b",
   "metadata": {},
   "source": [
    "<span style=\"color:#003b7f; font-size:17px\"><i>Feature Selection</i></span>\n",
    "\n",
    "- In the data preprocessing phase, feature selection plays a crucial role in improving computational efficiency and model performance. It involves identifying the most relevant features from the dataset that contribute significantly to the target variable prediction. The features were selected based on the domain knowledge of the proponents."
   ]
  },
  {
   "cell_type": "markdown",
   "id": "4cb420ed",
   "metadata": {},
   "source": [
    "<span style=\"color:#003b7f; font-size:17px\"><i>Hyperparameter Tuning</i></span>\n",
    "\n",
    "- Hyperparameter tuning is a critical step in optimizing the performance of machine learning models. Hyperparameters are the settings or configurations of a model that are not learned from the data but are set manually before training. Examples of hyperparameters include learning rate, regularization strength, tree depth in decision trees, or the number of hidden layers in a neural network. More details in the succeeding writeup in the Machine Learning Pipeline section of this note."
   ]
  },
  {
   "cell_type": "markdown",
   "id": "7f7c8db0",
   "metadata": {},
   "source": [
    "<span style=\"color:#003b7f; font-size:17px\"><i>Model Selection</i></span>\n",
    "\n",
    "- The selection of an appropriate machine learning model depends on the problem at hand and the nature of the data. Various models, such as decision trees, random forests, or gradient boosting, may be considered. The choice of the model is based on factors such as interpretability, performance, and suitability for the specific task."
   ]
  },
  {
   "cell_type": "markdown",
   "id": "5cc50dae",
   "metadata": {},
   "source": [
    "<span style=\"color:#003b7f; font-size:17px\"><i>Training</i></span>\n",
    "\n",
    "- In this step, the selected model is trained using the preprocessed and transformed data. The model learns patterns and relationships within the data, aiming to capture the underlying structure and make accurate predictions."
   ]
  },
  {
   "cell_type": "markdown",
   "id": "db5f4985",
   "metadata": {},
   "source": [
    "<span style=\"color:#003b7f; font-size:17px\"><i>Prediction</i></span>\n",
    "\n",
    "- After the model is trained, it can be used to make predictions on new, unseen data. The trained model takes input features and generates predictions or classifications based on the learned patterns and relationships."
   ]
  },
  {
   "cell_type": "markdown",
   "id": "925d4cdf",
   "metadata": {},
   "source": [
    "<span style=\"color:#003b7f; font-size:17px\"><i>Evaluation</i></span>\n",
    "\n",
    "- The performance of the predictive model is assessed using various evaluation metrics. These metrics provide insights into how well the model is performing and help determine its effectiveness in making accurate predictions. Common evaluation metrics include accuracy, precision, recall, and F1-score."
   ]
  },
  {
   "cell_type": "markdown",
   "id": "1dd02031",
   "metadata": {},
   "source": [
    "The aforementioned steps, including data collection, preprocessing, predictive modeling, and evaluation, are used to develop a robust and effective machine learning pipeline to analyze and make predictions on the dataset at hand. This pipeline helps streamline the workflow, handle missing values, transform features, select appropriate models, train them, make predictions, and evaluate their performance.\n",
    "\n",
    "---"
   ]
  },
  {
   "cell_type": "markdown",
   "id": "e62dc443",
   "metadata": {},
   "source": [
    "<h1 style=\"background-color:#003b7f;color:#ffffff;padding:20px\">Data Exploration</h1>"
   ]
  },
  {
   "cell_type": "markdown",
   "id": "83b2ca7d",
   "metadata": {},
   "source": [
    "<h2 style=\"color:#003b7f;\">Raw Data</h2>"
   ]
  },
  {
   "cell_type": "markdown",
   "id": "9c4b4153",
   "metadata": {},
   "source": [
    "<div>\n",
    "    <p style=\"font-size:10px;font-style:default;text-align:left;color:gray;\">\n",
    "        <i><b>Note:</b> The preprocessing steps are performed in a separate notebook to maintain the efficiency and readability of this notebook. By doing so, we ensure that the cells in this notebook do not become burdened with lengthy loading processes.</i>\n",
    "    </p>\n",
    "</div>"
   ]
  },
  {
   "cell_type": "markdown",
   "id": "a1051491",
   "metadata": {},
   "source": [
    "The first step is to load and explore the raw data. The raw Crossref dataset is a highly nested dataset consisting of 143,500,239 rows and 73 columns. The total size of the raw dataset is `173.1GB` as shown in Figure 3."
   ]
  },
  {
   "cell_type": "markdown",
   "id": "6f4e3280",
   "metadata": {},
   "source": [
    "![raw_size.png](images/raw_size.png)\n",
    "<div>\n",
    "    <p style=\"font-size:10px;font-style:default;text-align:center\">\n",
    "        <b>Figure 4. Raw Data Size.</b><br>\n",
    "        <i>The total size of the raw dataset is 173.1GB.</i>\n",
    "    </p>\n",
    "</div>\n",
    "<br>"
   ]
  },
  {
   "cell_type": "markdown",
   "id": "1d2f1631",
   "metadata": {},
   "source": [
    "```python\n",
    "fpath = \"s3://s3bucketemr-sydney/crossref.parquet/\"\n",
    "\n",
    "df_all = (spark.read.parquet(\n",
    "    fpath, header=True,\n",
    "    inferSchema=True).select('col.*'))\n",
    "```"
   ]
  },
  {
   "cell_type": "markdown",
   "id": "580fe91c",
   "metadata": {},
   "source": [
    "```python\n",
    "num_rows = df_all.count()  # Count the number of rows\n",
    "num_cols = len(df_all.columns)  # Get the number of columns\n",
    "\n",
    "print(\"Number of rows: \", num_rows)\n",
    "print(\"Number of columns: \", num_cols)\n",
    "\n",
    "# Create a DataFrame with the number of rows and columns\n",
    "shape_data = [(num_rows, num_cols)]\n",
    "shape_schema = \"num_rows LONG, num_cols INT\"\n",
    "shape_df_all = spark.createDataFrame(shape_data, shape_schema)\n",
    "\n",
    "# Show the shape DataFrame\n",
    "shape_df_all.show()\n",
    "```\n",
    "<br>\n",
    "\n",
    "```\n",
    "Number of rows:  143500239\n",
    "Number of columns:  73\n",
    "+---------+--------+\n",
    "| num_rows|num_cols|\n",
    "+---------+--------+\n",
    "|143500239|      73|\n",
    "+---------+--------+\n",
    "```\n",
    "<br>"
   ]
  },
  {
   "cell_type": "markdown",
   "id": "c07935cb",
   "metadata": {},
   "source": [
    "Next, we proceed to examine the presence of null values within the dataset. Given that this is a datadump, it is anticipated to have numerous null values across the dataset and its nested columns.\n",
    "\n",
    "In order to make the dataset more manageable and suitable for analysis, we undertake a data cleaning process. This involves flattening the data, reducing its dimensionality by selecting only the relevant columns, and addressing missing values."
   ]
  },
  {
   "cell_type": "markdown",
   "id": "708bcd0f",
   "metadata": {},
   "source": [
    "```python\n",
    "null_count_df_saved = spark.read.csv('s3://s3bucketemr-sydney/extracted_csv/null_counts.csv', header=True)\n",
    "null_count_df_saved.show()\n",
    "```\n",
    "<br>\n",
    "\n",
    "```\n",
    "+--------------------+-----------+\n",
    "|         Column Name|Null Values|\n",
    "+--------------------+-----------+\n",
    "|                 DOI|          0|\n",
    "|                ISBN|  133523064|\n",
    "|                ISSN|   38583413|\n",
    "|                 URL|          0|\n",
    "|            abstract|  124148446|\n",
    "|            accepted|  142812124|\n",
    "|      alternative-id|   81704734|\n",
    "|            approved|  142519353|\n",
    "|             archive|  138365283|\n",
    "|      article-number|  139807122|\n",
    "|           assertion|  127902125|\n",
    "|              author|   27654779|\n",
    "|               award|  143423634|\n",
    "|         award-start|  143454018|\n",
    "|               chair|  143482915|\n",
    "|clinical-trial-nu...|  143474393|\n",
    "|     container-title|   10909502|\n",
    "|     content-created|  142678612|\n",
    "|      content-domain|      76606|\n",
    "|     content-updated|  143219211|\n",
    "+--------------------+-----------+\n",
    "only showing top 20 rows\n",
    "```\n",
    "<br>"
   ]
  },
  {
   "cell_type": "markdown",
   "id": "8ad0a11a",
   "metadata": {},
   "source": [
    "In this dataset, the DOI (Digital Object Identifier) and URL fields play a crucial role as key identifiers for publications. The DOI serves as a unique identifier for each publication, and it typically points to the URL where the publication can be accessed.\n",
    "\n",
    "It's worth noting that some fields in the dataset contain null values. Therefore, when generating insights from the dataset, only the relevant values that are not null in their respective fields are considered. This ensures that the insights are based on complete and meaningful data points."
   ]
  },
  {
   "cell_type": "markdown",
   "id": "43b2aae1",
   "metadata": {},
   "source": [
    "<h2 style=\"color:#003b7f;\">EDA & Insights</h2>"
   ]
  },
  {
   "cell_type": "code",
   "execution_count": 2,
   "id": "defb0bb2",
   "metadata": {
    "ExecuteTime": {
     "end_time": "2023-06-09T09:21:20.916010Z",
     "start_time": "2023-06-09T09:21:20.909369Z"
    }
   },
   "outputs": [],
   "source": [
    "import pandas as pd\n",
    "import matplotlib.pyplot as plt\n",
    "import matplotlib.ticker as tick"
   ]
  },
  {
   "cell_type": "markdown",
   "id": "42c1ab2f",
   "metadata": {},
   "source": [
    "<div>\n",
    "    <p style=\"font-size:10px;font-style:default;text-align:left;color:gray;\">\n",
    "        <i><b>Note:</b> The following exploratory data analysis leveraged the use of the school server. Different tables were extracted in the `df_final` (generated from the Feature Extraction section), which were then saved as CSV files, taking advantage of the faster runtime in the generating visualizations through pandas and matplotlib modules.</i>\n",
    "    </p>\n",
    "</div>"
   ]
  },
  {
   "cell_type": "markdown",
   "id": "8d2dc846",
   "metadata": {},
   "source": [
    "*A separate notebook `exploration_pyspark.ipynb` from which the CSV files are generated is provided.*"
   ]
  },
  {
   "cell_type": "markdown",
   "id": "dfd03701",
   "metadata": {},
   "source": [
    "We gathered several insights following the pillars mentioned in sub-section 4.2. To recap, there are four pillars, namely <span style='color:#d54949'>**diversity and quality**</span> offered by the research or the study (content), <span style='color:#f3c953'>**financial resources**</span> (funding), <span style='color:#515a59'>**network and connections**</span> (affiliations), and <span style='color:#5fb0c5'>**timeliness and accessibility**</span> (relevance)."
   ]
  },
  {
   "cell_type": "markdown",
   "id": "650bc715",
   "metadata": {},
   "source": [
    "<h3 style=\"background-color:#d54949;color:#ffffff;padding:10px;\">Diversity and Quality</h3>"
   ]
  },
  {
   "cell_type": "markdown",
   "id": "4133a652",
   "metadata": {},
   "source": [
    "<span style=\"color:#003b7f; font-size:17px\"><i>Top Subjects in the Last Five Years</i></span>"
   ]
  },
  {
   "cell_type": "code",
   "execution_count": 4,
   "id": "8834f972",
   "metadata": {
    "ExecuteTime": {
     "end_time": "2023-06-08T12:15:30.400122Z",
     "start_time": "2023-06-08T12:15:30.353900Z"
    }
   },
   "outputs": [
    {
     "name": "stdout",
     "output_type": "stream",
     "text": [
      "Top Subjects in 2019:\n"
     ]
    },
    {
     "data": {
      "text/html": [
       "<div>\n",
       "<style scoped>\n",
       "    .dataframe tbody tr th:only-of-type {\n",
       "        vertical-align: middle;\n",
       "    }\n",
       "\n",
       "    .dataframe tbody tr th {\n",
       "        vertical-align: top;\n",
       "    }\n",
       "\n",
       "    .dataframe thead th {\n",
       "        text-align: right;\n",
       "    }\n",
       "</style>\n",
       "<table border=\"1\" class=\"dataframe\">\n",
       "  <thead>\n",
       "    <tr style=\"text-align: right;\">\n",
       "      <th></th>\n",
       "      <th>subject</th>\n",
       "      <th>year</th>\n",
       "      <th>count</th>\n",
       "      <th>row_num</th>\n",
       "    </tr>\n",
       "  </thead>\n",
       "  <tbody>\n",
       "    <tr>\n",
       "      <th>2167</th>\n",
       "      <td>General Medicine</td>\n",
       "      <td>2019</td>\n",
       "      <td>562329</td>\n",
       "      <td>1</td>\n",
       "    </tr>\n",
       "    <tr>\n",
       "      <th>2168</th>\n",
       "      <td>General Materials Science</td>\n",
       "      <td>2019</td>\n",
       "      <td>144039</td>\n",
       "      <td>2</td>\n",
       "    </tr>\n",
       "    <tr>\n",
       "      <th>2169</th>\n",
       "      <td>Electrical and Electronic Engineering</td>\n",
       "      <td>2019</td>\n",
       "      <td>139673</td>\n",
       "      <td>3</td>\n",
       "    </tr>\n",
       "  </tbody>\n",
       "</table>\n",
       "</div>"
      ],
      "text/plain": [
       "                                    subject  year   count  row_num\n",
       "2167                       General Medicine  2019  562329        1\n",
       "2168              General Materials Science  2019  144039        2\n",
       "2169  Electrical and Electronic Engineering  2019  139673        3"
      ]
     },
     "metadata": {},
     "output_type": "display_data"
    },
    {
     "name": "stdout",
     "output_type": "stream",
     "text": [
      "\n",
      "\n",
      "Top Subjects in 2020:\n"
     ]
    },
    {
     "data": {
      "text/html": [
       "<div>\n",
       "<style scoped>\n",
       "    .dataframe tbody tr th:only-of-type {\n",
       "        vertical-align: middle;\n",
       "    }\n",
       "\n",
       "    .dataframe tbody tr th {\n",
       "        vertical-align: top;\n",
       "    }\n",
       "\n",
       "    .dataframe thead th {\n",
       "        text-align: right;\n",
       "    }\n",
       "</style>\n",
       "<table border=\"1\" class=\"dataframe\">\n",
       "  <thead>\n",
       "    <tr style=\"text-align: right;\">\n",
       "      <th></th>\n",
       "      <th>subject</th>\n",
       "      <th>year</th>\n",
       "      <th>count</th>\n",
       "      <th>row_num</th>\n",
       "    </tr>\n",
       "  </thead>\n",
       "  <tbody>\n",
       "    <tr>\n",
       "      <th>927</th>\n",
       "      <td>General Medicine</td>\n",
       "      <td>2020</td>\n",
       "      <td>607559</td>\n",
       "      <td>1</td>\n",
       "    </tr>\n",
       "    <tr>\n",
       "      <th>928</th>\n",
       "      <td>General Materials Science</td>\n",
       "      <td>2020</td>\n",
       "      <td>160168</td>\n",
       "      <td>2</td>\n",
       "    </tr>\n",
       "    <tr>\n",
       "      <th>929</th>\n",
       "      <td>Electrical and Electronic Engineering</td>\n",
       "      <td>2020</td>\n",
       "      <td>149702</td>\n",
       "      <td>3</td>\n",
       "    </tr>\n",
       "  </tbody>\n",
       "</table>\n",
       "</div>"
      ],
      "text/plain": [
       "                                   subject  year   count  row_num\n",
       "927                       General Medicine  2020  607559        1\n",
       "928              General Materials Science  2020  160168        2\n",
       "929  Electrical and Electronic Engineering  2020  149702        3"
      ]
     },
     "metadata": {},
     "output_type": "display_data"
    },
    {
     "name": "stdout",
     "output_type": "stream",
     "text": [
      "\n",
      "\n",
      "Top Subjects in 2021:\n"
     ]
    },
    {
     "data": {
      "text/html": [
       "<div>\n",
       "<style scoped>\n",
       "    .dataframe tbody tr th:only-of-type {\n",
       "        vertical-align: middle;\n",
       "    }\n",
       "\n",
       "    .dataframe tbody tr th {\n",
       "        vertical-align: top;\n",
       "    }\n",
       "\n",
       "    .dataframe thead th {\n",
       "        text-align: right;\n",
       "    }\n",
       "</style>\n",
       "<table border=\"1\" class=\"dataframe\">\n",
       "  <thead>\n",
       "    <tr style=\"text-align: right;\">\n",
       "      <th></th>\n",
       "      <th>subject</th>\n",
       "      <th>year</th>\n",
       "      <th>count</th>\n",
       "      <th>row_num</th>\n",
       "    </tr>\n",
       "  </thead>\n",
       "  <tbody>\n",
       "    <tr>\n",
       "      <th>937</th>\n",
       "      <td>General Medicine</td>\n",
       "      <td>2021</td>\n",
       "      <td>632341</td>\n",
       "      <td>1</td>\n",
       "    </tr>\n",
       "    <tr>\n",
       "      <th>938</th>\n",
       "      <td>General Materials Science</td>\n",
       "      <td>2021</td>\n",
       "      <td>164678</td>\n",
       "      <td>2</td>\n",
       "    </tr>\n",
       "    <tr>\n",
       "      <th>939</th>\n",
       "      <td>Electrical and Electronic Engineering</td>\n",
       "      <td>2021</td>\n",
       "      <td>157251</td>\n",
       "      <td>3</td>\n",
       "    </tr>\n",
       "  </tbody>\n",
       "</table>\n",
       "</div>"
      ],
      "text/plain": [
       "                                   subject  year   count  row_num\n",
       "937                       General Medicine  2021  632341        1\n",
       "938              General Materials Science  2021  164678        2\n",
       "939  Electrical and Electronic Engineering  2021  157251        3"
      ]
     },
     "metadata": {},
     "output_type": "display_data"
    },
    {
     "name": "stdout",
     "output_type": "stream",
     "text": [
      "\n",
      "\n",
      "Top Subjects in 2022:\n"
     ]
    },
    {
     "data": {
      "text/html": [
       "<div>\n",
       "<style scoped>\n",
       "    .dataframe tbody tr th:only-of-type {\n",
       "        vertical-align: middle;\n",
       "    }\n",
       "\n",
       "    .dataframe tbody tr th {\n",
       "        vertical-align: top;\n",
       "    }\n",
       "\n",
       "    .dataframe thead th {\n",
       "        text-align: right;\n",
       "    }\n",
       "</style>\n",
       "<table border=\"1\" class=\"dataframe\">\n",
       "  <thead>\n",
       "    <tr style=\"text-align: right;\">\n",
       "      <th></th>\n",
       "      <th>subject</th>\n",
       "      <th>year</th>\n",
       "      <th>count</th>\n",
       "      <th>row_num</th>\n",
       "    </tr>\n",
       "  </thead>\n",
       "  <tbody>\n",
       "    <tr>\n",
       "      <th>2177</th>\n",
       "      <td>General Medicine</td>\n",
       "      <td>2022</td>\n",
       "      <td>741060</td>\n",
       "      <td>1</td>\n",
       "    </tr>\n",
       "    <tr>\n",
       "      <th>2178</th>\n",
       "      <td>Electrical and Electronic Engineering</td>\n",
       "      <td>2022</td>\n",
       "      <td>184510</td>\n",
       "      <td>2</td>\n",
       "    </tr>\n",
       "    <tr>\n",
       "      <th>2179</th>\n",
       "      <td>General Materials Science</td>\n",
       "      <td>2022</td>\n",
       "      <td>168197</td>\n",
       "      <td>3</td>\n",
       "    </tr>\n",
       "  </tbody>\n",
       "</table>\n",
       "</div>"
      ],
      "text/plain": [
       "                                    subject  year   count  row_num\n",
       "2177                       General Medicine  2022  741060        1\n",
       "2178  Electrical and Electronic Engineering  2022  184510        2\n",
       "2179              General Materials Science  2022  168197        3"
      ]
     },
     "metadata": {},
     "output_type": "display_data"
    },
    {
     "name": "stdout",
     "output_type": "stream",
     "text": [
      "\n",
      "\n",
      "Top Subjects in 2023:\n"
     ]
    },
    {
     "data": {
      "text/html": [
       "<div>\n",
       "<style scoped>\n",
       "    .dataframe tbody tr th:only-of-type {\n",
       "        vertical-align: middle;\n",
       "    }\n",
       "\n",
       "    .dataframe tbody tr th {\n",
       "        vertical-align: top;\n",
       "    }\n",
       "\n",
       "    .dataframe thead th {\n",
       "        text-align: right;\n",
       "    }\n",
       "</style>\n",
       "<table border=\"1\" class=\"dataframe\">\n",
       "  <thead>\n",
       "    <tr style=\"text-align: right;\">\n",
       "      <th></th>\n",
       "      <th>subject</th>\n",
       "      <th>year</th>\n",
       "      <th>count</th>\n",
       "      <th>row_num</th>\n",
       "    </tr>\n",
       "  </thead>\n",
       "  <tbody>\n",
       "    <tr>\n",
       "      <th>2187</th>\n",
       "      <td>General Medicine</td>\n",
       "      <td>2023</td>\n",
       "      <td>193910</td>\n",
       "      <td>1</td>\n",
       "    </tr>\n",
       "    <tr>\n",
       "      <th>2188</th>\n",
       "      <td>Electrical and Electronic Engineering</td>\n",
       "      <td>2023</td>\n",
       "      <td>61525</td>\n",
       "      <td>2</td>\n",
       "    </tr>\n",
       "    <tr>\n",
       "      <th>2189</th>\n",
       "      <td>Industrial and Manufacturing Engineering</td>\n",
       "      <td>2023</td>\n",
       "      <td>57742</td>\n",
       "      <td>3</td>\n",
       "    </tr>\n",
       "  </tbody>\n",
       "</table>\n",
       "</div>"
      ],
      "text/plain": [
       "                                       subject  year   count  row_num\n",
       "2187                          General Medicine  2023  193910        1\n",
       "2188     Electrical and Electronic Engineering  2023   61525        2\n",
       "2189  Industrial and Manufacturing Engineering  2023   57742        3"
      ]
     },
     "metadata": {},
     "output_type": "display_data"
    }
   ],
   "source": [
    "top_sub = pd.read_csv('data/crossref_publish_subj_top10_yearly_count.csv')\n",
    "top_2019 = top_sub[top_sub['year'] == 2019]\n",
    "top_2020 = top_sub[top_sub['year'] == 2020]\n",
    "top_2021 = top_sub[top_sub['year'] == 2021]\n",
    "top_2022 = top_sub[top_sub['year'] == 2022]\n",
    "top_2023 = top_sub[top_sub['year'] == 2023]\n",
    "print('Top Subjects in 2019:')\n",
    "display(top_2019.head(3))\n",
    "print('\\n')\n",
    "print('Top Subjects in 2020:')\n",
    "display(top_2020.head(3))\n",
    "print('\\n')\n",
    "print('Top Subjects in 2021:')\n",
    "display(top_2021.head(3))\n",
    "print('\\n')\n",
    "print('Top Subjects in 2022:')\n",
    "display(top_2022.head(3))\n",
    "print('\\n')\n",
    "print('Top Subjects in 2023:')\n",
    "display(top_2023.head(3))"
   ]
  },
  {
   "cell_type": "markdown",
   "id": "a520203a",
   "metadata": {},
   "source": [
    "<div>\n",
    "    <p style=\"font-size:10px;font-style:default;text-align:left\">\n",
    "        <b>Table 3. Top Subjects in the Last Five Years.</b><br>\n",
    "        <i>The top three subjects from 2019 to 2023.</i>\n",
    "    </p>\n",
    "</div>\n",
    "<br>"
   ]
  },
  {
   "cell_type": "markdown",
   "id": "5bc519fd",
   "metadata": {},
   "source": [
    "<span style=\"color:#003b7f; font-size:17px\"><i>Top Ten Subjects (Average Annual Publication Count)</i></span>"
   ]
  },
  {
   "cell_type": "code",
   "execution_count": 5,
   "id": "450eca03",
   "metadata": {
    "ExecuteTime": {
     "end_time": "2023-06-08T12:15:30.406445Z",
     "start_time": "2023-06-08T12:15:30.402603Z"
    }
   },
   "outputs": [],
   "source": [
    "no_of_years = top_sub['year'].nunique()"
   ]
  },
  {
   "cell_type": "code",
   "execution_count": 6,
   "id": "74308262",
   "metadata": {
    "ExecuteTime": {
     "end_time": "2023-06-08T12:15:30.424639Z",
     "start_time": "2023-06-08T12:15:30.409779Z"
    }
   },
   "outputs": [],
   "source": [
    "top_subjects = pd.read_csv('data/crossref_publish_subj_top10_yearly_count.csv')\n",
    "top_subjects = top_subjects.groupby('subject').sum('count').reset_index()\n",
    "top_subjects = top_subjects.sort_values('count', ascending=True).drop('year',\n",
    "                                                                      axis=1)\n",
    "top_subjects['ave_per_annum'] = top_subjects['count'] / no_of_years"
   ]
  },
  {
   "cell_type": "code",
   "execution_count": 7,
   "id": "2a0f2d8c",
   "metadata": {
    "ExecuteTime": {
     "end_time": "2023-06-08T12:15:30.801126Z",
     "start_time": "2023-06-08T12:15:30.426995Z"
    }
   },
   "outputs": [
    {
     "data": {
      "image/png": "[encoded data removed]",
      "text/plain": [
       "<Figure size 1500x1000 with 1 Axes>"
      ]
     },
     "metadata": {},
     "output_type": "display_data"
    }
   ],
   "source": [
    "# figure size\n",
    "fig, ax = plt.subplots(figsize=(15, 10))\n",
    "\n",
    "# determine the color for the bars\n",
    "bar_colors = ['#d8d2c6'] * len(top_subjects)\n",
    "max_idx = top_subjects['ave_per_annum'].argmax()\n",
    "bar_colors[max_idx] = '#d54949'\n",
    "\n",
    "# horizontal bar plot\n",
    "works = plt.barh(top_subjects['subject'][-10:],\n",
    "                 top_subjects['count'][-10:],\n",
    "                 height=0.65,\n",
    "                 color=bar_colors[-10:])\n",
    "\n",
    "# chart formatting and axis labels\n",
    "ax.spines[['right', 'top', 'bottom']].set_visible(False) \n",
    "ax.xaxis.set_visible(False)\n",
    "formatter = tick.StrMethodFormatter('{x:,.0f}')\n",
    "ax.xaxis.set_major_formatter(formatter)\n",
    "ax.bar_label(works,\n",
    "             labels=[f'{x:,.2f}' for x in top_subjects['ave_per_annum'][-10:]],\n",
    "             padding=3,\n",
    "             color='#000000', \n",
    "             fontsize=12,\n",
    "             label_type='edge',\n",
    "             fontweight='regular')\n",
    "ax.yaxis.set_tick_params(labelsize=14)\n",
    "# ax.set_title('Top Subjects by Publication Count', fontsize=12)\n",
    " \n",
    "# show plot\n",
    "plt.show()"
   ]
  },
  {
   "cell_type": "markdown",
   "id": "13537102",
   "metadata": {},
   "source": [
    "<div>\n",
    "    <p style=\"font-size:10px;font-style:default;text-align:center\">\n",
    "        <b>Figure 5. Top Subjects (Average Annual Publication Count).</b><br>\n",
    "        <i>The top ten subjects based on the average publication count per annum.</i>\n",
    "    </p>\n",
    "</div>\n",
    "<br>"
   ]
  },
  {
   "cell_type": "markdown",
   "id": "26c31a8c",
   "metadata": {},
   "source": [
    "We can see a huge gap between General Medicine and the rest of the subject fields that have publications, evidenced by Figure 5. Several factors inducing this gap include:\n",
    "\n",
    "1. **General Medicine** is the most researched field (see Table 3), driven by its direct impact on human health and the need to understand and treat a wide range of medical conditions, especially those which do not have a cure yet. The continuous rise in publications reflects the efforts to advance knowledge, improve diagnostics, and discover innovative therapies. Research in general medicine directly benefits patient care, enhancing treatment protocols, and improving outcomes.\n",
    "\n",
    "2. **Biochemistry** ranks as the second most researched field, focusing on understanding biological processes at a molecular level. Researchers investigate metabolism, cellular signaling, and biomolecule structures to uncover the mechanisms of life. Advances in technology and techniques have expanded the scope of biochemistry research, encompassing areas like genomics and proteomics. The significance of biochemistry extends to various fields, including medicine, agriculture, and biotechnology. Advancement in this field greatly affects general medicine as well.\n",
    "\n",
    "3. **Condensed Matter Physics** and **General Chemistry** are also prominent areas of research. Condensed Matter Physics explores material properties and phenomena, contributing to technological advancements in electronics, materials science, and energy. General chemistry, on the other hand, investigates the composition, structure, and reactions of substances, playing a crucial role in multiple scientific disciplines. Both fields have substantial research output and contribute to scientific and technological advancements.\n",
    "\n",
    "In summary, general medicine, biochemistry, condensed matter physics, and general chemistry represent the most researched fields. General medicine addresses human health, while biochemistry delves into molecular processes. Condensed Matter Physics focuses on material properties, and general chemistry studies the fundamentals of chemical substances. These fields collectively drive the continuous growth of research, benefitting patient care, technological advancements, and scientific knowledge."
   ]
  },
  {
   "cell_type": "markdown",
   "id": "d111a42d",
   "metadata": {},
   "source": [
    "<span style=\"color:#003b7f; font-size:17px\"><i>Top Ten Subjects (Average Annual Citation Count)</i></span>"
   ]
  },
  {
   "cell_type": "code",
   "execution_count": 8,
   "id": "531f8d1b",
   "metadata": {
    "ExecuteTime": {
     "end_time": "2023-06-08T12:15:30.823306Z",
     "start_time": "2023-06-08T12:15:30.807161Z"
    }
   },
   "outputs": [],
   "source": [
    "sub_ref = pd.read_csv('data/subject_reference_count.csv')\n",
    "sub_ref = sub_ref.sort_values('ref_count', ascending=True)\n",
    "sub_ref['ave_per_annum'] = sub_ref['ref_count'] / no_of_years"
   ]
  },
  {
   "cell_type": "code",
   "execution_count": 9,
   "id": "c3c8266a",
   "metadata": {
    "ExecuteTime": {
     "end_time": "2023-06-08T12:15:31.101609Z",
     "start_time": "2023-06-08T12:15:30.826488Z"
    }
   },
   "outputs": [
    {
     "data": {
      "image/png": "[encoded data removed]",
      "text/plain": [
       "<Figure size 1500x1000 with 1 Axes>"
      ]
     },
     "metadata": {},
     "output_type": "display_data"
    }
   ],
   "source": [
    "# figure size\n",
    "fig, ax = plt.subplots(figsize=(15, 10))\n",
    "\n",
    "# determine the color for the bars\n",
    "bar_colors = ['#d8d2c6'] * len(sub_ref)\n",
    "max_idx = sub_ref['ave_per_annum'].argmax()\n",
    "bar_colors[max_idx] = '#d54949'\n",
    "\n",
    "# horizontal bar plot\n",
    "works = plt.barh(sub_ref['subject'][-10:],\n",
    "                 sub_ref['ave_per_annum'][-10:],\n",
    "                 height=0.65,\n",
    "                 color=bar_colors[-10:])\n",
    "\n",
    "# chart formatting and axis labels\n",
    "ax.spines[['right', 'top', 'bottom']].set_visible(False) \n",
    "ax.xaxis.set_visible(False)\n",
    "formatter = tick.StrMethodFormatter('{x:,.0f}')\n",
    "ax.xaxis.set_major_formatter(formatter)\n",
    "ax.bar_label(works,\n",
    "             labels=[f'{x:,.2f}' for x in sub_ref['ave_per_annum'][-10:]],\n",
    "             padding=3,\n",
    "             color='#000000', \n",
    "             fontsize=12,\n",
    "             label_type='edge',\n",
    "             fontweight='regular')\n",
    "ax.yaxis.set_tick_params(labelsize=14)\n",
    " \n",
    "# show plot\n",
    "plt.show()"
   ]
  },
  {
   "cell_type": "markdown",
   "id": "32236d19",
   "metadata": {},
   "source": [
    "<div>\n",
    "    <p style=\"font-size:10px;font-style:default;text-align:center\">\n",
    "        <b>Figure 6. Top Subjects (Average Annual Citation Count).</b><br>\n",
    "        <i>The top ten subjects based on the average citation count per annum.</i>\n",
    "    </p>\n",
    "</div>\n",
    "<br>"
   ]
  },
  {
   "cell_type": "markdown",
   "id": "774f67eb",
   "metadata": {},
   "source": [
    "We can some similarities in the most referenced subjects (see Figure 6) against the most published articles annually. The top referred subject areas in research are **General Medicine**, **Biochemistry**, and **Molecular Biology**. These fields play crucial roles in understanding diseases, biological processes, and molecular mechanisms.\n",
    "\n",
    "**General Medicine** encompasses various medical disciplines and contributes to advancements in medical knowledge, diagnosis, and treatment options.\n",
    "\n",
    "**Biochemistry** focuses on chemical processes and molecular mechanisms in living organisms, driving advancements in drug development, disease mechanisms, and biotechnological innovations.\n",
    "\n",
    "**Molecular Biology** investigates biological macromolecules and provides insights into genetic mechanisms, gene expression, and molecular basis of diseases.\n",
    "\n",
    "Other important subject areas include **General Chemistry**, **Multidisciplinary**, **Cell Biology**, **Condensed Matter Physics**, **General Physics and Astronomy**, **General Materials Science**, and **Genetics**, which contribute to diverse scientific disciplines and technological advancements.\n",
    "\n",
    "There is a significant overlap between the number of articles being written annually and the reasons for their referencing. The high publication volume in these subject areas reflects active research communities and scientific interest. The research conducted in these fields leads to important discoveries, techniques, and insights, making them valuable references for subsequent studies and contributing to the growth of scientific knowledge."
   ]
  },
  {
   "cell_type": "markdown",
   "id": "e1aa026b",
   "metadata": {},
   "source": [
    "<h3 style=\"background-color:#f3c953;color:#000000;padding:10px;\">Financial Resources</h3>"
   ]
  },
  {
   "cell_type": "markdown",
   "id": "251fe1b7",
   "metadata": {},
   "source": [
    "<span style=\"color:#003b7f; font-size:17px\"><i>Top Ten Funding Institutions (Total Publication Count)</i></span>"
   ]
  },
  {
   "cell_type": "code",
   "execution_count": 10,
   "id": "5faea7ad",
   "metadata": {
    "ExecuteTime": {
     "end_time": "2023-06-08T12:15:31.154686Z",
     "start_time": "2023-06-08T12:15:31.104868Z"
    }
   },
   "outputs": [],
   "source": [
    "top_fund = pd.read_csv('data/top_fund_count.csv')\n",
    "top_fund = top_fund.sort_values('count', ascending=True)"
   ]
  },
  {
   "cell_type": "code",
   "execution_count": 11,
   "id": "c7771c3a",
   "metadata": {
    "ExecuteTime": {
     "end_time": "2023-06-08T12:15:31.464858Z",
     "start_time": "2023-06-08T12:15:31.157033Z"
    }
   },
   "outputs": [
    {
     "data": {
      "image/png": "[encoded data removed]",
      "text/plain": [
       "<Figure size 1500x1000 with 1 Axes>"
      ]
     },
     "metadata": {},
     "output_type": "display_data"
    }
   ],
   "source": [
    "# figure size\n",
    "fig, ax = plt.subplots(figsize=(15, 10))\n",
    "\n",
    "# determine the color for the bars\n",
    "bar_colors = ['#d8d2c6'] * len(top_fund)\n",
    "max_idx = top_fund['count'].argmax()\n",
    "bar_colors[max_idx] = '#f3c953'\n",
    "\n",
    "# horizontal bar plot\n",
    "works = plt.barh(top_fund['funder_name'][-10:],\n",
    "                 top_fund['count'][-10:],\n",
    "                 height=0.65,\n",
    "                 color=bar_colors[-10:])\n",
    "\n",
    "# chart formatting and axis labels\n",
    "ax.spines[['right', 'top', 'bottom']].set_visible(False) \n",
    "ax.xaxis.set_visible(False)\n",
    "formatter = tick.StrMethodFormatter('{x:,.0f}')\n",
    "ax.xaxis.set_major_formatter(formatter)\n",
    "ax.bar_label(works,\n",
    "             labels=[f'{x:,.0f}' for x in top_fund['count'][-10:]],\n",
    "             padding=3,\n",
    "             color='#000000', \n",
    "             fontsize=12,\n",
    "             label_type='edge',\n",
    "             fontweight='regular')\n",
    "ax.yaxis.set_tick_params(labelsize=14)\n",
    " \n",
    "# show plot\n",
    "plt.show()"
   ]
  },
  {
   "cell_type": "markdown",
   "id": "1453dc1e",
   "metadata": {},
   "source": [
    "<div>\n",
    "    <p style=\"font-size:10px;font-style:default;text-align:center\">\n",
    "        <b>Figure 7. Top Funding Institutions.</b><br>\n",
    "        <i>The top ten institutions granting research funds based on total publication count.</i>\n",
    "    </p>\n",
    "</div>\n",
    "<br>"
   ]
  },
  {
   "cell_type": "markdown",
   "id": "488022a5",
   "metadata": {},
   "source": [
    "As seen in Figure 7, the **National Natural Science Foundation of China (NSFC)** is the top funder due to its substantial financial resources and government support, allowing it to provide grants and funding for a wide range of research projects in China, driving scientific innovation and economic growth.\n",
    "\n",
    "The **National Science Foundation (NSF)** is a prominent funder in the United States due to its role as a federal agency supporting fundamental research across various scientific disciplines, providing grants and funding opportunities to researchers and institutions, and advancing scientific knowledge and technological progress.\n",
    "\n",
    "The **National Institutes of Health (NIH)** is a significant funder in the United States as well, due to its role as the primary federal agency for medical research, providing funding for biomedical and health-related research projects, promoting advancements in medical science, and improving public health and healthcare outcomes.\n",
    "\n",
    "These three institutions in terms of funding are affiliated with powerhouse nations **China** and the **United States (US)**. China's rise as a top funder is driven by its strong commitment to scientific and technological advancement, with substantial investments through organizations like the NSFC. The US, a global leader in research funding, benefits from a robust research ecosystem, including prestigious universities and federal agencies such as the NSF and the NIH.\n",
    "\n",
    "These countries' commitment to funding research is fueled by the recognition of its role in driving economic growth, societal well-being, and global competitiveness. Their investments ensure the advancement of scientific and technological breakthroughs, addressing critical challenges and improving various aspects of society. The contributions of China and the US as top funders highlight their dedication to fostering innovation and securing their positions as leaders in scientific research and development.\n",
    "\n",
    "However, we also need to note that the dataset may be skewed in numbers as the collection of funders may not be that accurate due to a lot of articles not having funders, and some of them are not loaded into the CrossRef dataset. Nevertheless, the overall insight from the data aligns with the expectation of these two of the most developed nations leading in the field of research."
   ]
  },
  {
   "cell_type": "markdown",
   "id": "f54804e4",
   "metadata": {},
   "source": [
    "<h3 style=\"background-color:#515a59;color:#ffffff;padding:10px;\">Network and Connections</h3>"
   ]
  },
  {
   "cell_type": "markdown",
   "id": "39f2ec5f",
   "metadata": {},
   "source": [
    "<span style=\"color:#003b7f; font-size:17px\"><i>Yearly Trend in the Network Growth</i></span>"
   ]
  },
  {
   "cell_type": "code",
   "execution_count": 5,
   "id": "305dcd8f",
   "metadata": {
    "ExecuteTime": {
     "end_time": "2023-06-09T09:29:25.702913Z",
     "start_time": "2023-06-09T09:29:25.691164Z"
    }
   },
   "outputs": [],
   "source": [
    "network_stats = pd.read_csv('data/yearly_network.csv')"
   ]
  },
  {
   "cell_type": "code",
   "execution_count": 6,
   "id": "da048fbf",
   "metadata": {
    "ExecuteTime": {
     "end_time": "2023-06-09T09:29:27.852320Z",
     "start_time": "2023-06-09T09:29:27.842067Z"
    }
   },
   "outputs": [],
   "source": [
    "# define period of analysis\n",
    "date_list = [1980, 1981, 1982, 1983, 1984, 1985, 1986, 1987, 1988,\n",
    "             1989, 1990, 1991, 1992, 1993, 1994, 1995, 1996, 1997,\n",
    "             1998, 1999, 2000, 2001, 2002, 2003, 2004, 2005, 2006, 2007, 2008,\n",
    "             2009, 2010, 2011, 2012, 2013, 2014, 2015, 2016, 2017, 2018, 2019,\n",
    "             2020, 2021, 2022, 2023]"
   ]
  },
  {
   "cell_type": "code",
   "execution_count": 8,
   "id": "6d58073a",
   "metadata": {
    "ExecuteTime": {
     "end_time": "2023-06-09T09:29:40.968660Z",
     "start_time": "2023-06-09T09:29:40.651952Z"
    }
   },
   "outputs": [
    {
     "data": {
      "image/png": "[encoded data removed]",
      "text/plain": [
       "<Figure size 1500x600 with 2 Axes>"
      ]
     },
     "metadata": {},
     "output_type": "display_data"
    }
   ],
   "source": [
    "df_plt = network_stats.loc[network_stats.published_year.isin(date_list)]\n",
    "\n",
    "# Create the plot\n",
    "fig, ax1 = plt.subplots(figsize=(15, 6))\n",
    "\n",
    "color1 = '#5fb0c5' # authors: blue\n",
    "color2 = '#f3c953' # affiliations: yellow\n",
    "\n",
    "# Plot 'avg_num_authors' on the first y-axis\n",
    "ax1.plot(df_plt['published_year'], df_plt['avg_num_authors'],\n",
    "         color=color1, linestyle='-', label='Average Num Authors')\n",
    "ax1.set_xlabel('', fontsize=12)\n",
    "ax1.set_ylabel('Average No. of Authors', color=color1, fontsize=12)\n",
    "ax1.tick_params('y', colors=color1)\n",
    "\n",
    "# Add a grid\n",
    "ax1.grid(True, linewidth=0.25)\n",
    "ax1.xaxis.set_tick_params(labelsize=12)\n",
    "ax1.yaxis.set_tick_params(labelsize=12)\n",
    "\n",
    "# Remove the right and top spines\n",
    "ax1.spines['right'].set_visible(False)\n",
    "ax1.spines['top'].set_visible(False)\n",
    "\n",
    "# Create the second y-axis\n",
    "ax2 = ax1.twinx()\n",
    "\n",
    "# Plot 'avg_num_affiliations' on the second y-axis\n",
    "ax2.plot(df_plt['published_year'], df_plt['avg_num_affiliations'],\n",
    "         color=color2, linestyle='-', label='Average Num Affiliations',\n",
    "         linewidth=1.5,)\n",
    "ax2.set_ylabel('Average No. of Affiliations', color=color2, fontsize=12)\n",
    "ax2.tick_params('y', colors=color2)\n",
    "\n",
    "# Remove the right and top spines for the second y-axis\n",
    "ax2.xaxis.set_tick_params(labelsize=12)\n",
    "ax2.yaxis.set_tick_params(labelsize=12)\n",
    "ax2.spines['right'].set_visible(False)\n",
    "ax2.spines['top'].set_visible(False)\n",
    "\n",
    "# Display the legend and show the plot\n",
    "# fig.legend(loc='center')\n",
    "plt.show()"
   ]
  },
  {
   "cell_type": "markdown",
   "id": "ea9bc784",
   "metadata": {},
   "source": [
    "<div>\n",
    "    <p style=\"font-size:10px;font-style:default;text-align:center\">\n",
    "        <b>Figure 8. Network Growth Year-on-Year.</b><br>\n",
    "        <i>Trend in terms of network growth in terms of average number of authors per affiliation.</i>\n",
    "    </p>\n",
    "</div>\n",
    "<br>"
   ]
  },
  {
   "cell_type": "markdown",
   "id": "42357f2c",
   "metadata": {},
   "source": [
    "We see in Figure 8 the upward trend on the average number of authors per affiliation or institution. In 2022, there is at least five authors with at least two affiliations. Such rising number of authors and its associated affiliations in research publications indicates a growing collaborative nature within the research community and the recognition of the value of interdisciplinary and multidisciplinary approaches. Such creates more diversity on expertise, resources, and data, promotes more knowledge exchange, and fosters innovation. There is a high potential of policy changes if such innovative and collaborative environment is imminent amongst the community. As research problems become more complex and interconnected, thanks to the advent of internet, this growth in network shall continue, paving the way to more collaborations crucial in driving progress not just in the scientific community but in society in general, addressing challenges of the modern and of the near future times.\n",
    "<br>"
   ]
  },
  {
   "cell_type": "markdown",
   "id": "d05b51e1",
   "metadata": {},
   "source": [
    "<h3 style=\"background-color:#5fb0c5;color:#000000;padding:10px;\">Timeliness and Accessibility</h3>"
   ]
  },
  {
   "cell_type": "markdown",
   "id": "9a835ce9",
   "metadata": {},
   "source": [
    "<span style=\"color:#003b7f; font-size:17px\"><i>Yearly Trend in the Number of Publications</i></span>"
   ]
  },
  {
   "cell_type": "code",
   "execution_count": 12,
   "id": "c6975f2a",
   "metadata": {
    "ExecuteTime": {
     "end_time": "2023-06-08T12:15:31.474985Z",
     "start_time": "2023-06-08T12:15:31.468527Z"
    }
   },
   "outputs": [],
   "source": [
    "publish_count = pd.read_csv('data/crossref_publish_count.csv')"
   ]
  },
  {
   "cell_type": "code",
   "execution_count": 13,
   "id": "5b61acb9",
   "metadata": {
    "ExecuteTime": {
     "end_time": "2023-06-08T12:15:31.482693Z",
     "start_time": "2023-06-08T12:15:31.477214Z"
    }
   },
   "outputs": [],
   "source": [
    "top_year = publish_count.sort_values('count_published',\n",
    "                                     ascending=False)\n",
    "top_year = top_year.reset_index()\n",
    "top_year = top_year.drop('index', axis=1)"
   ]
  },
  {
   "cell_type": "code",
   "execution_count": 14,
   "id": "d6ef41a7",
   "metadata": {
    "ExecuteTime": {
     "end_time": "2023-06-08T12:15:31.680109Z",
     "start_time": "2023-06-08T12:15:31.485272Z"
    }
   },
   "outputs": [
    {
     "data": {
      "image/png": "[encoded data removed]",
      "text/plain": [
       "<Figure size 1500x600 with 1 Axes>"
      ]
     },
     "metadata": {},
     "output_type": "display_data"
    }
   ],
   "source": [
    "# figure size\n",
    "fig, ax = plt.subplots(figsize=(15, 6))\n",
    "\n",
    "# plot line\n",
    "ax.plot(publish_count['year'].tolist(),\n",
    "        publish_count['count_published'].tolist(),\n",
    "        color='#5fb0c5',\n",
    "        linestyle='-',\n",
    "        linewidth=1.5,\n",
    "       )\n",
    "\n",
    "# format chart\n",
    "formatter = tick.FuncFormatter(lambda x, p: format(int(x), ','))\n",
    "ax.yaxis.set_major_formatter(formatter)\n",
    "ax.spines[['right', 'top']].set_visible(False)\n",
    "ax.xaxis.set_tick_params(labelsize=12)\n",
    "ax.yaxis.set_tick_params(labelsize=12)\n",
    "\n",
    "# highest point\n",
    "ax.axvline(x=2022,\n",
    "           zorder=0,\n",
    "           color='#d8d2c6',\n",
    "           ls='--',\n",
    "           lw=1.5)\n",
    "\n",
    "# labels\n",
    "ax.set_xlabel('Year', fontsize=12)\n",
    "ax.set_ylabel('Count', fontsize=12)\n",
    "\n",
    "# show plot\n",
    "plt.grid(True, linewidth=0.25)\n",
    "plt.xlim([2000, 2023])\n",
    "plt.show()"
   ]
  },
  {
   "cell_type": "markdown",
   "id": "6049316d",
   "metadata": {},
   "source": [
    "<div>\n",
    "    <p style=\"font-size:10px;font-style:default;text-align:center\">\n",
    "        <b>Figure 9. Publication Count Year-on-Year.</b><br>\n",
    "        <i>Annual trend in terms of publication count.</i>\n",
    "    </p>\n",
    "</div>\n",
    "<br>"
   ]
  },
  {
   "cell_type": "markdown",
   "id": "b4356807",
   "metadata": {},
   "source": [
    "We can see the **continuous rise in publications** year-on-year (see Figure 9) and can be attributed to several factors. Firstly, the expansion of research fields and the emergence of new disciplines lead to a need for exploring and documenting new knowledge. Secondly, advancements in technology have made research easier and faster, enabling researchers to conduct and publish a greater volume of work. Additionally, the availability of funding and support for research has increased, encouraging researchers to carry out their work and disseminate their findings. Global collaboration facilitated by communication technologies has increased knowledge sharing and the number of collaborative research projects. The \"**publish or perish**\" culture in academia, which emphasizes publishing for career advancement, and the **open access movement** advocating for free access to research have also contributed to the rise in publications.\n",
    "\n",
    "While the increase in publications reflects the growth of knowledge, it also poses challenges such as information overload and the need for effective **peer review and quality assurance**. However, overall, these factors collectively contribute to the continuous rise in publications year after year.\n",
    "\n",
    "**The dip at the end** is because the data for 2023 is only until the month of April, and we may need to wait until next year to see the full insight for 2023."
   ]
  },
  {
   "cell_type": "markdown",
   "id": "8641a71e",
   "metadata": {},
   "source": [
    "<span style=\"color:#003b7f; font-size:17px\"><i>Yearly Trend in the Data Science Publications</i></span>"
   ]
  },
  {
   "cell_type": "code",
   "execution_count": 15,
   "id": "1ea907ce",
   "metadata": {
    "ExecuteTime": {
     "end_time": "2023-06-08T12:15:31.689074Z",
     "start_time": "2023-06-08T12:15:31.682476Z"
    }
   },
   "outputs": [],
   "source": [
    "ds_count = pd.read_csv('data/yearly_data_science_count.csv')"
   ]
  },
  {
   "cell_type": "code",
   "execution_count": 16,
   "id": "03fb1c64",
   "metadata": {
    "ExecuteTime": {
     "end_time": "2023-06-08T12:15:31.909185Z",
     "start_time": "2023-06-08T12:15:31.691408Z"
    }
   },
   "outputs": [
    {
     "data": {
      "image/png": "[encoded data removed]",
      "text/plain": [
       "<Figure size 1500x600 with 1 Axes>"
      ]
     },
     "metadata": {},
     "output_type": "display_data"
    }
   ],
   "source": [
    "# figure size\n",
    "fig, ax = plt.subplots(figsize=(15, 6))\n",
    "\n",
    "# plot line\n",
    "ax.plot(ds_count['year'].tolist(),\n",
    "        ds_count['count'].tolist(),\n",
    "        color='#5fb0c5',\n",
    "        linestyle='-',\n",
    "        linewidth=1.5,\n",
    "       )\n",
    "\n",
    "# format chart\n",
    "formatter = tick.FuncFormatter(lambda x, p: format(int(x), ','))\n",
    "ax.yaxis.set_major_formatter(formatter)\n",
    "ax.spines[['right', 'top']].set_visible(False)\n",
    "ax.xaxis.set_tick_params(labelsize=12)\n",
    "ax.yaxis.set_tick_params(labelsize=12)\n",
    "\n",
    "# highest point\n",
    "ax.axvline(x=2022,\n",
    "           zorder=0,\n",
    "           color='#d8d2c6',\n",
    "           ls='--',\n",
    "           lw=1)\n",
    "\n",
    "# labels\n",
    "ax.set_xlabel('Year', fontsize=12)\n",
    "ax.set_ylabel('Count', fontsize=12)\n",
    "\n",
    "# show plot\n",
    "plt.grid(True, linewidth=0.25)\n",
    "plt.xlim([1980, 2023])\n",
    "plt.show()"
   ]
  },
  {
   "cell_type": "markdown",
   "id": "d9599881",
   "metadata": {},
   "source": [
    "<div>\n",
    "    <p style=\"font-size:10px;font-style:default;text-align:center\">\n",
    "        <b>Figure 10. Data Science Publications Year-on-Year.</b><br>\n",
    "        <i>Annual trend in terms of publication count of data science-related research studies.</i>\n",
    "    </p>\n",
    "</div>\n",
    "<br>"
   ]
  },
  {
   "cell_type": "markdown",
   "id": "5ea61595",
   "metadata": {},
   "source": [
    "Data science currently represents approximately 1% of the published articles, but its significance is rapidly growing due to several factors. Firstly, the explosion of digital data and the increasing availability of data collection tools have created a massive pool of information. As organizations realize the potential value hidden within their data, the demand for data scientists who can extract insights and make data-driven decisions has surged. This demand has propelled the growth of data science as a field and contributed to its increasing presence in published research.\n",
    "\n",
    "Secondly, advancements in AI technologies, particularly ChatGPT and transformers, have revolutionized the capabilities of data science. ChatGPT, as a language model, and transformers, as a core component of various models, have significantly improved natural language understanding, text analysis, and information extraction from large datasets. These technologies have empowered data scientists to explore complex data, generate meaningful insights, and communicate their findings more effectively. By leveraging the power of AI, data scientists can delve deeper into data analysis, discover patterns, and develop more accurate predictive models, ultimately leading to the growth of data science publications (see Figure 10).\n",
    "\n",
    "Looking ahead to 2023 and beyond, the growth of data science is expected to accelerate even further, largely driven by the integration of ChatGPT and transformers into the field. These technologies have the potential to enhance data science research by providing powerful tools for natural language processing, data exploration, and knowledge sharing. ChatGPT can assist researchers in analyzing and understanding complex datasets, while transformers enable advanced language understanding and modeling. As data scientists continue to harness the capabilities of these AI technologies, they will be able to uncover deeper insights, develop more sophisticated models, and contribute to the expanding body of published work in data science."
   ]
  },
  {
   "cell_type": "markdown",
   "id": "8739f4fb",
   "metadata": {},
   "source": [
    "<h2 style=\"color:#003b7f;\">Cleaned Data</h2>"
   ]
  },
  {
   "cell_type": "markdown",
   "id": "a102ad4e",
   "metadata": {},
   "source": [
    "<div>\n",
    "    <p style=\"font-size:10px;font-style:default;text-align:left;color:gray;\">\n",
    "        <i><b>Note:</b> The cleaning and exploration of the cleaned dataset were performed in a separate notebook to maintain the efficiency and readability of this notebook. By doing so, we ensure that the cells in this notebook do not become burdened with lengthy loading processes.</i>\n",
    "    </p>\n",
    "</div>"
   ]
  },
  {
   "cell_type": "markdown",
   "id": "03d7b9e0",
   "metadata": {},
   "source": [
    "After conducting data cleaning and preprocessing in a separate notebook, we have successfully transformed the raw dataset. The cleaned data now consists of 2,031,463 rows and 20 columns, reflecting a more refined and usable form for our analysis. As shown in Figure 11, the total size of the cleaned data is `209.4GB`."
   ]
  },
  {
   "cell_type": "markdown",
   "id": "1a18af99",
   "metadata": {},
   "source": [
    "![processed_size.png](images/processed_size.png)\n",
    "<div>\n",
    "    <p style=\"font-size:10px;font-style:default;text-align:center\">\n",
    "        <b>Figure 11. Raw Data Size.</b><br>\n",
    "        <i>The total size of the cleaned dataset is 209.4GB.</i>\n",
    "    </p>\n",
    "</div>\n",
    "<br>"
   ]
  },
  {
   "cell_type": "markdown",
   "id": "9346347e",
   "metadata": {},
   "source": [
    "```python\n",
    "fpath = \"s3://s3bucketemr-sydney/cleaned_3/opportunity_data\"\n",
    "\n",
    "df_cleaned = (spark.read.parquet(fpath,\n",
    "                         header=True,\n",
    "                         inferSchema=True))\n",
    "```"
   ]
  },
  {
   "cell_type": "markdown",
   "id": "0406f4cd",
   "metadata": {},
   "source": [
    "```python\n",
    "df_cleaned.printSchema()\n",
    "```\n",
    "<br>\n",
    "\n",
    "```\n",
    "root\n",
    " |-- title: string (nullable = true)\n",
    " |-- title_token_length: integer (nullable = true)\n",
    " |-- type: string (nullable = true)\n",
    " |-- abstract: string (nullable = true)\n",
    " |-- subject_list: array (nullable = true)\n",
    " |    |-- element: string (containsNull = true)\n",
    " |-- num_subjects: integer (nullable = true)\n",
    " |-- num_funder_awards: integer (nullable = true)\n",
    " |-- num_funders: integer (nullable = true)\n",
    " |-- institution_name: string (nullable = true)\n",
    " |-- institution_place: string (nullable = true)\n",
    " |-- num_authors: integer (nullable = true)\n",
    " |-- published_year: long (nullable = true)\n",
    " |-- published_month: long (nullable = true)\n",
    " |-- published_day: long (nullable = true)\n",
    " |-- issn_type: string (nullable = true)\n",
    " |-- is-referenced-by-count: long (nullable = true)\n",
    " |-- affiliation_list: array (nullable = true)\n",
    " |    |-- element: string (containsNull = true)\n",
    " |-- num_affiliations: integer (nullable = true)\n",
    " |-- cited_pct: double (nullable = true)\n",
    " |-- opportunity_index: integer (nullable = true)\n",
    "```"
   ]
  },
  {
   "cell_type": "markdown",
   "id": "4d5ae76f",
   "metadata": {},
   "source": [
    "```python\n",
    "num_rows = df_cleaned.count()  # Count the number of rows\n",
    "num_cols = len(df_cleaned.columns)  # Get the number of columns\n",
    "\n",
    "print(\"Number of rows: \", num_rows)\n",
    "print(\"Number of columns: \", num_cols)\n",
    "\n",
    "# Create a DataFrame with the number of rows and columns\n",
    "shape_data = [(num_rows, num_cols)]\n",
    "shape_schema = \"num_rows LONG, num_cols INT\"\n",
    "shape_df = spark.createDataFrame(shape_data, shape_schema)\n",
    "\n",
    "# Show the shape DataFrame\n",
    "shape_df.show()\n",
    "```\n",
    "<br>\n",
    "\n",
    "```\n",
    "Number of rows:  2031463\n",
    "Number of columns:  20\n",
    "+--------+--------+\n",
    "|num_rows|num_cols|\n",
    "+--------+--------+\n",
    "| 2031463|      20|\n",
    "+--------+--------+\n",
    "```\n",
    "<br>"
   ]
  },
  {
   "cell_type": "markdown",
   "id": "05ff736a",
   "metadata": {},
   "source": [
    "After performing the data cleaning and preprocessing in a separate notebook, our cleaned data now consists of 2,031,463 rows and 20 columns.\n",
    "\n",
    "Here, we examine our target variable and observe that it exhibits a relatively balanced distribution. The target variable, referred to as the \"opportunity index\" (OI), is defined as follows:\n",
    "\n",
    "\\begin{equation*}\n",
    "\\text{Opportunity Index} = \\begin{cases} \n",
    "      0 & \\text{if } R_x \\leq \\text{P50} \\text{ (Low)} \\\\\n",
    "      1 & \\text{if } R_x > \\text{P50} \\text{ (High)}\n",
    "   \\end{cases}\n",
    "\\end{equation*}\n",
    "\n",
    "where $R_x$ represents the percentile rank of a research paper, $x$ based on the number of times it was cited by others. This classification enables us to differentiate research papers based on their citation impact and assess the corresponding opportunities they possess within the academic community."
   ]
  },
  {
   "cell_type": "markdown",
   "id": "2f6f102c",
   "metadata": {},
   "source": [
    "```python\n",
    "df_cleaned.select('opportunity_index').groupBy('opportunity_index').count().show()\n",
    "```\n",
    "<br>\n",
    "\n",
    "```\n",
    "+-----------------+-------+\n",
    "|opportunity_index|  count|\n",
    "+-----------------+-------+\n",
    "|                0|1060056|\n",
    "|                1| 971407|\n",
    "+-----------------+-------+\n",
    "```\n",
    "<br>"
   ]
  },
  {
   "cell_type": "markdown",
   "id": "a7f616f2",
   "metadata": {
    "ExecuteTime": {
     "end_time": "2023-06-08T09:28:59.535003Z",
     "start_time": "2023-06-08T09:28:59.526419Z"
    }
   },
   "source": [
    "After checking the columns of the cleaned data, we find that it contains zero null values. Here is the summary:"
   ]
  },
  {
   "cell_type": "markdown",
   "id": "ab187db9",
   "metadata": {},
   "source": [
    "```python\n",
    "null_counts = df_cleaned.select([sum(col(column).isNull().cast('int')).alias(column) for column in df_cleaned.columns]).cache()\n",
    "\n",
    "# Define the column names and values\n",
    "column_1 = null_counts.columns\n",
    "column_2 = list(null_counts.collect()[0].asDict().values())\n",
    "\n",
    "# Combine the column names and values using zip\n",
    "data_null = zip(column_1, column_2)\n",
    "\n",
    "# Create the DataFrame\n",
    "null_count_df = spark.createDataFrame(data_null, schema=[\"Column Name\", \"Null Values\"])\n",
    "null_count_df.show()\n",
    "```\n",
    "<br>\n",
    "\n",
    "```\n",
    "+--------------------+-----------+\n",
    "|         Column Name|Null Values|\n",
    "+--------------------+-----------+\n",
    "|               title|          0|\n",
    "|  title_token_length|          0|\n",
    "|                type|          0|\n",
    "|            abstract|          0|\n",
    "|        subject_list|          0|\n",
    "|        num_subjects|          0|\n",
    "|   num_funder_awards|          0|\n",
    "|         num_funders|          0|\n",
    "|    institution_name|          0|\n",
    "|   institution_place|          0|\n",
    "|         num_authors|          0|\n",
    "|      published_year|          0|\n",
    "|     published_month|          0|\n",
    "|       published_day|          0|\n",
    "|           issn_type|          0|\n",
    "|is-referenced-by-...|          0|\n",
    "|    affiliation_list|          0|\n",
    "|    num_affiliations|          0|\n",
    "|           cited_pct|          0|\n",
    "|   opportunity_index|          0|\n",
    "+--------------------+-----------+\n",
    "```\n",
    "<br>\n",
    "\n",
    "---"
   ]
  },
  {
   "cell_type": "markdown",
   "id": "8615c8fe",
   "metadata": {},
   "source": [
    "<h1 style=\"background-color:#003b7f;color:#ffffff;padding:20px\">Predictive Modeling</h1>"
   ]
  },
  {
   "cell_type": "markdown",
   "id": "aede706a",
   "metadata": {},
   "source": [
    "<div>\n",
    "    <p style=\"font-size:10px;font-style:default;text-align:left;color:gray;\">\n",
    "        <i><b>Note:</b> The predictive model phase of the project was performed in a separate notebook to maintain the efficiency and readability of this notebook. By doing so, we ensure that the cells in this notebook do not become burdened with lengthy loading processes.</i>\n",
    "    </p>\n",
    "</div>"
   ]
  },
  {
   "cell_type": "markdown",
   "id": "609e7440",
   "metadata": {},
   "source": [
    "<h2 style=\"color:#003b7f;\">Data Sampling</h2>"
   ]
  },
  {
   "cell_type": "markdown",
   "id": "6f1f8dad",
   "metadata": {},
   "source": [
    "Earlier, we determined that our data contains 2,031,463 samples. In order to improve runtime and execution speed, we need to reduce this size. However, before doing so, we must determine the appropriate sample size that will yield a reliable output. To accomplish this, we need to calculate both the desired sample size and the margin of error, given that our target sample size is 2000.\n",
    "\n",
    "*A separate notebook `predictive_modeling_pyspark.ipynb` is provided.*"
   ]
  },
  {
   "cell_type": "markdown",
   "id": "fd905a14",
   "metadata": {},
   "source": [
    "<h3 style=\"color:#003b7f;\">Calculating the Sample Size</h3>"
   ]
  },
  {
   "cell_type": "markdown",
   "id": "bf65fd17",
   "metadata": {},
   "source": [
    "We have developed a helper function to calculate the sample size based on the following parameters:\n",
    "\n",
    " - Confidence Level: 95%\n",
    " - Margin of Error: 5%\n",
    " - Population Proportion: 47.8%\n",
    " - Population Size: 2,031,463\n",
    "\n",
    "Using these inputs, we determined that a sample size of only `384` is sufficient to generate a reliable output."
   ]
  },
  {
   "cell_type": "markdown",
   "id": "6a1d8368",
   "metadata": {},
   "source": [
    "```python\n",
    "def calculate_sample_size(confidence_level, margin_of_error, population_proportion, population_size):\n",
    "    # Calculate the critical value based on the confidence level\n",
    "    z_score = 1.96  # Approximation for 95% confidence level\n",
    "    \n",
    "    # Calculate the sample size formula: n = (z^2 * p * (1 - p)) / (E^2)\n",
    "    numerator = z_score**2 * population_proportion * (1 - population_proportion)\n",
    "    denominator = margin_of_error**2\n",
    "    sample_size = (numerator // denominator) + 1\n",
    "    \n",
    "    # Adjust the sample size for finite populations\n",
    "    sample_size_adjusted = sample_size // (1 + ((sample_size - 1) // population_size))\n",
    "    \n",
    "    return sample_size_adjusted\n",
    "\n",
    "# Define the input values\n",
    "confidence_level = 0.95\n",
    "margin_of_error = 0.05\n",
    "population_proportion = 0.478\n",
    "population_size = 2031463\n",
    "\n",
    "# Calculate the sample size\n",
    "sample_size = calculate_sample_size(confidence_level, margin_of_error, population_proportion, population_size)\n",
    "\n",
    "# Print the sample size\n",
    "print(\"Confidence Level:\", confidence_level)\n",
    "print(\"Margin of Error:\", margin_of_error)\n",
    "print(\"Population Proportion:\", population_proportion)\n",
    "print(\"Population Size:\", population_size)\n",
    "print(\"Sample Size:\", sample_size)\n",
    "```\n",
    "<br>\n",
    "\n",
    "```\n",
    "Confidence Level: 0.95\n",
    "Margin of Error: 0.05\n",
    "Population Proportion: 0.478\n",
    "Population Size: 2031463\n",
    "Sample Size: 384.0\n",
    "```\n",
    "<br>"
   ]
  },
  {
   "cell_type": "markdown",
   "id": "e81809fd",
   "metadata": {},
   "source": [
    "<h3 style=\"color:#003b7f;\">Calculating the Margin of Error for a Sample Size of 2000</h3>"
   ]
  },
  {
   "cell_type": "markdown",
   "id": "4f4f651f",
   "metadata": {},
   "source": [
    "Furthermore, we have created a helper function to calculate the margin of error when the sample size is increased from 384 to 2000. The function takes the following inputs into account:\n",
    "\n",
    " - Confidence Level: 95%\n",
    " - Sample Size: 2000\n",
    " - Population Proportion: 47.8%\n",
    " - Population Size: 2,031,463\n",
    "\n",
    "With this adjustment, we observe a notable decrease in the margin of error to 2.19%, which is a more desirable outcome."
   ]
  },
  {
   "cell_type": "markdown",
   "id": "f0196686",
   "metadata": {},
   "source": [
    "```python\n",
    "def calculate_margin_of_error(sample_size, confidence_level, population_proportion, population_size):\n",
    "    # Calculate the critical value based on the confidence level\n",
    "    z_score = 1.96  # Approximation for 95% confidence level\n",
    "\n",
    "    # Calculate the margin of error formula: E = z * ((p * (1 - p)) / (n - 1)) ** (1/2)\n",
    "    numerator = population_proportion * (1 - population_proportion)\n",
    "    denominator = sample_size - 1\n",
    "    margin_of_error = z_score * ((numerator / denominator) ** (1/2))\n",
    "\n",
    "    # Adjust the margin of error for finite populations\n",
    "    margin_of_error_adjusted = margin_of_error * ((population_size - sample_size) / (population_size - 1)) ** (1/2)\n",
    "\n",
    "    return margin_of_error_adjusted\n",
    "\n",
    "# Define the input values\n",
    "sample_size = 2000\n",
    "confidence_level = 0.95\n",
    "population_proportion = 0.478\n",
    "population_size = 2031463\n",
    "\n",
    "# Calculate the margin of error\n",
    "margin_of_error = calculate_margin_of_error(sample_size, confidence_level, population_proportion, population_size)\n",
    "\n",
    "# Print the margin of error\n",
    "print(\"Confidence Level:\", confidence_level)\n",
    "print(\"Sample Size:\", sample_size)\n",
    "print(\"Population Proportion:\", population_proportion)\n",
    "print(\"Population Size:\", population_size)\n",
    "print(\"Margin of Error:\", margin_of_error)\n",
    "```\n",
    "<br>\n",
    "\n",
    "```\n",
    "Confidence Level: 0.95\n",
    "Sample Size: 2000\n",
    "Population Proportion: 0.478\n",
    "Population Size: 2031463\n",
    "Margin of Error: 0.02188694222926625\n",
    "```\n",
    "<br>"
   ]
  },
  {
   "cell_type": "markdown",
   "id": "0d5ac2b6",
   "metadata": {},
   "source": [
    "<h3 style=\"color:#003b7f;\">Sampling the Data</h3>"
   ]
  },
  {
   "cell_type": "markdown",
   "id": "bbeb86fa",
   "metadata": {},
   "source": [
    "Next, we will proceed with utilizing a sample size of 2000 data points to feed into our machine learning pipeline. By doing so, we achieve two important objectives:\n",
    "\n",
    "1. Facilitating faster runtime and execution.\n",
    "2. Generating reliable predictions based on the original data."
   ]
  },
  {
   "cell_type": "markdown",
   "id": "a3e0b227",
   "metadata": {},
   "source": [
    "```python\n",
    "# Limit the DataFrame to a sample of 2000 rows\n",
    "df_sampled = df_cleaned.withColumn('opportunity_index', col('opportunity_index').cast('float')).sample(False, 2000/df_cleaned.count(), seed=143).cache()\n",
    "```\n",
    "<br>"
   ]
  },
  {
   "cell_type": "markdown",
   "id": "994e63cf",
   "metadata": {},
   "source": [
    "In this step, we assess the proportionality of our target variables in the sampled data and compare it to the proportionality of the original data.\n",
    "\n",
    "The proportionality of the target variable in the sampled data closely matches that of the original data."
   ]
  },
  {
   "cell_type": "markdown",
   "id": "bc7bae73",
   "metadata": {},
   "source": [
    "```python\n",
    "df_sampled.select('opportunity_index').groupBy('opportunity_index').count().show()\n",
    "```\n",
    "<br>\n",
    "\n",
    "```\n",
    "+-----------------+-----+\n",
    "|opportunity_index|count|\n",
    "+-----------------+-----+\n",
    "|              0.0| 1067|\n",
    "|              1.0|  967|\n",
    "+-----------------+-----+\n",
    "```\n",
    "<br>"
   ]
  },
  {
   "cell_type": "markdown",
   "id": "d16f29c5",
   "metadata": {},
   "source": [
    "<h2 style=\"color:#003b7f;\">Machine Learning Pipeline</h2>"
   ]
  },
  {
   "cell_type": "markdown",
   "id": "84ebe299",
   "metadata": {},
   "source": [
    "Next, we define our machine learning pipeline:"
   ]
  },
  {
   "cell_type": "markdown",
   "id": "ffc32cb2",
   "metadata": {},
   "source": [
    "<span style=\"color:#003b7f; font-size:17px\"><i>Feature Transformation</i></span>\n",
    "\n",
    " 1. Text Data\n",
    "\n",
    "    - Tokenization: We divide the text data into individual tokens.\n",
    "    - Stopwords Removal: We eliminate common words that do not carry significant meaning.\n",
    "    - Vectorization: We transform the text data into a numerical representation using techniques such as CountVectorizer and TF-IDF. \n",
    "    \n",
    "    <br>\n",
    "    \n",
    " 2. Categorical Data\n",
    "\n",
    "    - String Indexing: We assign numerical labels to each unique category.\n",
    "    - One-hot Encoding: We represent categorical variables as binary vectors.\n",
    "    \n",
    "    <br>\n",
    "    \n",
    " 3. Numerical Data\n",
    "\n",
    "    - Since we will be using tree-based algorithms, we do not need to scale the numerical data.\n",
    "    \n",
    "    <br>\n",
    "    \n",
    " 4. Array Data\n",
    "\n",
    "    - CountVectorizer: We use CountVectorizer to represent categorical data within arrays."
   ]
  },
  {
   "cell_type": "markdown",
   "id": "5c6a1d86",
   "metadata": {},
   "source": [
    "<span style=\"color:#003b7f; font-size:17px\"><i>Feature Selection</i></span>\n",
    "\n",
    "Based on research and domain knowledge, we select features that are expected to contribute to the prediction."
   ]
  },
  {
   "cell_type": "markdown",
   "id": "89795f0e",
   "metadata": {},
   "source": [
    "<span style=\"color:#003b7f; font-size:17px\"><i>Train-Test Split</i></span>\n",
    "\n",
    "The data was partitioned into training and testing sets using a 70-30 split."
   ]
  },
  {
   "cell_type": "markdown",
   "id": "a81c7c56",
   "metadata": {},
   "source": [
    "<span style=\"color:#003b7f; font-size:17px\"><i>Hyperparameter Tuning</i></span>\n",
    "\n",
    "Hyperparameter tuning aims to find the best combination of hyperparameters for the models to improve their performance. This step was performed on each of the selected models."
   ]
  },
  {
   "cell_type": "markdown",
   "id": "0d393ed9",
   "metadata": {},
   "source": [
    "<span style=\"color:#003b7f; font-size:17px\"><i>Cross Validation and Evaluation</i></span>\n",
    "\n",
    "The performance of each model was evaluated using 5-fold cross-validation. The average train and test accuracy across the folds are calculated, along with metrics such as recall, precision, and F1 score."
   ]
  },
  {
   "cell_type": "markdown",
   "id": "773f1dc2",
   "metadata": {},
   "source": [
    "```python\n",
    "# Define stages for handling text columns\n",
    "text_cols = ['title', 'abstract']\n",
    "\n",
    "tokenizer_title = Tokenizer(inputCol='title', outputCol='tokens_title')\n",
    "tokenizer_abstract = Tokenizer(inputCol='abstract', outputCol='tokens_abstract')\n",
    "\n",
    "stopwords_remover_title = StopWordsRemover(inputCol='tokens_title', outputCol='filtered_title')\n",
    "stopwords_remover_abstract = StopWordsRemover(inputCol='tokens_abstract', outputCol='filtered_abstract')\n",
    "\n",
    "count_vectorizer_title = CountVectorizer(inputCol='filtered_title', outputCol='bow_title')\n",
    "count_vectorizer_abstract = CountVectorizer(inputCol='filtered_abstract', outputCol='bow_abstract')\n",
    "\n",
    "idf_title = IDF(inputCol='bow_title', outputCol='title_features')\n",
    "idf_abstract = IDF(inputCol='bow_abstract', outputCol='abstract_features')\n",
    "\n",
    "# Define stages for handling categorical columns\n",
    "categorical_cols = ['issn_type']\n",
    "\n",
    "indexers = [StringIndexer(inputCol=column, outputCol=f'{column}_index') for column in categorical_cols]\n",
    "ohe = [OneHotEncoder(inputCol=f'{column}_index', outputCol=f'{column}_ohe') for column in categorical_cols]\n",
    "\n",
    "def flatten(l):\n",
    "    return [item for sublist in l for item in sublist]\n",
    "\n",
    "index_ohe = flatten(list(zip(indexers, ohe)))\n",
    "\n",
    "# Define stage for handling arrays with categorical variables\n",
    "array_categorical_cols = ['subject_list', 'affiliation_list']\n",
    "\n",
    "# Create a CountVectorizer\n",
    "vectorizers = [CountVectorizer(inputCol=column, outputCol=f'{column}_vector') for column in array_categorical_cols]\n",
    "\n",
    "# Assemble the feature columns into a single vector\n",
    "assembler = VectorAssembler(inputCols=[\n",
    "                                       # 'title_features',\n",
    "                                       'abstract_features',\n",
    "                                       'issn_type_index',\n",
    "                                       # 'subject_list_vector',\n",
    "                                       'affiliation_list_vector',\n",
    "                                       'title_token_length',\n",
    "                                       'num_subjects',\n",
    "                                       'num_funder_awards',\n",
    "                                       'num_funders',\n",
    "                                       'num_authors',\n",
    "                                       # 'num_affiliations',\n",
    "                                       'published_year',\n",
    "                                       'published_month',\n",
    "                                       'published_day'\n",
    "                                      ], outputCol='selected_features')\n",
    "\n",
    "pipeline_stages = [tokenizer_title, tokenizer_abstract, stopwords_remover_title, stopwords_remover_abstract,\n",
    "                   count_vectorizer_title, count_vectorizer_abstract, idf_title, idf_abstract] + index_ohe + vectorizers + [assembler]\n",
    "\n",
    "pipeline = Pipeline(stages=pipeline_stages)\n",
    "\n",
    "\n",
    "# Fit the cross-validator to the training data\n",
    "model_transform = pipeline.fit(df_sampled)\n",
    "\n",
    "# Make predictions on the test data\n",
    "df_final = model_transform.transform(df_sampled)\n",
    "\n",
    "# Split the data into training and test sets\n",
    "train_ratio = 0.7\n",
    "test_ratio = 0.3\n",
    "seed = 42\n",
    "train_data, test_data = df_final.randomSplit([train_ratio, test_ratio], seed=seed)\n",
    "```\n",
    "<br>"
   ]
  },
  {
   "cell_type": "markdown",
   "id": "3f3cf762",
   "metadata": {},
   "source": [
    "To avoid running the PySpark code again, we will cache the data into the `train_data` and `test_data` variables."
   ]
  },
  {
   "cell_type": "markdown",
   "id": "2330fa60",
   "metadata": {},
   "source": [
    "```python\n",
    "train_data = train_data.cache()\n",
    "test_data = test_data.cache()\n",
    "```\n",
    "<br>"
   ]
  },
  {
   "cell_type": "markdown",
   "id": "d8f9ffbb",
   "metadata": {},
   "source": [
    "<h3 style=\"color:#003b7f;\">Random Forest Classifier</h3>"
   ]
  },
  {
   "cell_type": "markdown",
   "id": "8d408726",
   "metadata": {
    "ExecuteTime": {
     "end_time": "2023-06-08T09:45:38.796952Z",
     "start_time": "2023-06-08T09:45:38.785751Z"
    }
   },
   "source": [
    "To optimize the efficiency of our machine learning pipeline, we have decided to cut the Pipeline object at the assembler stage and store it in the respective train and test partitions. This allows us to avoid running the entire pipeline repeatedly.\n",
    "\n",
    "For our random forest classifier, we have defined the tuning parameters as follows:\n",
    "\n",
    " - `max_depth`: [5, 10, 15]\n",
    " - `num_trees`: [20, 50, 100]"
   ]
  },
  {
   "cell_type": "markdown",
   "id": "e0c055e7",
   "metadata": {},
   "source": [
    "```python\n",
    "rf_classifier = RandomForestClassifier(featuresCol='selected_features', labelCol='opportunity_index', maxBins=500, seed=42)\n",
    "\n",
    "# Define the parameter grid\n",
    "param_grid = ParamGridBuilder() \\\n",
    "    .addGrid(rf_classifier.maxDepth, [5, 10, 15]) \\\n",
    "    .addGrid(rf_classifier.numTrees, [20, 50, 100]) \\\n",
    "    .build()\n",
    "\n",
    "# Create a MulticlassClassificationEvaluator with metricName set to \"accuracy\"\n",
    "evaluator = MulticlassClassificationEvaluator(labelCol='opportunity_index', metricName='accuracy')\n",
    "\n",
    "# Create a cross-validator with the pipeline and parameter grid\n",
    "cross_validator = CrossValidator(estimator=rf_classifier,\n",
    "                                 estimatorParamMaps=param_grid,\n",
    "                                 evaluator=evaluator,\n",
    "                                 numFolds=5)\n",
    "```\n",
    "<br>"
   ]
  },
  {
   "cell_type": "markdown",
   "id": "2b618013",
   "metadata": {},
   "source": [
    "<span style=\"color:#003b7f; font-size:17px\"><i>Cross Validation</i></span>\n",
    "\n",
    "Fortunately, the CrossValidator in PySpark automatically selects the best model based on the provided hyperparameter grid and fits it to our training data. We can then use this best model to generate predictions for both the training data and test data, which we will use to calculate evaluation metrics."
   ]
  },
  {
   "cell_type": "markdown",
   "id": "fc1aedf9",
   "metadata": {},
   "source": [
    "```python\n",
    "# Fit the cross-validator to the training data\n",
    "model = cross_validator.fit(train_data)\n",
    "\n",
    "# Make predictions on the test data\n",
    "predictions_train = model.transform(train_data)\n",
    "\n",
    "# Make predictions on the test data\n",
    "predictions_test = model.transform(test_data)\n",
    "```\n",
    "<br>"
   ]
  },
  {
   "cell_type": "markdown",
   "id": "5a769d1e",
   "metadata": {},
   "source": [
    "<span style=\"color:#003b7f; font-size:17px\"><i>Model Evaluation</i></span>\n",
    "\n",
    "To evaluate the performance of our model, we need to establish a baseline for comparison. In classification tasks, one common baseline is the Proportional Chance Criterion (PCC).\n",
    "\n",
    "The Proportional Chance Criterion represents the expected performance when classification decisions are made randomly, taking into account the class distribution in the dataset. It provides a benchmark to assess the effectiveness of our model and determine whether it performs better than random chance.\n",
    "\n",
    "In our evaluation, we aim to surpass the baseline and demonstrate that our model's predictions are significantly better. To establish a meaningful threshold, we set our target performance at 1.25 times the Proportional Chance Criterion (1.25*PCC). If our model achieves a higher accuracy or other relevant metrics beyond this threshold, we can conclude that our predictions are considered good.\n",
    "\n",
    "By comparing our model's performance against the 1.25*PCC threshold, we can confidently assess the quality of our predictions and determine if our model outperforms random chance in making accurate classifications."
   ]
  },
  {
   "cell_type": "markdown",
   "id": "72f7ffd7",
   "metadata": {},
   "source": [
    "<span style=\"color:#003b7f; font-size:16px\"><i>PCC</i></span>\n",
    "\n",
    "To facilitate the calculation of the Proportional Chance Criterion (PCC), we have defined a convenient helper function. This function streamlines the process and allows us to calculate the PCC with ease.\n",
    "\n",
    "The PCC helper function takes into account the class distribution in the dataset and calculates the expected performance under random classification decisions. By using this function, we can obtain the PCC value, which serves as a baseline for evaluating the effectiveness of our model."
   ]
  },
  {
   "cell_type": "markdown",
   "id": "460082c6",
   "metadata": {},
   "source": [
    "```python\n",
    "def compute_pcc(df):\n",
    "    import numpy as np\n",
    "    df_count_pcc = df.groupBy('opportunity_index').count().collect()\n",
    "\n",
    "    array_count = [row_array['count'] for row_array in df_count_pcc]\n",
    "\n",
    "    pcc = 0\n",
    "    for target_counts in array_count:\n",
    "        pcc += (target_counts/np.sum(array_count))**2\n",
    "\n",
    "    return pcc\n",
    "```\n",
    "<br>"
   ]
  },
  {
   "cell_type": "markdown",
   "id": "75629be1",
   "metadata": {},
   "source": [
    "In our analysis, we calculated the Proportional Chance Criterion (PCC) to be 50.26%. To establish a benchmark for good predictions, we set a threshold of 1.25 times the PCC, which corresponds to 62.82%.\n",
    "\n",
    "To consider our predictions as good, we aim to achieve an accuracy that surpasses this threshold. By striving for an accuracy greater than 62.82%, we ensure that our model outperforms random chance and provides meaningful insights and reliable predictions."
   ]
  },
  {
   "cell_type": "markdown",
   "id": "6a13f119",
   "metadata": {},
   "source": [
    "```python\n",
    "print(f'PCC:      {compute_pcc(df_sampled)}')\n",
    "print(f'1.25*PCC: {compute_pcc(df_sampled)*1.25}')\n",
    "```\n",
    "<br>\n",
    "\n",
    "```\n",
    "PCC:      0.5012085596965645\n",
    "1.25*PCC: 0.6265106996207057\n",
    "```\n",
    "<br>"
   ]
  },
  {
   "cell_type": "markdown",
   "id": "50ccbbd3",
   "metadata": {},
   "source": [
    "<span style=\"color:#003b7f; font-size:16px\"><i>Accuracy</i></span>\n",
    "\n",
    "To assess the performance of our random forest model, we employed an evaluator to calculate the accuracy of the predictions. The results are as follows:\n",
    "\n",
    "- Train Accuracy: 91.30%\n",
    "- Test Accuracy: 66.88%\n",
    "\n",
    "With our model, we have already surpassed the baseline accuracy of 62.65%. Achieving a test accuracy of 66.88% indicates that our model is performing well and providing predictions that outperform random chance. This suggests that our model is capable of capturing meaningful patterns and making reliable predictions on unseen data."
   ]
  },
  {
   "cell_type": "markdown",
   "id": "5bece772",
   "metadata": {},
   "source": [
    "```python\n",
    "from pyspark.ml.evaluation import MulticlassClassificationEvaluator\n",
    "\n",
    "# Evaluate the model\n",
    "evaluator = MulticlassClassificationEvaluator(labelCol='opportunity_index', metricName='accuracy')\n",
    "accuracy_train = evaluator.evaluate(predictions_train)\n",
    "accuracy_test = evaluator.evaluate(predictions_test)\n",
    "\n",
    "# Print the accuracy\n",
    "print(f\"Train Accuracy: {accuracy_train}\")\n",
    "print(f\"Test Accuracy:  {accuracy_test}\")\n",
    "```\n",
    "<br>\n",
    "\n",
    "```\n",
    "Train Accuracy: 0.9130742049469964\n",
    "Test Accuracy:  0.6688206785137318\n",
    "```\n",
    "<br>"
   ]
  },
  {
   "cell_type": "markdown",
   "id": "d4aee30d",
   "metadata": {
    "ExecuteTime": {
     "end_time": "2023-06-08T09:52:02.204241Z",
     "start_time": "2023-06-08T09:52:02.189195Z"
    }
   },
   "source": [
    "In addition, we computed the precision, recall, and F1-score to further evaluate the performance of our model. Here is a summary of the results:\n",
    "\n",
    "- Accuracy: 66.88%\n",
    "- Precision: 67.59%\n",
    "- Recall: 51.96%\n",
    "- F1-Score: 58.75%\n",
    "\n",
    "These metrics provide insights into different aspects of the model's performance. The accuracy indicates the overall correctness of the predictions, while precision reflects the proportion of correctly predicted positive instances among all predicted positive instances. Recall measures the proportion of correctly predicted positive instances among all actual positive instances. The F1-score combines precision and recall into a single metric, balancing both aspects.\n",
    "\n",
    "With our model, we observe a relatively higher precision, indicating that a significant portion of the predicted positive instances are indeed correct. However, the recall is relatively lower, suggesting that the model may have difficulty capturing all the actual positive instances.\n",
    "\n",
    "Overall, while our model demonstrates a satisfactory level of accuracy, there is room for improvement, particularly in terms of recall."
   ]
  },
  {
   "cell_type": "markdown",
   "id": "87fca217",
   "metadata": {},
   "source": [
    "```python\n",
    "from pyspark.ml.evaluation import MulticlassClassificationEvaluator\n",
    "\n",
    "# Evaluate the model\n",
    "evaluator = MulticlassClassificationEvaluator(labelCol='opportunity_index', predictionCol='prediction', metricName='accuracy')\n",
    "accuracy = evaluator.evaluate(predictions_test)\n",
    "\n",
    "# Print the accuracy\n",
    "print(f\"Accuracy  : {accuracy}\")\n",
    "\n",
    "# Calculate other evaluation metrics\n",
    "tp = predictions_test.filter((predictions_test.opportunity_index == 1) & (predictions_test.prediction == 1)).count()\n",
    "tn = predictions_test.filter((predictions_test.opportunity_index == 0) & (predictions_test.prediction == 0)).count()\n",
    "fp = predictions_test.filter((predictions_test.opportunity_index == 0) & (predictions_test.prediction == 1)).count()\n",
    "fn = predictions_test.filter((predictions_test.opportunity_index == 1) & (predictions_test.prediction == 0)).count()\n",
    "\n",
    "# Calculate precision, recall, and F1-score (avoiding division by zero)\n",
    "precision = tp / (tp + fp) if (tp + fp) != 0 else 0.0\n",
    "recall = tp / (tp + fn) if (tp + fn) != 0 else 0.0\n",
    "f1_score = 2 * (precision * recall) / (precision + recall) if (precision + recall) != 0 else 0.0\n",
    "\n",
    "# Print precision, recall, and F1-score\n",
    "print(f\"Precision : {precision}\")\n",
    "print(f\"Recall    : {recall}\")\n",
    "print(f\"F1-Score  : {f1_score}\")\n",
    "```\n",
    "<br>\n",
    "\n",
    "```\n",
    "Accuracy  : 0.6688206785137318\n",
    "Precision : 0.6759259259259259\n",
    "Recall    : 0.5195729537366548\n",
    "F1-Score  : 0.5875251509054327\n",
    "```"
   ]
  },
  {
   "cell_type": "markdown",
   "id": "e90fbdbf",
   "metadata": {},
   "source": [
    "```python\n",
    "best_model = model.bestModel\n",
    "best_model\n",
    "```\n",
    "<br>"
   ]
  },
  {
   "cell_type": "markdown",
   "id": "33579700",
   "metadata": {},
   "source": [
    "<span style=\"color:#003b7f; font-size:16px\"><i>Best Model</i></span>\n",
    "\n",
    "In addition to the model evaluation and feature importance, we also extracted the best parameters for our Random Forest model. After performing hyperparameter tuning, the following parameters were determined to yield the best performance:\n",
    "\n",
    "- Max Depth: 15\n",
    "- Num Trees: 50\n",
    "\n",
    "These optimized parameters were selected through the tuning process, and they represent the configuration that maximizes the model's predictive capabilities. By fine-tuning the model's hyperparameters, we were able to enhance its performance and achieve better results."
   ]
  },
  {
   "cell_type": "markdown",
   "id": "1dd8b637",
   "metadata": {},
   "source": [
    "```python\n",
    "# Get the best model\n",
    "best_model = model.bestModel\n",
    "\n",
    "# Get the best parameters from the best model\n",
    "best_params = best_model.extractParamMap()\n",
    "\n",
    "# Print the best parameters\n",
    "print(\"Best Parameters:\")\n",
    "for param, value in best_params.items():\n",
    "    print(param.name, \":\", value)\n",
    "```\n",
    "<br>\n",
    "\n",
    "```\n",
    "Best Parameters:\n",
    "bootstrap : True\n",
    "cacheNodeIds : False\n",
    "checkpointInterval : 10\n",
    "featureSubsetStrategy : auto\n",
    "featuresCol : selected_features\n",
    "impurity : gini\n",
    "labelCol : opportunity_index\n",
    "leafCol : \n",
    "maxBins : 500\n",
    "maxDepth : 15\n",
    "maxMemoryInMB : 256\n",
    "minInfoGain : 0.0\n",
    "minInstancesPerNode : 1\n",
    "minWeightFractionPerNode : 0.0\n",
    "numTrees : 50\n",
    "predictionCol : prediction\n",
    "probabilityCol : probability\n",
    "rawPredictionCol : rawPrediction\n",
    "seed : 42\n",
    "subsamplingRate : 1.0\n",
    "```\n",
    "<br>"
   ]
  },
  {
   "cell_type": "markdown",
   "id": "cfd13361",
   "metadata": {},
   "source": [
    "<h3 style=\"color:#003b7f;\">Gradient Boosting Trees Classifier</h3>"
   ]
  },
  {
   "cell_type": "markdown",
   "id": "c626a3ff",
   "metadata": {},
   "source": [
    "Furthermore, we conducted hyperparameter tuning on the Gradient Boosting Trees Classifier. Instead of running all models as a single pipeline, we opted to perform hyperparameter tuning separately for each model. This approach promotes modularity in our code and helps reduce the likelihood of encountering memory errors or performance issues.\n",
    "\n",
    "By individually tuning the hyperparameters for each model, we can fine-tune the specific configurations that maximize their predictive capabilities. This modular approach allows us to carefully optimize each model's parameters and achieve better overall performance."
   ]
  },
  {
   "cell_type": "markdown",
   "id": "fbbc6858",
   "metadata": {},
   "source": [
    "```python\n",
    "from pyspark.ml.classification import GBTClassifier\n",
    "\n",
    "gbt_classifier = GBTClassifier(featuresCol='selected_features', labelCol='opportunity_index', maxBins=500, seed=42)\n",
    "\n",
    "# Define the parameter grid\n",
    "param_grid = ParamGridBuilder() \\\n",
    "    .addGrid(gbt_classifier.maxDepth, [5, 10]) \\\n",
    "    .addGrid(gbt_classifier.maxIter, [20]) \\\n",
    "    .build()\n",
    "\n",
    "# Create a MulticlassClassificationEvaluator with metricName set to \"accuracy\"\n",
    "evaluator = MulticlassClassificationEvaluator(labelCol='opportunity_index', metricName='accuracy')\n",
    "\n",
    "# Create a cross-validator with the pipeline and parameter grid\n",
    "cross_validator_gbm = CrossValidator(estimator=gbt_classifier,\n",
    "                                estimatorParamMaps=param_grid,\n",
    "                                evaluator=evaluator,\n",
    "                                numFolds=5)\n",
    "```\n",
    "<br>"
   ]
  },
  {
   "cell_type": "markdown",
   "id": "f00026d8",
   "metadata": {},
   "source": [
    "<span style=\"color:#003b7f; font-size:17px\"><i>Cross Validation</i></span>"
   ]
  },
  {
   "cell_type": "markdown",
   "id": "dcd01192",
   "metadata": {},
   "source": [
    "```python\n",
    "# Fit the cross-validator to the training data\n",
    "model = cross_validator_gbm.fit(train_data)\n",
    "\n",
    "# Make predictions on the test data\n",
    "predictions_train = model.transform(train_data)\n",
    "\n",
    "# Make predictions on the test data\n",
    "predictions_test = model.transform(test_data)\n",
    "```\n",
    "<br>"
   ]
  },
  {
   "cell_type": "markdown",
   "id": "4c0f882b",
   "metadata": {},
   "source": [
    "<span style=\"color:#003b7f; font-size:17px\"><i>Model Evaluation</i></span>"
   ]
  },
  {
   "cell_type": "markdown",
   "id": "db5d8381",
   "metadata": {},
   "source": [
    "<span style=\"color:#003b7f; font-size:16px\"><i>PCC</i></span>"
   ]
  },
  {
   "cell_type": "markdown",
   "id": "0b856284",
   "metadata": {},
   "source": [
    "```python\n",
    "print(f'PCC: {compute_pcc(df_sampled)}')\n",
    "print(f'1.25*PCC: {compute_pcc(df_sampled)*1.25}')\n",
    "```\n",
    "<br>\n",
    "\n",
    "```\n",
    "PCC: 0.5012085596965645\n",
    "1.25*PCC: 0.6265106996207057\n",
    "```\n",
    "<br>"
   ]
  },
  {
   "cell_type": "markdown",
   "id": "98380ae0",
   "metadata": {},
   "source": [
    "<span style=\"color:#003b7f; font-size:16px\"><i>Accuracy</i></span>"
   ]
  },
  {
   "cell_type": "markdown",
   "id": "b711b54f",
   "metadata": {},
   "source": [
    "Upon revaluating the accuracy of our model, we observed improved results compared to the random forest model.\n",
    "\n",
    "- Train Accuracy: 84.92%\n",
    "- Test Accuracy: 75.21%\n",
    "\n",
    "These accuracy scores indicate that our gradient boosting trees model performs better on test datasets compared to the random forest model. With higher accuracy on the test set, we can have increased confidence in the model's ability to generalize well to unseen data."
   ]
  },
  {
   "cell_type": "markdown",
   "id": "76b70b7e",
   "metadata": {},
   "source": [
    "```python\n",
    "from pyspark.ml.evaluation import MulticlassClassificationEvaluator\n",
    "\n",
    "# Evaluate the model\n",
    "evaluator = MulticlassClassificationEvaluator(labelCol='opportunity_index', metricName='accuracy')\n",
    "accuracy_train = evaluator.evaluate(predictions_train)\n",
    "accuracy_test = evaluator.evaluate(predictions_test)\n",
    "\n",
    "# Print the accuracy\n",
    "print(f\"Train Accuracy: {accuracy_train}\")\n",
    "print(f\"Test Accuracy:  {accuracy_test}\")\n",
    "```\n",
    "<br>\n",
    "\n",
    "```\n",
    "Train Accuracy: 0.8492176386913229\n",
    "Test Accuracy:  0.7521222410865874\n",
    "```\n",
    "<br>"
   ]
  },
  {
   "cell_type": "markdown",
   "id": "4dea2350",
   "metadata": {},
   "source": [
    "In addition to the accuracy scores, we also computed other evaluation metrics for our gradient boosting trees model.\n",
    "\n",
    "- Accuracy: 75.21%\n",
    "- Precision: 72.65%\n",
    "- Recall: 69.26%\n",
    "- F1-Score: 70.92%\n",
    "\n",
    "Notably, we see an improvement in the recall metric compared to the random forest model."
   ]
  },
  {
   "cell_type": "markdown",
   "id": "b02134cb",
   "metadata": {},
   "source": [
    "```python\n",
    "from pyspark.ml.evaluation import MulticlassClassificationEvaluator\n",
    "\n",
    "# Evaluate the model\n",
    "evaluator = MulticlassClassificationEvaluator(labelCol='opportunity_index', predictionCol='prediction', metricName='accuracy')\n",
    "accuracy = evaluator.evaluate(predictions_test)\n",
    "\n",
    "# Print the accuracy\n",
    "print(f\"Accuracy  : {accuracy}\")\n",
    "\n",
    "# Calculate other evaluation metrics\n",
    "tp = predictions_test.filter((predictions_test.opportunity_index == 1) & (predictions_test.prediction == 1)).count()\n",
    "tn = predictions_test.filter((predictions_test.opportunity_index == 0) & (predictions_test.prediction == 0)).count()\n",
    "fp = predictions_test.filter((predictions_test.opportunity_index == 0) & (predictions_test.prediction == 1)).count()\n",
    "fn = predictions_test.filter((predictions_test.opportunity_index == 1) & (predictions_test.prediction == 0)).count()\n",
    "\n",
    "# Calculate precision, recall, and F1-score (avoiding division by zero)\n",
    "precision = tp / (tp + fp) if (tp + fp) != 0 else 0.0\n",
    "recall = tp / (tp + fn) if (tp + fn) != 0 else 0.0\n",
    "f1_score = 2 * (precision * recall) / (precision + recall) if (precision + recall) != 0 else 0.0\n",
    "\n",
    "# Print precision, recall, and F1-score\n",
    "print(f\"Precision : {precision}\")\n",
    "print(f\"Recall    : {recall}\")\n",
    "print(f\"F1-Score  : {f1_score}\")\n",
    "```\n",
    "<br>\n",
    "\n",
    "```\n",
    "Accuracy  : 0.7521222410865874\n",
    "Precision : 0.726530612244898\n",
    "Recall    : 0.6926070038910506\n",
    "F1-Score  : 0.7091633466135459\n",
    "```\n",
    "<br>"
   ]
  },
  {
   "cell_type": "markdown",
   "id": "b4ab6e81",
   "metadata": {},
   "source": [
    "<span style=\"color:#003b7f; font-size:16px\"><i>Feature Importance</i></span>\n",
    "\n",
    "Considering the one-hot encoded feature used in our model, the dimensionality of our selected features is quite large, making it challenging to extract the best feature directly. However, we observed that the affiliations feature emerges as a top predictor of opportunity. Initially, when we excluded the affiliations list feature from our model, we did not surpass the baseline accuracy. However, upon incorporating the affiliations feature, the model's predictions significantly improved, surpassing the threshold of 1.25 times the Proportional Chance Criterion (PCC)."
   ]
  },
  {
   "cell_type": "markdown",
   "id": "48bfec8f",
   "metadata": {},
   "source": [
    "```python\n",
    "best_model = model.bestModel\n",
    "best_model\n",
    "```\n",
    "<br>\n",
    "\n",
    "```\n",
    "GBTClassificationModel: uid = GBTClassifier_888e559df344, numTrees=20, numClasses=2, numFeatures=52959\n",
    "```\n",
    "<br>"
   ]
  },
  {
   "cell_type": "markdown",
   "id": "28b90d3e",
   "metadata": {},
   "source": [
    "![feat.png](images/feature_importance.png)"
   ]
  },
  {
   "cell_type": "markdown",
   "id": "cc05002f",
   "metadata": {},
   "source": [
    "<div>\n",
    "    <p style=\"font-size:10px;font-style:default;text-align:center\">\n",
    "        <b>Figure 12. Feature Importance (GBT Classifier).</b><br>\n",
    "        <i>Chart showing the weight of each feature as a significant predictor to the ML model.</i>\n",
    "    </p>\n",
    "</div>\n",
    "<br>"
   ]
  },
  {
   "cell_type": "markdown",
   "id": "3f891d2c",
   "metadata": {},
   "source": [
    "<span style=\"color:#003b7f; font-size:16px\"><i>Best Model</i></span>\n",
    "\n",
    "Additionally, we can extract the best model that was used for the gradient boosting trees classifier."
   ]
  },
  {
   "cell_type": "markdown",
   "id": "21b7f889",
   "metadata": {},
   "source": [
    "```python\n",
    "# Get the best model\n",
    "best_model = model.bestModel\n",
    "\n",
    "# Get the best parameters from the best model\n",
    "best_params = best_model.extractParamMap()\n",
    "\n",
    "# Print the best parameters\n",
    "print(\"Best Parameters:\")\n",
    "for param, value in best_params.items():\n",
    "    print(param.name, \":\", value)\n",
    "```\n",
    "<br>\n",
    "\n",
    "```\n",
    "Hyperparameters: {Param(parent='GBTClassifier_dd9cf0792100', name='maxDepth', doc='Maximum depth of the tree. (>= 0) E.g., depth 0 means 1 leaf node; depth 1 means 1 internal node + 2 leaf nodes. Must be in range [0, 30].'): 5, Param(parent='GBTClassifier_dd9cf0792100', name='maxIter', doc='max number of iterations (>= 0).'): 20}\n",
    "Accuracy: 0.7423802303623883\n",
    "------------------------\n",
    "Hyperparameters: {Param(parent='GBTClassifier_dd9cf0792100', name='maxDepth', doc='Maximum depth of the tree. (>= 0) E.g., depth 0 means 1 leaf node; depth 1 means 1 internal node + 2 leaf nodes. Must be in range [0, 30].'): 10, Param(parent='GBTClassifier_dd9cf0792100', name='maxIter', doc='max number of iterations (>= 0).'): 20}\n",
    "Accuracy: 0.7212565397017039\n",
    "------------------------\n",
    "```\n",
    "<br>"
   ]
  },
  {
   "cell_type": "markdown",
   "id": "ad2e065e",
   "metadata": {},
   "source": [
    "<h3 style=\"color:#003b7f;\">Multilayer Perceptron</h3>"
   ]
  },
  {
   "cell_type": "markdown",
   "id": "c92e2f89",
   "metadata": {},
   "source": [
    "Next, we explore the application of deep learning using a simple multilayer perceptron (MLP) with two hidden layers. The first hidden layer is sized 64, and the second hidden layer is sized 32. We also perform hyperparameter tuning by adjusting the values of `maxIter` and `blockSize` in order to optimize the model's performance."
   ]
  },
  {
   "cell_type": "markdown",
   "id": "15dc52bd",
   "metadata": {},
   "source": [
    "```python\n",
    "# Define the layers for the multilayer perceptron classifier\n",
    "input_size = len(train_data.select('selected_features').first()[0])\n",
    "hidden_layer_sizes = [64, 32]  # Example sizes, you can adjust these\n",
    "output_size = 2  # Output size for binary classification\n",
    "\n",
    "# Create the multilayer perceptron classifier\n",
    "mlp_classifier = MultilayerPerceptronClassifier(\n",
    "    layers=[input_size] + hidden_layer_sizes + [output_size],\n",
    "    featuresCol='selected_features',\n",
    "    labelCol='opportunity_index',\n",
    "    seed=42\n",
    ")\n",
    "\n",
    "# Define the parameter grid\n",
    "param_grid = ParamGridBuilder() \\\n",
    "    .addGrid(mlp_classifier.maxIter, [50, 100]) \\\n",
    "    .addGrid(mlp_classifier.blockSize, [32, 64]) \\\n",
    "    .build()\n",
    "\n",
    "# Create a MulticlassClassificationEvaluator with metricName set to \"accuracy\"\n",
    "evaluator = MulticlassClassificationEvaluator(labelCol='opportunity_index', metricName='accuracy')\n",
    "\n",
    "# Create a cross-validator with the pipeline and parameter grid\n",
    "cross_validator_mlp = CrossValidator(\n",
    "    estimator=mlp_classifier,\n",
    "    estimatorParamMaps=param_grid,\n",
    "    evaluator=evaluator,\n",
    "    numFolds=5\n",
    ")\n",
    "```\n",
    "<br>"
   ]
  },
  {
   "cell_type": "markdown",
   "id": "1f7a4d7f",
   "metadata": {},
   "source": [
    "```python\n",
    "# Fit the cross-validator to the training data\n",
    "model = mlp_classifier.fit(train_data)\n",
    "\n",
    "# Make predictions on the test data\n",
    "predictions_train = model.transform(train_data)\n",
    "\n",
    "# Make predictions on the test data\n",
    "predictions_test = model.transform(test_data)\n",
    "```\n",
    "<br>"
   ]
  },
  {
   "cell_type": "markdown",
   "id": "9b2a819e",
   "metadata": {},
   "source": [
    "<span style=\"color:#003b7f; font-size:17px\"><i>Model Evaluation</i></span>"
   ]
  },
  {
   "cell_type": "markdown",
   "id": "148eddf9",
   "metadata": {},
   "source": [
    "<span style=\"color:#003b7f; font-size:16px\"><i>PCC</i></span>"
   ]
  },
  {
   "cell_type": "markdown",
   "id": "b331bb85",
   "metadata": {},
   "source": [
    "```python\n",
    "print(f'PCC: {compute_pcc(df_sampled)}')\n",
    "print(f'1.25*PCC: {compute_pcc(df_sampled)*1.25}')\n",
    "```\n",
    "<br>\n",
    "\n",
    "```\n",
    "PCC: 0.5025689537126024\n",
    "1.25*PCC: 0.6282111921407529\n",
    "```\n",
    "<br>"
   ]
  },
  {
   "cell_type": "markdown",
   "id": "e0bb2bb7",
   "metadata": {},
   "source": [
    "<span style=\"color:#003b7f; font-size:16px\"><i>Accuracy</i></span>"
   ]
  },
  {
   "cell_type": "markdown",
   "id": "6bc93af5",
   "metadata": {},
   "source": [
    "Upon evaluating our MLP model, we observed that it performed worse compared to the previous models. The accuracy results are as follows:\n",
    "\n",
    " - Train accuracy: 70.48%\n",
    " - Test accuracy: 59.25%\n",
    "\n",
    "These results indicate that the MLP model may not be as effective as the random forest and gradient boosting models in predicting the target variable."
   ]
  },
  {
   "cell_type": "markdown",
   "id": "13158d0d",
   "metadata": {},
   "source": [
    "```python\n",
    "from pyspark.ml.evaluation import MulticlassClassificationEvaluator\n",
    "\n",
    "# Evaluate the model\n",
    "evaluator = MulticlassClassificationEvaluator(labelCol='opportunity_index', metricName='accuracy')\n",
    "accuracy_train = evaluator.evaluate(predictions_train)\n",
    "accuracy_test = evaluator.evaluate(predictions_test)\n",
    "\n",
    "# Print the accuracy\n",
    "print(f\"Train Accuracy : {accuracy_train}\")\n",
    "print(f\"Test Accuracy  : {accuracy_test}\")\n",
    "```\n",
    "<br>\n",
    "\n",
    "```\n",
    "Train Accuracy : 0.6592920353982301\n",
    "Test Accuracy  : 0.5932504440497336\n",
    "```\n",
    "<br>\n",
    "\n",
    "---"
   ]
  },
  {
   "cell_type": "markdown",
   "id": "a3c1a635",
   "metadata": {},
   "source": [
    "<h1 style=\"background-color:#003b7f;color:#ffffff;padding:20px\">Results and Discussion</h1>"
   ]
  },
  {
   "cell_type": "markdown",
   "id": "17c97c2f",
   "metadata": {},
   "source": [
    "<span style=\"color:#003b7f; font-size:17px\"><i>Enablers of Opportunity</i></span>"
   ]
  },
  {
   "cell_type": "markdown",
   "id": "e515b29f",
   "metadata": {},
   "source": [
    "<span style=\"background-color:#d54949;color:#ffffff;padding:10px;\">Diversity and Quality</span>\n",
    "\n",
    "General Medicine and Biochemistry have consistently shown strong performance in terms of publications and citations over the past five years. However, in the more recent years (2021-Early 2023), we have observed significant growth in the fields of General Materials Science, Electrical & Electronic Engineering, and Industrial & Manufacturing Engineering. This growth may indicate a notable shift in focus towards interdisciplinary fields with potential for groundbreaking advancements and innovation."
   ]
  },
  {
   "cell_type": "markdown",
   "id": "2afb70fe",
   "metadata": {},
   "source": [
    "<span style=\"background-color:#f3c953;color:#000000;padding:10px;\">Financial Resources</span>\n",
    "\n",
    "China emerges as the leading funder, having supported 1.74 million publications throughout the last 42 years. This may be indicative of China's commitment to fostering a thriving research ecosystem and highlights its growing influence in the global scientific community. Notably, institutes and foundations from the United States and Germany have also made substantial contributions. This global distribution of funding support underscores the importance of resources in making researches that drive innovation and advance knowledge."
   ]
  },
  {
   "cell_type": "markdown",
   "id": "5a788d2f",
   "metadata": {},
   "source": [
    "<span style=\"background-color:#515a59;color:#ffffff;padding:10px;\">Network and Connections</span>\n",
    "\n",
    "The average number of authors involved in research publications, as well as their affiliations, has shown a consistent upward trend over the years. This suggests a growing collaborative nature within the research community, with more researchers and institutions contributing to publications.\n",
    "\n",
    "Over the years, there has been a consistent upward trend in the average number of authors collaborating in research publications, and an increase in the diversity of their affiliations. This highlights the evolving nature of scientific collaboration and growing recognition of the value of interdisciplinary research. The rise in the number of authors may indicate the increasing complexity and scale of the scientific investigations, and the recognition that multidisciplinary collaboration can lead to more comprehensive and impactful research outcomes."
   ]
  },
  {
   "cell_type": "markdown",
   "id": "881855f5",
   "metadata": {},
   "source": [
    "<span style=\"background-color:#5fb0c5;color:#000000;padding:10px;\">Timeliness and Accessibility</span>\n",
    "\n",
    "Over the past 4 decades, there has been a steady growth in the number of publications across various fields. However, it is worht noting that the portion of these publications related to Data Science and AI remains relatively low, comprising less than 1% of the total. While Data Science has gained significant attention and recognition in the recent years, there is still ample room for exploration and advancement in this rapidly evolving field."
   ]
  },
  {
   "cell_type": "markdown",
   "id": "2724c100",
   "metadata": {},
   "source": [
    "<span style=\"color:#003b7f; font-size:17px\"><i>File Loading</i></span>\n",
    "\n",
    "We spent a lot of time loading the data directly into S3 buckets from our local machines where we downloaded the files. This was a challenging exercise as we initially attempted to load them using the UI. However, some files failed to load, and since we needed to load 28,701 files, any disruption in the network would cause the load to fail, requiring manual re-uploading of the affected files. To simplify the process and improve tracking, we opted for a batch upload using scripting in the AWS CLI. We followed the same approach when transferring our bucket to another region."
   ]
  },
  {
   "cell_type": "markdown",
   "id": "1bfd21f3",
   "metadata": {},
   "source": [
    "<span style=\"color:#003b7f; font-size:17px\"><i>Predicting Opportunity</i></span>"
   ]
  },
  {
   "cell_type": "markdown",
   "id": "d886ab9a",
   "metadata": {},
   "source": [
    "<table>\n",
    "    <thead>\n",
    "        <tr>\n",
    "            <th>Classifier</th>\n",
    "            <th>Train Accuracy</th>\n",
    "            <th>Test Accuracy</th>\n",
    "            <th>Test Recall</th>\n",
    "            <th>Test Precision</th>\n",
    "            <th>Test F1-score</th>\n",
    "        </tr>\n",
    "    </thead>\n",
    "    <tbody>\n",
    "        <tr>\n",
    "            <th>Random Forest</th>\n",
    "            <td>91.3%</td>\n",
    "            <td>66.9%</td>\n",
    "            <td>51.9%</td>\n",
    "            <td>67.6%</td>\n",
    "            <td>58.8%</td>\n",
    "        </tr>\n",
    "        <tr style=\"background-color: rgb(255, 255, 204);\">\n",
    "            <th>Gradient Boosted Trees</th>\n",
    "            <td>84.9%</td>\n",
    "            <td>75.2%</td>\n",
    "            <td>69.3%</td>\n",
    "            <td>72.7%</td>\n",
    "            <td>70.9%</td>\n",
    "        </tr>\n",
    "        <tr>\n",
    "            <th>Multilayer Perceptron</th>\n",
    "            <td>70.5%</td>\n",
    "            <td>59.3%</td>\n",
    "            <td>-</td>\n",
    "            <td>-</td>\n",
    "            <td>-</td>\n",
    "        </tr>\n",
    "</table>"
   ]
  },
  {
   "cell_type": "markdown",
   "id": "ef943116",
   "metadata": {},
   "source": [
    "<div>\n",
    "    <p style=\"font-size:10px;font-style:default;text-align:center\">\n",
    "        <b>Table 4. Summary of Predictive Model Performance.</b><br>\n",
    "        <i>Comparison of the different predictive model trained and evaluated.</i>\n",
    "    </p>\n",
    "</div>"
   ]
  },
  {
   "cell_type": "markdown",
   "id": "31ff8c1d",
   "metadata": {},
   "source": [
    "Among the models evaluated, the gradient boosted (GB) trees classifier stands out as the best performer with a test accuracy of 75.2% as shown in Table 3. This accuracy exceeds the threshold of 1.25 times the Proportional Chance Criterion (1.25*PCC) and outperforms the Random Forest and MLP models.\n",
    "\n",
    "In the context of predicting opportunities from citations, the recall indicates that the model correctly identifies around 69.3% of the actual opportunities out of the total present in the data. The model captures a good portion of the positive instances, minimizing the chances of missing potential promising papers that show high likelihood for opportunities.\n",
    "\n",
    "On the other hand, the resulting precision implies that out of all the instances predicted as high opportunity by the model, approximately 72.7% of them are accurate. The model generates a relatively low number of false positives, reducing the likelihood of labeling papers with limited opportunities as promising.\n",
    "\n",
    "Overall, a recall of 69.3% and precision of 72.7% suggests that the model strikes a balance between identifying a significant portion of the actual promising papers and minimizing false positive predictions, making it an effective tool for identifying potential opportunities from citations.\n",
    "\n",
    "Also, based on the analysis of the most important feature, which is the affiliation, it is evident that it can significantly impact the citation rate and predictions. This implies that if you aim to receive more citations, it would be beneficial to join a highly reputable organization. This observation aligns with the presence of bias in the system."
   ]
  },
  {
   "cell_type": "markdown",
   "id": "e838d11a",
   "metadata": {},
   "source": [
    "<span style=\"color:#003b7f; font-size:17px\"><i>ML Models and Performance</i></span>\n",
    "\n",
    "We found that running machine learning (ML) on Spark using Pyspark to be highly advantageous. The distributed computing capabilities of Pyspark proved instrumental in handling our large 200GB-dataset efficiently. By leveraging the Parquet file format, we were able to optimize data storage and retrieval, further enhancing processing speed and reducing memory usage. Distributing the data and computations across a cluster of machines allowed for parallel processing, unlocking significant performance gains and scalability.\n",
    "\n",
    "Running ML on Spark using Pyspark offered several benefits. Firstly, it enabled us to process and analyze our massive dataset seamlessly. The distributed nature of Spark allowed us to break down the workload into smaller, manageable tasks that could be executed in parallel, significantly reducing the overall processing time. This capability was particularly valuable for iterative ML algorithms that require multiple passes over the data, as Spark's distributed processing accelerated the convergence of these models.\n",
    "\n",
    "Furthermore, Pyspark's MLlib library provided a range of ML algorithms and tools that were optimized for distributed computing. This allowed us to train ML models on our large dataset without being limited by the resources of a single machine. By harnessing the power of Spark's distributed computing, we could train more complex models and explore a broader range of ML techniques and algorithms."
   ]
  },
  {
   "cell_type": "markdown",
   "id": "6d5cac64",
   "metadata": {},
   "source": [
    "<span style=\"color:#003b7f; font-size:17px\"><i>AWS Cloud</i></span>\n",
    "\n",
    "Running on the cloud [[6]](https://www.harness.io/blog/developers-care-cloud-costs), such as using services like Amazon Web Services (AWS) EMR, S3, Studio, also provided the advantage of easy scalability, ease of collaboration, accesibility, allowing for the addition of computing instances to handle larger workloads. While there is a risk of increased costs, the pay-as-you-go model and cost management tools offered by cloud providers helped optimize budget and resource allocation. Being on the cloud also eliminated the need for managing physical infrastructure, reduced operational burden, and ensured high availability and reliability. Overall, the cloud offers flexibility, scalability, and cost-efficiency, making it a beneficial choice for storing data and running workloads.\n",
    "\n",
    "---"
   ]
  },
  {
   "cell_type": "markdown",
   "id": "43196b7c",
   "metadata": {},
   "source": [
    "<h1 style=\"background-color:#003b7f;color:#ffffff;padding:20px\">Conclusion</h1>"
   ]
  },
  {
   "cell_type": "markdown",
   "id": "f9e74a8b",
   "metadata": {},
   "source": [
    "<span style=\"color:#003b7f; font-size:17px\"><i>Enablers of Opportunity</i></span>\n",
    "\n",
    "This study highlights the importance of network and connections, and cross-disciplinary collaboration in unlocking opportunities for authors. While stable fields such as General Medicine and Biochemistry have shown consistently strong performance over the years, emerging fields like General Materials Sciences and Engineering also signals a notable shift in focus towards interdisciplinary areas with high potentials for advancements and innovation."
   ]
  },
  {
   "cell_type": "markdown",
   "id": "38ca9a19",
   "metadata": {},
   "source": [
    "<span style=\"color:#003b7f; font-size:17px\"><i>Data Quality</i></span>\n",
    "\n",
    "Data quality is of utmost importance for the Crossref dataset, currently we can gain a lot of insights however we cannot confidently use some fields as the missing values are lot. High-quality data ensures the accuracy and reliability of the information contained within the dataset. It allows researchers, publishers, and stakeholders to confidently use the dataset for analysis, research, and decision-making. By maintaining data quality standards, the Crossref dataset can continue to be a valuable resource in the academic and publishing communities, facilitating the dissemination of knowledge and driving further advancements in research."
   ]
  },
  {
   "cell_type": "markdown",
   "id": "1c9cc47c",
   "metadata": {},
   "source": [
    "<span style=\"color:#003b7f; font-size:17px\"><i>Predicting Opportunity – Feature Importance</i></span>\n",
    "\n",
    "Due to limitations, we were unable to explore a wide range of models in our analysis. However, considering the size of our dataset, it would be worth considering the implementation of Neural Networks and studying their effectiveness further. It is important to note that running the analysis across all subject areas might introduce biases related to the organizations involved. To achieve improved citation results, it might be beneficial to develop separate models for each subject area, although this approach can be costly and may require focusing on specific, high-impact fields. It is important to acknowledge that adopting this approach may yield different results across all metrics compared to our previous methods."
   ]
  },
  {
   "cell_type": "markdown",
   "id": "91dcc983",
   "metadata": {},
   "source": [
    "<span style=\"color:#003b7f; font-size:17px\"><i>ML Model and Performance</i></span>\n",
    "\n",
    "While we were able to run the descriptive queries seamlessly, we encountered challenges when attempting to process the full dataset on our EMR. Even with 6-7 instances being utilized, the task failed to complete due to the complexity of the calculations involved. As a result, we may need to strategize and design a pipeline to handle this dataset efficiently or consider working with a sample of the data while providing appropriate statistical analysis."
   ]
  },
  {
   "cell_type": "markdown",
   "id": "788d70c3",
   "metadata": {},
   "source": [
    "<span style=\"color:#003b7f; font-size:17px\"><i>AWS Cloud</i></span>\n",
    "\n",
    "While we enjoyed the perks of running on AWS cloud very conveniently we experienced huge costing when we were working on different regions as the EMR downloaded files and, as we've learned in class, AWS charges these activities. There was also an instance when one of the studios rolled back all the files and we could not find the reason for it and needed to re-do the codes. Cloud services can be expensive if not properly managed, as costs can quickly accumulate based on factors such as storage, computational resources, and data transfer. Effective management, cost optimization strategies, and monitoring usage are essential to ensure that cloud expenses remain under control and align with the organization's budget and requirements.\n",
    "\n",
    "---"
   ]
  },
  {
   "cell_type": "markdown",
   "id": "1cab192d",
   "metadata": {},
   "source": [
    "<h1 style=\"background-color:#003b7f;color:#ffffff;padding:20px\">Recommendations</h1>"
   ]
  },
  {
   "cell_type": "markdown",
   "id": "36a3f13d",
   "metadata": {},
   "source": [
    "<span style=\"color:#003b7f; font-size:17px\"><i>About the Study</i></span>\n",
    "\n",
    " - **Individual Model Per Subject Area.** Consider the creation of individual models per subject area as it may result in different important features rather than a clear dominance of the affiliation feature. However, this would require heavy resources.\n",
    " \n",
    "     This suggestion is not only the most feasible approach to address performance issues but also holds the potential to unveil new insights and identify key features across different research areas, ultimately enhancing our understanding of how to improve citation rates. By narrowing down the dataset and focusing on specific areas, we can delve deeper into the underlying factors that contribute to higher citation impact, allowing us to formulate more targeted strategies and recommendations. This comprehensive approach will enable us to optimize our analysis and provide valuable insights for researchers seeking to maximize their citation potential.\n",
    "     <br>\n",
    " - **Current Trend in Publication.** Consider as well the current trend or movement in terms of publication. The p-value involved in a research, for instance, is a metric used by publication in pre-screening research articles and papers applying for publication. Exploring this feature and how it can affect the citation opportunity for a paper may give valuable insights to future similar project.\n",
    "     <br>\n",
    " - **Impact Score.** For most of the available datasets handling research publications, including impact score as one of the features is still on its experimental stages. However, it will be easier to conduct this project with said feature, especially on predicting opportunities. Once included in the dataset, exploring the effect of impact score will definitely up the ante for similar project such as this.\n",
    "     <br>\n",
    " - **Dataset Improvement.** Given the high quality of the data, we can explore the possibility of integrating it with other datasets, such as OpenAlex or more specialized ones like PubMed, Scopus, and IEEE Xplore. By doing so, we can address any missing fields and establish a data pipeline to efficiently gather and merge this additional data, resulting in a more comprehensive, reliable, and valuable dataset. This enhanced dataset can subsequently enable us to make more accurate predictions and leverage additional features to enhance citation analysis and improve research outcomes."
   ]
  },
  {
   "cell_type": "markdown",
   "id": "38b9213e",
   "metadata": {},
   "source": [
    "<span style=\"color:#003b7f; font-size:17px\"><i>For Researchers...</i></span>\n",
    "\n",
    " - **...in Stable Fields:** Stay updated with the emerging fields of General Materials Science, Electrical & Electronic Engineering, and Industrial & Manufacturing Engineering to explore new opportunities for collaboration and research.\n",
    "     <br>\n",
    " - **...Seeking Funding Opportunities:** Encourage interdisciplinary collaborations between researchers in the stable and emerging fields.\n",
    "     <br>\n",
    " - **...in the Field of Data Science:** Consider leveraging expertise in this area to contribute to the growing demand in the field of Data Science, exploring untapped opportunities within the field.\n",
    "     <br>\n",
    " - **...in General:** Recognize the importance of your institutional affiliation and the nature of your publications in creating opportunities.\n",
    "     \n",
    "     Build and strengthen your network connections to expand collaboration opportunities and enhance the accessibility of your work.\n",
    "     \n",
    "     Stay engaged with the scientific community and leverage platforms and resources to increase the visibility and impact of your research."
   ]
  },
  {
   "cell_type": "markdown",
   "id": "c1454da7",
   "metadata": {},
   "source": [
    "<span style=\"color:#003b7f; font-size:17px\"><i>AWS Cloud</i></span>\n",
    "\n",
    "  - **Centralized and Managed Cloud.** Ideally, in a formal setting, it is recommended to have a single root account overseeing the management of all these services. Administrator accounts should be assigned separately to ensure accountability and traceability of access, while minimizing the use of the root account to mitigate potential security risks. Additionally, IAM (Identity and Access Management) users should be assigned to individuals who will be utilizing the platform, granting them appropriate permissions based on their roles and responsibilities. It is crucial to have someone designated to monitor and manage the costs of the platform to optimize resource allocation and avoid unnecessary expenses. By implementing these practices, organizations can ensure efficient and secure management of cloud services while maintaining control and oversight over access and costs.\n",
    "      <br>\n",
    "      \n",
    "  - **Loading Strategy.** Use ETL [[7]](https://www.matillion.com/resources/blog/the-importance-of-etl-tools-in-data-warehousing) tools to facilitate data loads. While Python is commonly used in our work, it's important to explore market tools that can streamline this process. In real-world scenarios, data loading becomes a recurring task, and utilizing an ETL tool with built-in features such as load retries, transfer checkpoints, logs, redundancy, and more can greatly enhance efficiency and reliability.\n",
    "  \n",
    "---"
   ]
  },
  {
   "cell_type": "markdown",
   "id": "24d238d0",
   "metadata": {},
   "source": [
    "<h1 style=\"background-color:#003b7f;color:#ffffff;padding:20px\">References</h1>"
   ]
  },
  {
   "cell_type": "markdown",
   "id": "4ae027f3",
   "metadata": {},
   "source": [
    "<span style=\"color:#003b7f; font-size:17px\"><i>Articles</i></span>\n",
    "\n",
    "[1] Williams, S. (2014). Are 90% of academic papers really never cited? Reviewing the literature on academic citations. LSE. Retrieved from https://blogs.lse.ac.uk/impactofsocialsciences/2014/04/23/academic-papers-citation-rates-remler/\n",
    "\n",
    "[2] Evelth, R. (2014). Academics Write Papers Arguing Over How Many People Read (And Cite) Their Papers. Smithsonian Magazine. Retrieved from https://www.smithsonianmag.com/smart-news/half-academic-studies-are-never-read-more-three-people-180950222/\n",
    "\n",
    "[3] Baker, S. (2018). Uncited Research. Times Higher Education. Retrieved from https://www.insidehighered.com/news/2018/04/19/study-examines-research-never-receives-citation"
   ]
  },
  {
   "cell_type": "markdown",
   "id": "1cdc3832",
   "metadata": {},
   "source": [
    "<span style=\"color:#003b7f; font-size:17px\"><i>Research</i></span>\n",
    "\n",
    "[4] Aksnes, D., Langfeldt, L., Wouters, P. (2019). Citations, Citation Indicators, and Research Quality: An Overview of Basic Concepts and Theories. Retrieved from https://journals.sagepub.com/doi/10.1177/2158244019829575\n",
    "\n",
    "[5] Thelwall, M., Mas-Bleda, A. (2020). How common are explicit research questions in journal articles? Retireved from https://direct.mit.edu/qss/article/1/2/730/96146/How-common-are-explicit-research-questions-in"
   ]
  },
  {
   "cell_type": "markdown",
   "id": "c66de39d",
   "metadata": {},
   "source": [
    "<span style=\"color:#003b7f; font-size:17px\"><i>Big Data and Cloud Computing</i></span>\n",
    "\n",
    "[6] Kim, A. (2021, Mar 31). Why Should Developers Care About Cloud Costs? [blog post]. harness. Retrieved from\n",
    "https://www.harness.io/blog/developers-care-cloud-costs.\n",
    "\n",
    "[7] The Importance of ETL Tools in Data Warehousing. (2020, Mar 27). Matillion. Retrieved from\n",
    "https://www.matillion.com/resources/blog/the-importance-of-etl-tools-in-data-warehousing#:~:text=ETL%20tools%20break%20down%20data,informed%20decisions%20in%20less%20time"
   ]
  }
 ],
 "metadata": {
  "kernelspec": {
   "display_name": "Python 3 (ipykernel)",
   "language": "python",
   "name": "python3"
  },
  "language_info": {
   "codemirror_mode": {
    "name": "ipython",
    "version": 3
   },
   "file_extension": ".py",
   "mimetype": "text/x-python",
   "name": "python",
   "nbconvert_exporter": "python",
   "pygments_lexer": "ipython3",
   "version": "3.8.17"
  },
  "toc": {
   "base_numbering": 1,
   "nav_menu": {},
   "number_sections": true,
   "sideBar": true,
   "skip_h1_title": false,
   "title_cell": "Table of Contents",
   "title_sidebar": "Contents",
   "toc_cell": false,
   "toc_position": {},
   "toc_section_display": true,
   "toc_window_display": false
  }
 },
 "nbformat": 4,
 "nbformat_minor": 5
}
